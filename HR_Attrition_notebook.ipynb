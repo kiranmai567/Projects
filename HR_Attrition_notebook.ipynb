{
 "cells": [
  {
   "cell_type": "markdown",
   "metadata": {},
   "source": [
    "# Problem Statment"
   ]
  },
  {
   "cell_type": "raw",
   "metadata": {},
   "source": [
    "Importing the required Libraries\n",
    "\n",
    "1.Data Pre-processing\n",
    "2.Reading the dataset into a variable\n",
    "3.Checking the sample data\n",
    "4.Checking the dtypes of all the columns\n",
    "5.Dropping the columns which seems to be irrelevaent\n",
    "6.Seperating the target and independent variables\n",
    "7.Extracting the year from DateofEvaluation\n",
    "8.Dropping DateOfEvaluation column after extraction\n",
    "9.USZipcode package has different features that can be extracted\n",
    "10.Extracting median_home_value, median_household_income, housing_units, occupied_housing_units from the package\n",
    "11.Storing all the values in an array and creating a new column in the dataframe with those values\n",
    "12.Taking the number of years from year of construction to year of evaluation\n",
    "13.Dropping the columns realated to geography as we extracted possible features\n",
    "14.Taking the number of empty units instead of housing units and occupied housing units\n",
    "15.Converting appropriate columns to category\n",
    "16.Splitting the data into test and train\n",
    "17.There are NA's in data after feature extraction, hence imputing them with mean for all the umeric columns Imputation.\n",
    "18.Cross checking the number of NA's\n",
    "19.Imputing with object fitted on train data\n",
    "20.Label Encoding for columns having string values\n",
    "21.Standardization using StandardScaler\n",
    "22.Dummification for the categorical columns\n",
    "\n",
    "Building the model\n",
    "Linear Regression\n",
    "DecisionTree Regression\n",
    "RandomForest Regression\n",
    "GridSearch on RandomForest\n",
    "XGBoost Regression\n",
    "SVR\n",
    "Important Features from RandomForest Grid Search\n",
    "KNN Algorithm\n",
    "Applying PCA\n",
    "Applying Regularization\n",
    "Applying Lasso Regularization"
   ]
  },
  {
   "cell_type": "markdown",
   "metadata": {},
   "source": [
    "Importing required libraries/modules:"
   ]
  },
  {
   "cell_type": "code",
   "execution_count": 167,
   "metadata": {},
   "outputs": [],
   "source": [
    "#libraries to manipulate and calculate :\n",
    "import os\n",
    "import pandas as pd\n",
    "import numpy as np\n",
    "from datetime import datetime\n",
    "\n",
    "#Libraries for visualisation:\n",
    "import seaborn as sns\n",
    "color = sns.color_palette()\n",
    "sns.set_style('darkgrid')\n",
    "import matplotlib.pyplot as plt\n",
    "\n",
    "#Modules/Functions for metrics:\n",
    "from sklearn.metrics import accuracy_score,confusion_matrix,classification_report,recall_score,precision_score,f1_score\n",
    "from sklearn.metrics import roc_curve, auc, roc_auc_score\n",
    "\n",
    "#Modules for pipeline\n",
    "from sklearn import preprocessing\n",
    "from sklearn.compose import ColumnTransformer\n",
    "from sklearn.preprocessing import OneHotEncoder\n",
    "from sklearn.pipeline import Pipeline\n",
    "\n",
    "#Module to impute\n",
    "from sklearn.impute import SimpleImputer\n",
    "\n",
    "#Module to split to data\n",
    "from sklearn.model_selection import train_test_split\n",
    "\n",
    "#Module for standardisation\n",
    "from sklearn.preprocessing import StandardScaler\n",
    "\n",
    "#Module for Visualization\n",
    "import matplotlib.pyplot as plt\n",
    "import seaborn as sns\n",
    "import plotly.express as px\n",
    "\n",
    "#Libraries for ML model_building:\n",
    "from sklearn.linear_model import LogisticRegression\n",
    "from sklearn.naive_bayes import GaussianNB\n",
    "from sklearn.neighbors import KNeighborsClassifier\n",
    "from sklearn.svm import SVC\n",
    "from sklearn.tree import DecisionTreeClassifier\n",
    "from sklearn.ensemble import RandomForestClassifier\n",
    "from xgboost.sklearn import XGBClassifier\n",
    "from sklearn.ensemble import GradientBoostingClassifier\n",
    "from sklearn.ensemble import AdaBoostClassifier\n",
    "from lightgbm import LGBMClassifier\n",
    "\n",
    "#Module for OverSampling\n",
    "from imblearn.over_sampling import SMOTE\n",
    "\n",
    "#library for Tuning models:\n",
    "from sklearn.model_selection import GridSearchCV, cross_val_score, StratifiedKFold\n",
    "%matplotlib inline\n",
    "\n",
    "#Module to ignore the warnings\n",
    "import warnings\n",
    "warnings.filterwarnings('ignore')\n",
    "\n",
    "##Limiting floats output to 3 decimal points \n",
    "pd.set_option('display.float_format', lambda x: '{:.3f}'.format(x))"
   ]
  },
  {
   "cell_type": "markdown",
   "metadata": {},
   "source": [
    "## Task-2 Load data.\n",
    "\n",
    "Load data and create dataframe.\n",
    "\n",
    "Initial data analysis."
   ]
  },
  {
   "cell_type": "code",
   "execution_count": 168,
   "metadata": {},
   "outputs": [
    {
     "name": "stdout",
     "output_type": "stream",
     "text": [
      "(245, 2)\n"
     ]
    }
   ],
   "source": [
    "#Read the given datasets\n",
    "train_attr = pd.read_csv('train_attrition.csv',na_values=[\" \",\"na\",\"NA\"])\n",
    "test_attr = pd.read_csv('test_attrition.csv',na_values=[\" \",\"na\",\"NA\"])\n",
    "train_wrk = pd.read_csv('train_work.csv',na_values=[\" \",\"na\",\"NA\"])\n",
    "test_wrk = pd.read_csv('test_work.csv',na_values=[\" \",\"na\",\"NA\"])\n",
    "emp = pd.read_csv('employee_data.csv',na_values=[\" \",\"na\",\"NA\"])\n",
    "\n",
    "print(train_attr.shape)"
   ]
  },
  {
   "cell_type": "code",
   "execution_count": 169,
   "metadata": {},
   "outputs": [
    {
     "data": {
      "text/html": [
       "<div>\n",
       "<style scoped>\n",
       "    .dataframe tbody tr th:only-of-type {\n",
       "        vertical-align: middle;\n",
       "    }\n",
       "\n",
       "    .dataframe tbody tr th {\n",
       "        vertical-align: top;\n",
       "    }\n",
       "\n",
       "    .dataframe thead th {\n",
       "        text-align: right;\n",
       "    }\n",
       "</style>\n",
       "<table border=\"1\" class=\"dataframe\">\n",
       "  <thead>\n",
       "    <tr style=\"text-align: right;\">\n",
       "      <th></th>\n",
       "      <th>EmployeeID</th>\n",
       "      <th>Left_Company</th>\n",
       "    </tr>\n",
       "  </thead>\n",
       "  <tbody>\n",
       "    <tr>\n",
       "      <td>0</td>\n",
       "      <td>emp-1</td>\n",
       "      <td>0.000</td>\n",
       "    </tr>\n",
       "    <tr>\n",
       "      <td>1</td>\n",
       "      <td>emp-10</td>\n",
       "      <td>1.000</td>\n",
       "    </tr>\n",
       "    <tr>\n",
       "      <td>2</td>\n",
       "      <td>emp-100</td>\n",
       "      <td>0.000</td>\n",
       "    </tr>\n",
       "  </tbody>\n",
       "</table>\n",
       "</div>"
      ],
      "text/plain": [
       "  EmployeeID  Left_Company\n",
       "0      emp-1         0.000\n",
       "1     emp-10         1.000\n",
       "2    emp-100         0.000"
      ]
     },
     "execution_count": 169,
     "metadata": {},
     "output_type": "execute_result"
    }
   ],
   "source": [
    "train_attr.head(3)"
   ]
  },
  {
   "cell_type": "markdown",
   "metadata": {},
   "source": [
    "### Exploring the data"
   ]
  },
  {
   "cell_type": "markdown",
   "metadata": {},
   "source": [
    "Shuffle the data.\n",
    "Shuffle the data, if the data is ordered on the levels of target.\n",
    "tennis_data = tennis_data.sample(frac=1)"
   ]
  },
  {
   "cell_type": "code",
   "execution_count": 170,
   "metadata": {},
   "outputs": [
    {
     "data": {
      "text/plain": [
       "EmployeeID            object\n",
       "TotalWorkingHours    float64\n",
       "Billable_Hours       float64\n",
       "Hours_off_Duty       float64\n",
       "Touring_Hours        float64\n",
       "NoOfProjects           int64\n",
       "ActualTimeSpent        int64\n",
       "dtype: object"
      ]
     },
     "execution_count": 170,
     "metadata": {},
     "output_type": "execute_result"
    }
   ],
   "source": [
    "# What are the data types?\n",
    "train_wrk.dtypes"
   ]
  },
  {
   "cell_type": "code",
   "execution_count": 171,
   "metadata": {},
   "outputs": [
    {
     "data": {
      "text/html": [
       "<div>\n",
       "<style scoped>\n",
       "    .dataframe tbody tr th:only-of-type {\n",
       "        vertical-align: middle;\n",
       "    }\n",
       "\n",
       "    .dataframe tbody tr th {\n",
       "        vertical-align: top;\n",
       "    }\n",
       "\n",
       "    .dataframe thead th {\n",
       "        text-align: right;\n",
       "    }\n",
       "</style>\n",
       "<table border=\"1\" class=\"dataframe\">\n",
       "  <thead>\n",
       "    <tr style=\"text-align: right;\">\n",
       "      <th></th>\n",
       "      <th>TotalWorkingHours</th>\n",
       "      <th>Billable_Hours</th>\n",
       "      <th>Hours_off_Duty</th>\n",
       "      <th>Touring_Hours</th>\n",
       "      <th>NoOfProjects</th>\n",
       "      <th>ActualTimeSpent</th>\n",
       "    </tr>\n",
       "  </thead>\n",
       "  <tbody>\n",
       "    <tr>\n",
       "      <td>count</td>\n",
       "      <td>3983.000</td>\n",
       "      <td>3983.000</td>\n",
       "      <td>3983.000</td>\n",
       "      <td>3983.000</td>\n",
       "      <td>3983.000</td>\n",
       "      <td>3983.000</td>\n",
       "    </tr>\n",
       "    <tr>\n",
       "      <td>mean</td>\n",
       "      <td>188.316</td>\n",
       "      <td>129.016</td>\n",
       "      <td>16.098</td>\n",
       "      <td>65.401</td>\n",
       "      <td>1.262</td>\n",
       "      <td>94.390</td>\n",
       "    </tr>\n",
       "    <tr>\n",
       "      <td>std</td>\n",
       "      <td>47.564</td>\n",
       "      <td>66.432</td>\n",
       "      <td>22.518</td>\n",
       "      <td>79.742</td>\n",
       "      <td>0.798</td>\n",
       "      <td>80.292</td>\n",
       "    </tr>\n",
       "    <tr>\n",
       "      <td>min</td>\n",
       "      <td>20.000</td>\n",
       "      <td>-2.000</td>\n",
       "      <td>0.000</td>\n",
       "      <td>0.000</td>\n",
       "      <td>0.000</td>\n",
       "      <td>0.000</td>\n",
       "    </tr>\n",
       "    <tr>\n",
       "      <td>25%</td>\n",
       "      <td>163.000</td>\n",
       "      <td>84.000</td>\n",
       "      <td>0.000</td>\n",
       "      <td>0.000</td>\n",
       "      <td>1.000</td>\n",
       "      <td>35.000</td>\n",
       "    </tr>\n",
       "    <tr>\n",
       "      <td>50%</td>\n",
       "      <td>188.800</td>\n",
       "      <td>145.000</td>\n",
       "      <td>8.000</td>\n",
       "      <td>0.000</td>\n",
       "      <td>1.000</td>\n",
       "      <td>77.000</td>\n",
       "    </tr>\n",
       "    <tr>\n",
       "      <td>75%</td>\n",
       "      <td>216.500</td>\n",
       "      <td>176.000</td>\n",
       "      <td>20.000</td>\n",
       "      <td>144.500</td>\n",
       "      <td>2.000</td>\n",
       "      <td>139.000</td>\n",
       "    </tr>\n",
       "    <tr>\n",
       "      <td>max</td>\n",
       "      <td>404.000</td>\n",
       "      <td>333.000</td>\n",
       "      <td>160.000</td>\n",
       "      <td>333.500</td>\n",
       "      <td>7.000</td>\n",
       "      <td>574.000</td>\n",
       "    </tr>\n",
       "  </tbody>\n",
       "</table>\n",
       "</div>"
      ],
      "text/plain": [
       "       TotalWorkingHours  Billable_Hours  Hours_off_Duty  Touring_Hours  \\\n",
       "count           3983.000        3983.000        3983.000       3983.000   \n",
       "mean             188.316         129.016          16.098         65.401   \n",
       "std               47.564          66.432          22.518         79.742   \n",
       "min               20.000          -2.000           0.000          0.000   \n",
       "25%              163.000          84.000           0.000          0.000   \n",
       "50%              188.800         145.000           8.000          0.000   \n",
       "75%              216.500         176.000          20.000        144.500   \n",
       "max              404.000         333.000         160.000        333.500   \n",
       "\n",
       "       NoOfProjects  ActualTimeSpent  \n",
       "count      3983.000         3983.000  \n",
       "mean          1.262           94.390  \n",
       "std           0.798           80.292  \n",
       "min           0.000            0.000  \n",
       "25%           1.000           35.000  \n",
       "50%           1.000           77.000  \n",
       "75%           2.000          139.000  \n",
       "max           7.000          574.000  "
      ]
     },
     "execution_count": 171,
     "metadata": {},
     "output_type": "execute_result"
    }
   ],
   "source": [
    "# What is the distribution of numerical columns\n",
    "train_wrk.describe()"
   ]
  },
  {
   "cell_type": "code",
   "execution_count": 172,
   "metadata": {},
   "outputs": [
    {
     "data": {
      "text/html": [
       "<div>\n",
       "<style scoped>\n",
       "    .dataframe tbody tr th:only-of-type {\n",
       "        vertical-align: middle;\n",
       "    }\n",
       "\n",
       "    .dataframe tbody tr th {\n",
       "        vertical-align: top;\n",
       "    }\n",
       "\n",
       "    .dataframe thead th {\n",
       "        text-align: right;\n",
       "    }\n",
       "</style>\n",
       "<table border=\"1\" class=\"dataframe\">\n",
       "  <thead>\n",
       "    <tr style=\"text-align: right;\">\n",
       "      <th></th>\n",
       "      <th>EmployeeID</th>\n",
       "      <th>Job_History</th>\n",
       "      <th>Joining_Date</th>\n",
       "      <th>Designation</th>\n",
       "    </tr>\n",
       "  </thead>\n",
       "  <tbody>\n",
       "    <tr>\n",
       "      <td>count</td>\n",
       "      <td>296</td>\n",
       "      <td>296</td>\n",
       "      <td>296</td>\n",
       "      <td>296</td>\n",
       "    </tr>\n",
       "    <tr>\n",
       "      <td>unique</td>\n",
       "      <td>296</td>\n",
       "      <td>295</td>\n",
       "      <td>61</td>\n",
       "      <td>5</td>\n",
       "    </tr>\n",
       "    <tr>\n",
       "      <td>top</td>\n",
       "      <td>emp-270</td>\n",
       "      <td>Worked at Company - 616</td>\n",
       "      <td>2012_05</td>\n",
       "      <td>Junior</td>\n",
       "    </tr>\n",
       "    <tr>\n",
       "      <td>freq</td>\n",
       "      <td>1</td>\n",
       "      <td>2</td>\n",
       "      <td>19</td>\n",
       "      <td>89</td>\n",
       "    </tr>\n",
       "  </tbody>\n",
       "</table>\n",
       "</div>"
      ],
      "text/plain": [
       "       EmployeeID              Job_History Joining_Date Designation\n",
       "count         296                      296          296         296\n",
       "unique        296                      295           61           5\n",
       "top       emp-270  Worked at Company - 616      2012_05      Junior\n",
       "freq            1                        2           19          89"
      ]
     },
     "execution_count": 172,
     "metadata": {},
     "output_type": "execute_result"
    }
   ],
   "source": [
    "# What about categorical variable levels count\n",
    "emp.describe(include=['object'])"
   ]
  },
  {
   "cell_type": "code",
   "execution_count": 173,
   "metadata": {},
   "outputs": [
    {
     "data": {
      "text/plain": [
       "EmployeeID      296\n",
       "Job_History     295\n",
       "Joining_Date     61\n",
       "Designation       5\n",
       "Sex               2\n",
       "dtype: int64"
      ]
     },
     "execution_count": 173,
     "metadata": {},
     "output_type": "execute_result"
    }
   ],
   "source": [
    "#Get uniques values in attributes\n",
    "emp.nunique()"
   ]
  },
  {
   "cell_type": "code",
   "execution_count": 174,
   "metadata": {},
   "outputs": [
    {
     "data": {
      "text/plain": [
       "Junior    89\n",
       "VP        83\n",
       "Senior    75\n",
       "EVP       36\n",
       "MD        13\n",
       "Name: Designation, dtype: int64"
      ]
     },
     "execution_count": 174,
     "metadata": {},
     "output_type": "execute_result"
    }
   ],
   "source": [
    "#To get levels in a column \n",
    "emp.Designation.value_counts()"
   ]
  },
  {
   "cell_type": "markdown",
   "metadata": {},
   "source": [
    "Distribution of dependent variable"
   ]
  },
  {
   "cell_type": "code",
   "execution_count": 175,
   "metadata": {},
   "outputs": [
    {
     "data": {
      "text/plain": [
       "0.000    218\n",
       "1.000     27\n",
       "Name: Left_Company, dtype: int64"
      ]
     },
     "execution_count": 175,
     "metadata": {},
     "output_type": "execute_result"
    }
   ],
   "source": [
    "#Distribution of dependent variable\n",
    "train_attr.Left_Company.value_counts()"
   ]
  },
  {
   "cell_type": "code",
   "execution_count": 176,
   "metadata": {},
   "outputs": [
    {
     "data": {
      "text/html": [
       "<div>\n",
       "<style scoped>\n",
       "    .dataframe tbody tr th:only-of-type {\n",
       "        vertical-align: middle;\n",
       "    }\n",
       "\n",
       "    .dataframe tbody tr th {\n",
       "        vertical-align: top;\n",
       "    }\n",
       "\n",
       "    .dataframe thead th {\n",
       "        text-align: right;\n",
       "    }\n",
       "</style>\n",
       "<table border=\"1\" class=\"dataframe\">\n",
       "  <thead>\n",
       "    <tr style=\"text-align: right;\">\n",
       "      <th></th>\n",
       "      <th>EmployeeID</th>\n",
       "      <th>Job_History</th>\n",
       "      <th>Joining_Date</th>\n",
       "      <th>Designation</th>\n",
       "      <th>Sex</th>\n",
       "    </tr>\n",
       "  </thead>\n",
       "  <tbody>\n",
       "    <tr>\n",
       "      <td>0</td>\n",
       "      <td>emp-10</td>\n",
       "      <td>Worked at Company - 816 , Company - 724 , Comp...</td>\n",
       "      <td>2006_02</td>\n",
       "      <td>VP</td>\n",
       "      <td>0</td>\n",
       "    </tr>\n",
       "    <tr>\n",
       "      <td>1</td>\n",
       "      <td>emp-108</td>\n",
       "      <td>Worked at Company - 205 , Company - 373 , Comp...</td>\n",
       "      <td>2012_01</td>\n",
       "      <td>VP</td>\n",
       "      <td>1</td>\n",
       "    </tr>\n",
       "  </tbody>\n",
       "</table>\n",
       "</div>"
      ],
      "text/plain": [
       "  EmployeeID                                        Job_History Joining_Date  \\\n",
       "0     emp-10  Worked at Company - 816 , Company - 724 , Comp...      2006_02   \n",
       "1    emp-108  Worked at Company - 205 , Company - 373 , Comp...      2012_01   \n",
       "\n",
       "  Designation  Sex  \n",
       "0          VP    0  \n",
       "1          VP    1  "
      ]
     },
     "execution_count": 176,
     "metadata": {},
     "output_type": "execute_result"
    }
   ],
   "source": [
    "#Glancing the head of the dataset\n",
    "emp.head(2)"
   ]
  },
  {
   "cell_type": "code",
   "execution_count": 177,
   "metadata": {},
   "outputs": [
    {
     "data": {
      "text/plain": [
       "0.000   88.980\n",
       "1.000   11.020\n",
       "Name: Left_Company, dtype: float64"
      ]
     },
     "execution_count": 177,
     "metadata": {},
     "output_type": "execute_result"
    }
   ],
   "source": [
    "# Check the distribution of target values\n",
    "train_attr.Left_Company.value_counts(normalize=True)*100"
   ]
  },
  {
   "cell_type": "code",
   "execution_count": 178,
   "metadata": {},
   "outputs": [
    {
     "data": {
      "image/png": "[encoded data removed]",
      "text/plain": [
       "<Figure size 432x288 with 1 Axes>"
      ]
     },
     "metadata": {
      "needs_background": "light"
     },
     "output_type": "display_data"
    },
    {
     "name": "stdout",
     "output_type": "stream",
     "text": [
      "0.000    218\n",
      "1.000     27\n",
      "Name: Left_Company, dtype: int64\n",
      "Percentage of people who have taken the campaign: 0.0 %\n"
     ]
    }
   ],
   "source": [
    "# Plot Distribution\n",
    "sns.countplot(x='Left_Company',data=train_attr)\n",
    "plt.show()\n",
    "\n",
    "# What are the counts?\n",
    "print(train_attr.Left_Company.value_counts())\n",
    "\n",
    "# What is the percentage?\n",
    "count_yes = len(train_attr[train_attr.Left_Company == 'yes'])\n",
    "count_no = len(train_attr[train_attr.Left_Company != 'yes'])\n",
    "\n",
    "percent_success = (count_yes/(count_yes + count_no))*100\n",
    "\n",
    "print('Percentage of people who have taken the campaign:', percent_success, \"%\")"
   ]
  },
  {
   "cell_type": "code",
   "execution_count": 179,
   "metadata": {},
   "outputs": [
    {
     "name": "stdout",
     "output_type": "stream",
     "text": [
      "  EmployeeID  Left_Company\n",
      "0      emp-1         0.000\n",
      "1     emp-10         1.000\n",
      "2    emp-100         0.000\n",
      "EmployeeID       object\n",
      "Left_Company    float64\n",
      "dtype: object\n"
     ]
    }
   ],
   "source": [
    "print(train_attr.head(3))\n",
    "print( train_attr.dtypes)"
   ]
  },
  {
   "cell_type": "code",
   "execution_count": 180,
   "metadata": {},
   "outputs": [
    {
     "name": "stdout",
     "output_type": "stream",
     "text": [
      "  EmployeeID  Left_Company\n",
      "0    emp-106           nan\n",
      "1    emp-112           nan\n",
      "2    emp-114           nan\n"
     ]
    },
    {
     "data": {
      "text/plain": [
       "EmployeeID       object\n",
       "Left_Company    float64\n",
       "dtype: object"
      ]
     },
     "execution_count": 180,
     "metadata": {},
     "output_type": "execute_result"
    }
   ],
   "source": [
    "print(test_attr.head(3))\n",
    "test_attr.dtypes"
   ]
  },
  {
   "cell_type": "code",
   "execution_count": 181,
   "metadata": {},
   "outputs": [
    {
     "data": {
      "text/html": [
       "<div>\n",
       "<style scoped>\n",
       "    .dataframe tbody tr th:only-of-type {\n",
       "        vertical-align: middle;\n",
       "    }\n",
       "\n",
       "    .dataframe tbody tr th {\n",
       "        vertical-align: top;\n",
       "    }\n",
       "\n",
       "    .dataframe thead th {\n",
       "        text-align: right;\n",
       "    }\n",
       "</style>\n",
       "<table border=\"1\" class=\"dataframe\">\n",
       "  <thead>\n",
       "    <tr style=\"text-align: right;\">\n",
       "      <th></th>\n",
       "      <th>EmployeeID</th>\n",
       "      <th>TotalWorkingHours</th>\n",
       "      <th>Billable_Hours</th>\n",
       "      <th>Hours_off_Duty</th>\n",
       "      <th>Touring_Hours</th>\n",
       "      <th>NoOfProjects</th>\n",
       "      <th>ActualTimeSpent</th>\n",
       "    </tr>\n",
       "  </thead>\n",
       "  <tbody>\n",
       "    <tr>\n",
       "      <td>0</td>\n",
       "      <td>emp-1</td>\n",
       "      <td>184.000</td>\n",
       "      <td>144.000</td>\n",
       "      <td>40.000</td>\n",
       "      <td>144.000</td>\n",
       "      <td>3</td>\n",
       "      <td>77</td>\n",
       "    </tr>\n",
       "    <tr>\n",
       "      <td>1</td>\n",
       "      <td>emp-1</td>\n",
       "      <td>176.000</td>\n",
       "      <td>136.000</td>\n",
       "      <td>40.000</td>\n",
       "      <td>136.000</td>\n",
       "      <td>2</td>\n",
       "      <td>98</td>\n",
       "    </tr>\n",
       "  </tbody>\n",
       "</table>\n",
       "</div>"
      ],
      "text/plain": [
       "  EmployeeID  TotalWorkingHours  Billable_Hours  Hours_off_Duty  \\\n",
       "0      emp-1            184.000         144.000          40.000   \n",
       "1      emp-1            176.000         136.000          40.000   \n",
       "\n",
       "   Touring_Hours  NoOfProjects  ActualTimeSpent  \n",
       "0        144.000             3               77  \n",
       "1        136.000             2               98  "
      ]
     },
     "execution_count": 181,
     "metadata": {},
     "output_type": "execute_result"
    }
   ],
   "source": [
    "train_wrk.head(2)"
   ]
  },
  {
   "cell_type": "code",
   "execution_count": 182,
   "metadata": {},
   "outputs": [
    {
     "data": {
      "text/html": [
       "<div>\n",
       "<style scoped>\n",
       "    .dataframe tbody tr th:only-of-type {\n",
       "        vertical-align: middle;\n",
       "    }\n",
       "\n",
       "    .dataframe tbody tr th {\n",
       "        vertical-align: top;\n",
       "    }\n",
       "\n",
       "    .dataframe thead th {\n",
       "        text-align: right;\n",
       "    }\n",
       "</style>\n",
       "<table border=\"1\" class=\"dataframe\">\n",
       "  <thead>\n",
       "    <tr style=\"text-align: right;\">\n",
       "      <th></th>\n",
       "      <th>EmployeeID</th>\n",
       "      <th>TotalWorkingHours</th>\n",
       "      <th>Billable_Hours</th>\n",
       "      <th>Hours_off_Duty</th>\n",
       "      <th>Touring_Hours</th>\n",
       "      <th>NoOfProjects</th>\n",
       "      <th>ActualTimeSpent</th>\n",
       "    </tr>\n",
       "  </thead>\n",
       "  <tbody>\n",
       "    <tr>\n",
       "      <td>0</td>\n",
       "      <td>emp-2</td>\n",
       "      <td>170.000</td>\n",
       "      <td>124.000</td>\n",
       "      <td>8.000</td>\n",
       "      <td>0.000</td>\n",
       "      <td>4</td>\n",
       "      <td>77</td>\n",
       "    </tr>\n",
       "    <tr>\n",
       "      <td>1</td>\n",
       "      <td>emp-2</td>\n",
       "      <td>164.000</td>\n",
       "      <td>114.000</td>\n",
       "      <td>24.000</td>\n",
       "      <td>0.000</td>\n",
       "      <td>4</td>\n",
       "      <td>105</td>\n",
       "    </tr>\n",
       "  </tbody>\n",
       "</table>\n",
       "</div>"
      ],
      "text/plain": [
       "  EmployeeID  TotalWorkingHours  Billable_Hours  Hours_off_Duty  \\\n",
       "0      emp-2            170.000         124.000           8.000   \n",
       "1      emp-2            164.000         114.000          24.000   \n",
       "\n",
       "   Touring_Hours  NoOfProjects  ActualTimeSpent  \n",
       "0          0.000             4               77  \n",
       "1          0.000             4              105  "
      ]
     },
     "execution_count": 182,
     "metadata": {},
     "output_type": "execute_result"
    }
   ],
   "source": [
    "test_wrk.head(2)"
   ]
  },
  {
   "cell_type": "code",
   "execution_count": 183,
   "metadata": {},
   "outputs": [
    {
     "data": {
      "text/plain": [
       "EmployeeID            object\n",
       "TotalWorkingHours    float64\n",
       "Billable_Hours       float64\n",
       "Hours_off_Duty       float64\n",
       "Touring_Hours        float64\n",
       "NoOfProjects           int64\n",
       "ActualTimeSpent        int64\n",
       "dtype: object"
      ]
     },
     "execution_count": 183,
     "metadata": {},
     "output_type": "execute_result"
    }
   ],
   "source": [
    "train_wrk.dtypes"
   ]
  },
  {
   "cell_type": "code",
   "execution_count": 184,
   "metadata": {},
   "outputs": [
    {
     "data": {
      "text/plain": [
       "EmployeeID            object\n",
       "TotalWorkingHours    float64\n",
       "Billable_Hours       float64\n",
       "Hours_off_Duty       float64\n",
       "Touring_Hours        float64\n",
       "NoOfProjects           int64\n",
       "ActualTimeSpent        int64\n",
       "dtype: object"
      ]
     },
     "execution_count": 184,
     "metadata": {},
     "output_type": "execute_result"
    }
   ],
   "source": [
    "test_wrk.dtypes"
   ]
  },
  {
   "cell_type": "markdown",
   "metadata": {},
   "source": [
    "# Finding missing/null values"
   ]
  },
  {
   "cell_type": "code",
   "execution_count": 185,
   "metadata": {},
   "outputs": [],
   "source": [
    "#To determine the missing/null values in the data\n",
    "def Missing (X):\n",
    "    total = X.isnull().sum().sort_values(ascending = False)\n",
    "    percent = round(X.isnull().sum().sort_values(ascending = False)/len(X)*100, 2)\n",
    "    missing = pd.concat([total, percent], axis = 1,keys= ['Total', 'Percent'])\n",
    "    return(missing) "
   ]
  },
  {
   "cell_type": "code",
   "execution_count": 186,
   "metadata": {},
   "outputs": [
    {
     "name": "stdout",
     "output_type": "stream",
     "text": [
      "missing in train_attrition:\n",
      "               Total  Percent\n",
      "Left_Company      0    0.000\n",
      "EmployeeID        0    0.000 \n",
      "\n",
      "missing in unseen_attrition:\n",
      "               Total  Percent\n",
      "Left_Company     51  100.000\n",
      "EmployeeID        0    0.000 \n",
      "\n",
      "missing in train_work:\n",
      "                    Total  Percent\n",
      "ActualTimeSpent        0    0.000\n",
      "NoOfProjects           0    0.000\n",
      "Touring_Hours          0    0.000\n",
      "Hours_off_Duty         0    0.000\n",
      "Billable_Hours         0    0.000\n",
      "TotalWorkingHours      0    0.000\n",
      "EmployeeID             0    0.000 \n",
      "\n",
      "missing in test_work:\n",
      "                    Total  Percent\n",
      "ActualTimeSpent        0    0.000\n",
      "NoOfProjects           0    0.000\n",
      "Touring_Hours          0    0.000\n",
      "Hours_off_Duty         0    0.000\n",
      "Billable_Hours         0    0.000\n",
      "TotalWorkingHours      0    0.000\n",
      "EmployeeID             0    0.000 \n",
      "\n",
      "missing in Employee:\n",
      "               Total  Percent\n",
      "Sex               0    0.000\n",
      "Designation       0    0.000\n",
      "Joining_Date      0    0.000\n",
      "Job_History       0    0.000\n",
      "EmployeeID        0    0.000 \n",
      "\n"
     ]
    }
   ],
   "source": [
    "#Missing/null values in each dataset\n",
    "print('missing in train_attrition:\\n',Missing(train_attr),'\\n')\n",
    "print('missing in unseen_attrition:\\n',Missing(test_attr),'\\n')\n",
    "print('missing in train_work:\\n',Missing(train_wrk),'\\n')\n",
    "print('missing in test_work:\\n',Missing(test_wrk),'\\n')\n",
    "print('missing in Employee:\\n',Missing(emp),'\\n')"
   ]
  },
  {
   "cell_type": "code",
   "execution_count": 187,
   "metadata": {},
   "outputs": [
    {
     "data": {
      "text/html": [
       "<div>\n",
       "<style scoped>\n",
       "    .dataframe tbody tr th:only-of-type {\n",
       "        vertical-align: middle;\n",
       "    }\n",
       "\n",
       "    .dataframe tbody tr th {\n",
       "        vertical-align: top;\n",
       "    }\n",
       "\n",
       "    .dataframe thead th {\n",
       "        text-align: right;\n",
       "    }\n",
       "</style>\n",
       "<table border=\"1\" class=\"dataframe\">\n",
       "  <thead>\n",
       "    <tr style=\"text-align: right;\">\n",
       "      <th></th>\n",
       "      <th>TotalWorkingHours</th>\n",
       "      <th>Billable_Hours</th>\n",
       "      <th>Hours_off_Duty</th>\n",
       "      <th>Touring_Hours</th>\n",
       "      <th>NoOfProjects</th>\n",
       "      <th>ActualTimeSpent</th>\n",
       "    </tr>\n",
       "    <tr>\n",
       "      <th>EmployeeID</th>\n",
       "      <th></th>\n",
       "      <th></th>\n",
       "      <th></th>\n",
       "      <th></th>\n",
       "      <th></th>\n",
       "      <th></th>\n",
       "    </tr>\n",
       "  </thead>\n",
       "  <tbody>\n",
       "    <tr>\n",
       "      <td>emp-1</td>\n",
       "      <td>148.870</td>\n",
       "      <td>107.043</td>\n",
       "      <td>17.739</td>\n",
       "      <td>107.043</td>\n",
       "      <td>1.826</td>\n",
       "      <td>123.870</td>\n",
       "    </tr>\n",
       "    <tr>\n",
       "      <td>emp-10</td>\n",
       "      <td>182.364</td>\n",
       "      <td>115.818</td>\n",
       "      <td>29.818</td>\n",
       "      <td>62.818</td>\n",
       "      <td>1.182</td>\n",
       "      <td>56.000</td>\n",
       "    </tr>\n",
       "    <tr>\n",
       "      <td>emp-100</td>\n",
       "      <td>200.389</td>\n",
       "      <td>181.944</td>\n",
       "      <td>12.444</td>\n",
       "      <td>179.722</td>\n",
       "      <td>1.278</td>\n",
       "      <td>188.222</td>\n",
       "    </tr>\n",
       "  </tbody>\n",
       "</table>\n",
       "</div>"
      ],
      "text/plain": [
       "            TotalWorkingHours  Billable_Hours  Hours_off_Duty  Touring_Hours  \\\n",
       "EmployeeID                                                                     \n",
       "emp-1                 148.870         107.043          17.739        107.043   \n",
       "emp-10                182.364         115.818          29.818         62.818   \n",
       "emp-100               200.389         181.944          12.444        179.722   \n",
       "\n",
       "            NoOfProjects  ActualTimeSpent  \n",
       "EmployeeID                                 \n",
       "emp-1              1.826          123.870  \n",
       "emp-10             1.182           56.000  \n",
       "emp-100            1.278          188.222  "
      ]
     },
     "execution_count": 187,
     "metadata": {},
     "output_type": "execute_result"
    }
   ],
   "source": [
    "#Aggregating data based on EmployeeID\n",
    "train_wrk = train_wrk.groupby(['EmployeeID']).mean()\n",
    "train_wrk.head(3)"
   ]
  },
  {
   "cell_type": "code",
   "execution_count": 188,
   "metadata": {},
   "outputs": [
    {
     "data": {
      "text/html": [
       "<div>\n",
       "<style scoped>\n",
       "    .dataframe tbody tr th:only-of-type {\n",
       "        vertical-align: middle;\n",
       "    }\n",
       "\n",
       "    .dataframe tbody tr th {\n",
       "        vertical-align: top;\n",
       "    }\n",
       "\n",
       "    .dataframe thead th {\n",
       "        text-align: right;\n",
       "    }\n",
       "</style>\n",
       "<table border=\"1\" class=\"dataframe\">\n",
       "  <thead>\n",
       "    <tr style=\"text-align: right;\">\n",
       "      <th></th>\n",
       "      <th>EmployeeID</th>\n",
       "      <th>TotalWorkingHours</th>\n",
       "      <th>Billable_Hours</th>\n",
       "      <th>Hours_off_Duty</th>\n",
       "      <th>Touring_Hours</th>\n",
       "      <th>NoOfProjects</th>\n",
       "      <th>ActualTimeSpent</th>\n",
       "      <th>Left_Company</th>\n",
       "    </tr>\n",
       "  </thead>\n",
       "  <tbody>\n",
       "    <tr>\n",
       "      <td>0</td>\n",
       "      <td>emp-1</td>\n",
       "      <td>148.870</td>\n",
       "      <td>107.043</td>\n",
       "      <td>17.739</td>\n",
       "      <td>107.043</td>\n",
       "      <td>1.826</td>\n",
       "      <td>123.870</td>\n",
       "      <td>0.000</td>\n",
       "    </tr>\n",
       "    <tr>\n",
       "      <td>1</td>\n",
       "      <td>emp-10</td>\n",
       "      <td>182.364</td>\n",
       "      <td>115.818</td>\n",
       "      <td>29.818</td>\n",
       "      <td>62.818</td>\n",
       "      <td>1.182</td>\n",
       "      <td>56.000</td>\n",
       "      <td>1.000</td>\n",
       "    </tr>\n",
       "    <tr>\n",
       "      <td>2</td>\n",
       "      <td>emp-100</td>\n",
       "      <td>200.389</td>\n",
       "      <td>181.944</td>\n",
       "      <td>12.444</td>\n",
       "      <td>179.722</td>\n",
       "      <td>1.278</td>\n",
       "      <td>188.222</td>\n",
       "      <td>0.000</td>\n",
       "    </tr>\n",
       "  </tbody>\n",
       "</table>\n",
       "</div>"
      ],
      "text/plain": [
       "  EmployeeID  TotalWorkingHours  Billable_Hours  Hours_off_Duty  \\\n",
       "0      emp-1            148.870         107.043          17.739   \n",
       "1     emp-10            182.364         115.818          29.818   \n",
       "2    emp-100            200.389         181.944          12.444   \n",
       "\n",
       "   Touring_Hours  NoOfProjects  ActualTimeSpent  Left_Company  \n",
       "0        107.043         1.826          123.870         0.000  \n",
       "1         62.818         1.182           56.000         1.000  \n",
       "2        179.722         1.278          188.222         0.000  "
      ]
     },
     "execution_count": 188,
     "metadata": {},
     "output_type": "execute_result"
    }
   ],
   "source": [
    "#Merging the 2 datasets\n",
    "train_data=pd.merge(train_wrk,train_attr,on='EmployeeID',how='inner')\n",
    "train_data.head(3)"
   ]
  },
  {
   "cell_type": "code",
   "execution_count": 189,
   "metadata": {},
   "outputs": [],
   "source": [
    "#Aggregating the testdata based on EmployeeID\n",
    "test_wrk = test_wrk.groupby(['EmployeeID']).mean()"
   ]
  },
  {
   "cell_type": "code",
   "execution_count": 190,
   "metadata": {},
   "outputs": [
    {
     "data": {
      "text/html": [
       "<div>\n",
       "<style scoped>\n",
       "    .dataframe tbody tr th:only-of-type {\n",
       "        vertical-align: middle;\n",
       "    }\n",
       "\n",
       "    .dataframe tbody tr th {\n",
       "        vertical-align: top;\n",
       "    }\n",
       "\n",
       "    .dataframe thead th {\n",
       "        text-align: right;\n",
       "    }\n",
       "</style>\n",
       "<table border=\"1\" class=\"dataframe\">\n",
       "  <thead>\n",
       "    <tr style=\"text-align: right;\">\n",
       "      <th></th>\n",
       "      <th>EmployeeID</th>\n",
       "      <th>TotalWorkingHours</th>\n",
       "      <th>Billable_Hours</th>\n",
       "      <th>Hours_off_Duty</th>\n",
       "      <th>Touring_Hours</th>\n",
       "      <th>NoOfProjects</th>\n",
       "      <th>ActualTimeSpent</th>\n",
       "      <th>Left_Company</th>\n",
       "    </tr>\n",
       "  </thead>\n",
       "  <tbody>\n",
       "    <tr>\n",
       "      <td>0</td>\n",
       "      <td>emp-106</td>\n",
       "      <td>194.676</td>\n",
       "      <td>138.353</td>\n",
       "      <td>17.529</td>\n",
       "      <td>0.118</td>\n",
       "      <td>1.059</td>\n",
       "      <td>102.118</td>\n",
       "      <td>nan</td>\n",
       "    </tr>\n",
       "    <tr>\n",
       "      <td>1</td>\n",
       "      <td>emp-112</td>\n",
       "      <td>198.656</td>\n",
       "      <td>163.125</td>\n",
       "      <td>18.250</td>\n",
       "      <td>20.312</td>\n",
       "      <td>1.312</td>\n",
       "      <td>106.750</td>\n",
       "      <td>nan</td>\n",
       "    </tr>\n",
       "    <tr>\n",
       "      <td>2</td>\n",
       "      <td>emp-114</td>\n",
       "      <td>192.031</td>\n",
       "      <td>101.169</td>\n",
       "      <td>16.500</td>\n",
       "      <td>69.000</td>\n",
       "      <td>1.562</td>\n",
       "      <td>55.125</td>\n",
       "      <td>nan</td>\n",
       "    </tr>\n",
       "  </tbody>\n",
       "</table>\n",
       "</div>"
      ],
      "text/plain": [
       "  EmployeeID  TotalWorkingHours  Billable_Hours  Hours_off_Duty  \\\n",
       "0    emp-106            194.676         138.353          17.529   \n",
       "1    emp-112            198.656         163.125          18.250   \n",
       "2    emp-114            192.031         101.169          16.500   \n",
       "\n",
       "   Touring_Hours  NoOfProjects  ActualTimeSpent  Left_Company  \n",
       "0          0.118         1.059          102.118           nan  \n",
       "1         20.312         1.312          106.750           nan  \n",
       "2         69.000         1.562           55.125           nan  "
      ]
     },
     "execution_count": 190,
     "metadata": {},
     "output_type": "execute_result"
    }
   ],
   "source": [
    "#Merging 2 datasets based on EmployeeID\n",
    "\n",
    "test_data=pd.merge(test_wrk,test_attr,on='EmployeeID',how='inner')\n",
    "test_data.head(3)"
   ]
  },
  {
   "cell_type": "code",
   "execution_count": 191,
   "metadata": {},
   "outputs": [
    {
     "data": {
      "text/html": [
       "<div>\n",
       "<style scoped>\n",
       "    .dataframe tbody tr th:only-of-type {\n",
       "        vertical-align: middle;\n",
       "    }\n",
       "\n",
       "    .dataframe tbody tr th {\n",
       "        vertical-align: top;\n",
       "    }\n",
       "\n",
       "    .dataframe thead th {\n",
       "        text-align: right;\n",
       "    }\n",
       "</style>\n",
       "<table border=\"1\" class=\"dataframe\">\n",
       "  <thead>\n",
       "    <tr style=\"text-align: right;\">\n",
       "      <th></th>\n",
       "      <th>EmployeeID</th>\n",
       "      <th>TotalWorkingHours</th>\n",
       "      <th>Billable_Hours</th>\n",
       "      <th>Hours_off_Duty</th>\n",
       "      <th>Touring_Hours</th>\n",
       "      <th>NoOfProjects</th>\n",
       "      <th>ActualTimeSpent</th>\n",
       "      <th>Left_Company</th>\n",
       "      <th>Job_History</th>\n",
       "      <th>Joining_Date</th>\n",
       "      <th>Designation</th>\n",
       "      <th>Sex</th>\n",
       "    </tr>\n",
       "  </thead>\n",
       "  <tbody>\n",
       "    <tr>\n",
       "      <td>0</td>\n",
       "      <td>emp-1</td>\n",
       "      <td>148.870</td>\n",
       "      <td>107.043</td>\n",
       "      <td>17.739</td>\n",
       "      <td>107.043</td>\n",
       "      <td>1.826</td>\n",
       "      <td>123.870</td>\n",
       "      <td>0.000</td>\n",
       "      <td>Worked at Company - 639 , Company - 212 , Comp...</td>\n",
       "      <td>2011_01</td>\n",
       "      <td>MD</td>\n",
       "      <td>1</td>\n",
       "    </tr>\n",
       "    <tr>\n",
       "      <td>1</td>\n",
       "      <td>emp-10</td>\n",
       "      <td>182.364</td>\n",
       "      <td>115.818</td>\n",
       "      <td>29.818</td>\n",
       "      <td>62.818</td>\n",
       "      <td>1.182</td>\n",
       "      <td>56.000</td>\n",
       "      <td>1.000</td>\n",
       "      <td>Worked at Company - 816 , Company - 724 , Comp...</td>\n",
       "      <td>2006_02</td>\n",
       "      <td>VP</td>\n",
       "      <td>0</td>\n",
       "    </tr>\n",
       "  </tbody>\n",
       "</table>\n",
       "</div>"
      ],
      "text/plain": [
       "  EmployeeID  TotalWorkingHours  Billable_Hours  Hours_off_Duty  \\\n",
       "0      emp-1            148.870         107.043          17.739   \n",
       "1     emp-10            182.364         115.818          29.818   \n",
       "\n",
       "   Touring_Hours  NoOfProjects  ActualTimeSpent  Left_Company  \\\n",
       "0        107.043         1.826          123.870         0.000   \n",
       "1         62.818         1.182           56.000         1.000   \n",
       "\n",
       "                                         Job_History Joining_Date Designation  \\\n",
       "0  Worked at Company - 639 , Company - 212 , Comp...      2011_01          MD   \n",
       "1  Worked at Company - 816 , Company - 724 , Comp...      2006_02          VP   \n",
       "\n",
       "   Sex  \n",
       "0    1  \n",
       "1    0  "
      ]
     },
     "execution_count": 191,
     "metadata": {},
     "output_type": "execute_result"
    }
   ],
   "source": [
    "train_data=pd.merge(train_data,emp,on='EmployeeID',how='inner')\n",
    "train_data.head(2)"
   ]
  },
  {
   "cell_type": "code",
   "execution_count": 192,
   "metadata": {},
   "outputs": [
    {
     "data": {
      "text/html": [
       "<div>\n",
       "<style scoped>\n",
       "    .dataframe tbody tr th:only-of-type {\n",
       "        vertical-align: middle;\n",
       "    }\n",
       "\n",
       "    .dataframe tbody tr th {\n",
       "        vertical-align: top;\n",
       "    }\n",
       "\n",
       "    .dataframe thead th {\n",
       "        text-align: right;\n",
       "    }\n",
       "</style>\n",
       "<table border=\"1\" class=\"dataframe\">\n",
       "  <thead>\n",
       "    <tr style=\"text-align: right;\">\n",
       "      <th></th>\n",
       "      <th>EmployeeID</th>\n",
       "      <th>TotalWorkingHours</th>\n",
       "      <th>Billable_Hours</th>\n",
       "      <th>Hours_off_Duty</th>\n",
       "      <th>Touring_Hours</th>\n",
       "      <th>NoOfProjects</th>\n",
       "      <th>ActualTimeSpent</th>\n",
       "      <th>Left_Company</th>\n",
       "      <th>Job_History</th>\n",
       "      <th>Joining_Date</th>\n",
       "      <th>Designation</th>\n",
       "      <th>Sex</th>\n",
       "    </tr>\n",
       "  </thead>\n",
       "  <tbody>\n",
       "    <tr>\n",
       "      <td>0</td>\n",
       "      <td>emp-106</td>\n",
       "      <td>194.676</td>\n",
       "      <td>138.353</td>\n",
       "      <td>17.529</td>\n",
       "      <td>0.118</td>\n",
       "      <td>1.059</td>\n",
       "      <td>102.118</td>\n",
       "      <td>nan</td>\n",
       "      <td>Worked at Company - 510 , Company - 658 , Comp...</td>\n",
       "      <td>2012_01</td>\n",
       "      <td>Senior</td>\n",
       "      <td>0</td>\n",
       "    </tr>\n",
       "    <tr>\n",
       "      <td>1</td>\n",
       "      <td>emp-112</td>\n",
       "      <td>198.656</td>\n",
       "      <td>163.125</td>\n",
       "      <td>18.250</td>\n",
       "      <td>20.312</td>\n",
       "      <td>1.312</td>\n",
       "      <td>106.750</td>\n",
       "      <td>nan</td>\n",
       "      <td>Worked at Company - 42 , Company - 432 , Compa...</td>\n",
       "      <td>2012_02</td>\n",
       "      <td>VP</td>\n",
       "      <td>1</td>\n",
       "    </tr>\n",
       "  </tbody>\n",
       "</table>\n",
       "</div>"
      ],
      "text/plain": [
       "  EmployeeID  TotalWorkingHours  Billable_Hours  Hours_off_Duty  \\\n",
       "0    emp-106            194.676         138.353          17.529   \n",
       "1    emp-112            198.656         163.125          18.250   \n",
       "\n",
       "   Touring_Hours  NoOfProjects  ActualTimeSpent  Left_Company  \\\n",
       "0          0.118         1.059          102.118           nan   \n",
       "1         20.312         1.312          106.750           nan   \n",
       "\n",
       "                                         Job_History Joining_Date Designation  \\\n",
       "0  Worked at Company - 510 , Company - 658 , Comp...      2012_01      Senior   \n",
       "1  Worked at Company - 42 , Company - 432 , Compa...      2012_02          VP   \n",
       "\n",
       "   Sex  \n",
       "0    0  \n",
       "1    1  "
      ]
     },
     "execution_count": 192,
     "metadata": {},
     "output_type": "execute_result"
    }
   ],
   "source": [
    "test_data=pd.merge(test_data,emp,on='EmployeeID',how='inner')\n",
    "test_data.head(2)"
   ]
  },
  {
   "cell_type": "code",
   "execution_count": 193,
   "metadata": {},
   "outputs": [
    {
     "data": {
      "text/html": [
       "<div>\n",
       "<style scoped>\n",
       "    .dataframe tbody tr th:only-of-type {\n",
       "        vertical-align: middle;\n",
       "    }\n",
       "\n",
       "    .dataframe tbody tr th {\n",
       "        vertical-align: top;\n",
       "    }\n",
       "\n",
       "    .dataframe thead th {\n",
       "        text-align: right;\n",
       "    }\n",
       "</style>\n",
       "<table border=\"1\" class=\"dataframe\">\n",
       "  <thead>\n",
       "    <tr style=\"text-align: right;\">\n",
       "      <th></th>\n",
       "      <th>EmployeeID</th>\n",
       "      <th>TotalWorkingHours</th>\n",
       "      <th>Billable_Hours</th>\n",
       "      <th>Hours_off_Duty</th>\n",
       "      <th>Touring_Hours</th>\n",
       "      <th>NoOfProjects</th>\n",
       "      <th>ActualTimeSpent</th>\n",
       "      <th>Left_Company</th>\n",
       "      <th>Job_History</th>\n",
       "      <th>Joining_Date</th>\n",
       "      <th>Designation</th>\n",
       "      <th>Sex</th>\n",
       "      <th>No_of_companies</th>\n",
       "    </tr>\n",
       "  </thead>\n",
       "  <tbody>\n",
       "    <tr>\n",
       "      <td>0</td>\n",
       "      <td>emp-1</td>\n",
       "      <td>148.870</td>\n",
       "      <td>107.043</td>\n",
       "      <td>17.739</td>\n",
       "      <td>107.043</td>\n",
       "      <td>1.826</td>\n",
       "      <td>123.870</td>\n",
       "      <td>0.000</td>\n",
       "      <td>Worked at Company - 639 , Company - 212 , Comp...</td>\n",
       "      <td>2011_01</td>\n",
       "      <td>MD</td>\n",
       "      <td>1</td>\n",
       "      <td>3</td>\n",
       "    </tr>\n",
       "    <tr>\n",
       "      <td>1</td>\n",
       "      <td>emp-10</td>\n",
       "      <td>182.364</td>\n",
       "      <td>115.818</td>\n",
       "      <td>29.818</td>\n",
       "      <td>62.818</td>\n",
       "      <td>1.182</td>\n",
       "      <td>56.000</td>\n",
       "      <td>1.000</td>\n",
       "      <td>Worked at Company - 816 , Company - 724 , Comp...</td>\n",
       "      <td>2006_02</td>\n",
       "      <td>VP</td>\n",
       "      <td>0</td>\n",
       "      <td>4</td>\n",
       "    </tr>\n",
       "  </tbody>\n",
       "</table>\n",
       "</div>"
      ],
      "text/plain": [
       "  EmployeeID  TotalWorkingHours  Billable_Hours  Hours_off_Duty  \\\n",
       "0      emp-1            148.870         107.043          17.739   \n",
       "1     emp-10            182.364         115.818          29.818   \n",
       "\n",
       "   Touring_Hours  NoOfProjects  ActualTimeSpent  Left_Company  \\\n",
       "0        107.043         1.826          123.870         0.000   \n",
       "1         62.818         1.182           56.000         1.000   \n",
       "\n",
       "                                         Job_History Joining_Date Designation  \\\n",
       "0  Worked at Company - 639 , Company - 212 , Comp...      2011_01          MD   \n",
       "1  Worked at Company - 816 , Company - 724 , Comp...      2006_02          VP   \n",
       "\n",
       "   Sex  No_of_companies  \n",
       "0    1                3  \n",
       "1    0                4  "
      ]
     },
     "execution_count": 193,
     "metadata": {},
     "output_type": "execute_result"
    }
   ],
   "source": [
    "#Extracting new feature from the existing feature(Job_History)\n",
    "train_data['No_of_companies'] = train_data.Job_History.str.count(\"Company\")\n",
    "train_data.head(2)"
   ]
  },
  {
   "cell_type": "code",
   "execution_count": 194,
   "metadata": {},
   "outputs": [
    {
     "data": {
      "text/html": [
       "<div>\n",
       "<style scoped>\n",
       "    .dataframe tbody tr th:only-of-type {\n",
       "        vertical-align: middle;\n",
       "    }\n",
       "\n",
       "    .dataframe tbody tr th {\n",
       "        vertical-align: top;\n",
       "    }\n",
       "\n",
       "    .dataframe thead th {\n",
       "        text-align: right;\n",
       "    }\n",
       "</style>\n",
       "<table border=\"1\" class=\"dataframe\">\n",
       "  <thead>\n",
       "    <tr style=\"text-align: right;\">\n",
       "      <th></th>\n",
       "      <th>EmployeeID</th>\n",
       "      <th>TotalWorkingHours</th>\n",
       "      <th>Billable_Hours</th>\n",
       "      <th>Hours_off_Duty</th>\n",
       "      <th>Touring_Hours</th>\n",
       "      <th>NoOfProjects</th>\n",
       "      <th>ActualTimeSpent</th>\n",
       "      <th>Left_Company</th>\n",
       "      <th>Job_History</th>\n",
       "      <th>Joining_Date</th>\n",
       "      <th>Designation</th>\n",
       "      <th>Sex</th>\n",
       "      <th>No_of_companies</th>\n",
       "    </tr>\n",
       "  </thead>\n",
       "  <tbody>\n",
       "    <tr>\n",
       "      <td>0</td>\n",
       "      <td>emp-106</td>\n",
       "      <td>194.676</td>\n",
       "      <td>138.353</td>\n",
       "      <td>17.529</td>\n",
       "      <td>0.118</td>\n",
       "      <td>1.059</td>\n",
       "      <td>102.118</td>\n",
       "      <td>nan</td>\n",
       "      <td>Worked at Company - 510 , Company - 658 , Comp...</td>\n",
       "      <td>2012_01</td>\n",
       "      <td>Senior</td>\n",
       "      <td>0</td>\n",
       "      <td>4</td>\n",
       "    </tr>\n",
       "    <tr>\n",
       "      <td>1</td>\n",
       "      <td>emp-112</td>\n",
       "      <td>198.656</td>\n",
       "      <td>163.125</td>\n",
       "      <td>18.250</td>\n",
       "      <td>20.312</td>\n",
       "      <td>1.312</td>\n",
       "      <td>106.750</td>\n",
       "      <td>nan</td>\n",
       "      <td>Worked at Company - 42 , Company - 432 , Compa...</td>\n",
       "      <td>2012_02</td>\n",
       "      <td>VP</td>\n",
       "      <td>1</td>\n",
       "      <td>3</td>\n",
       "    </tr>\n",
       "  </tbody>\n",
       "</table>\n",
       "</div>"
      ],
      "text/plain": [
       "  EmployeeID  TotalWorkingHours  Billable_Hours  Hours_off_Duty  \\\n",
       "0    emp-106            194.676         138.353          17.529   \n",
       "1    emp-112            198.656         163.125          18.250   \n",
       "\n",
       "   Touring_Hours  NoOfProjects  ActualTimeSpent  Left_Company  \\\n",
       "0          0.118         1.059          102.118           nan   \n",
       "1         20.312         1.312          106.750           nan   \n",
       "\n",
       "                                         Job_History Joining_Date Designation  \\\n",
       "0  Worked at Company - 510 , Company - 658 , Comp...      2012_01      Senior   \n",
       "1  Worked at Company - 42 , Company - 432 , Compa...      2012_02          VP   \n",
       "\n",
       "   Sex  No_of_companies  \n",
       "0    0                4  \n",
       "1    1                3  "
      ]
     },
     "execution_count": 194,
     "metadata": {},
     "output_type": "execute_result"
    }
   ],
   "source": [
    "test_data['No_of_companies'] = test_data.Job_History.str.count(\"Company\")\n",
    "test_data.head(2)"
   ]
  },
  {
   "cell_type": "code",
   "execution_count": 195,
   "metadata": {},
   "outputs": [],
   "source": [
    "#Extracting new feature from the existing feature(Joining_Date)\n",
    "import datetime\n",
    "no_of_years=[]\n",
    "now=pd.to_datetime('today')\n",
    "year = now.year\n",
    "yea_mon = train_data['Joining_Date'].str.split('_')\n",
    "for i in range(0,len(yea_mon)):\n",
    "    no_of_years.append(year - int(train_data['Joining_Date'].str.split('_')[i][0]))\n",
    "#print(no_of_years)"
   ]
  },
  {
   "cell_type": "code",
   "execution_count": 196,
   "metadata": {},
   "outputs": [],
   "source": [
    "train_data['years_in_company']=no_of_years"
   ]
  },
  {
   "cell_type": "code",
   "execution_count": 197,
   "metadata": {},
   "outputs": [
    {
     "data": {
      "text/html": [
       "<div>\n",
       "<style scoped>\n",
       "    .dataframe tbody tr th:only-of-type {\n",
       "        vertical-align: middle;\n",
       "    }\n",
       "\n",
       "    .dataframe tbody tr th {\n",
       "        vertical-align: top;\n",
       "    }\n",
       "\n",
       "    .dataframe thead th {\n",
       "        text-align: right;\n",
       "    }\n",
       "</style>\n",
       "<table border=\"1\" class=\"dataframe\">\n",
       "  <thead>\n",
       "    <tr style=\"text-align: right;\">\n",
       "      <th></th>\n",
       "      <th>EmployeeID</th>\n",
       "      <th>TotalWorkingHours</th>\n",
       "      <th>Billable_Hours</th>\n",
       "      <th>Hours_off_Duty</th>\n",
       "      <th>Touring_Hours</th>\n",
       "      <th>NoOfProjects</th>\n",
       "      <th>ActualTimeSpent</th>\n",
       "      <th>Left_Company</th>\n",
       "      <th>Job_History</th>\n",
       "      <th>Joining_Date</th>\n",
       "      <th>Designation</th>\n",
       "      <th>Sex</th>\n",
       "      <th>No_of_companies</th>\n",
       "      <th>years_in_company</th>\n",
       "    </tr>\n",
       "  </thead>\n",
       "  <tbody>\n",
       "    <tr>\n",
       "      <td>0</td>\n",
       "      <td>emp-1</td>\n",
       "      <td>148.870</td>\n",
       "      <td>107.043</td>\n",
       "      <td>17.739</td>\n",
       "      <td>107.043</td>\n",
       "      <td>1.826</td>\n",
       "      <td>123.870</td>\n",
       "      <td>0.000</td>\n",
       "      <td>Worked at Company - 639 , Company - 212 , Comp...</td>\n",
       "      <td>2011_01</td>\n",
       "      <td>MD</td>\n",
       "      <td>1</td>\n",
       "      <td>3</td>\n",
       "      <td>10</td>\n",
       "    </tr>\n",
       "    <tr>\n",
       "      <td>1</td>\n",
       "      <td>emp-10</td>\n",
       "      <td>182.364</td>\n",
       "      <td>115.818</td>\n",
       "      <td>29.818</td>\n",
       "      <td>62.818</td>\n",
       "      <td>1.182</td>\n",
       "      <td>56.000</td>\n",
       "      <td>1.000</td>\n",
       "      <td>Worked at Company - 816 , Company - 724 , Comp...</td>\n",
       "      <td>2006_02</td>\n",
       "      <td>VP</td>\n",
       "      <td>0</td>\n",
       "      <td>4</td>\n",
       "      <td>15</td>\n",
       "    </tr>\n",
       "  </tbody>\n",
       "</table>\n",
       "</div>"
      ],
      "text/plain": [
       "  EmployeeID  TotalWorkingHours  Billable_Hours  Hours_off_Duty  \\\n",
       "0      emp-1            148.870         107.043          17.739   \n",
       "1     emp-10            182.364         115.818          29.818   \n",
       "\n",
       "   Touring_Hours  NoOfProjects  ActualTimeSpent  Left_Company  \\\n",
       "0        107.043         1.826          123.870         0.000   \n",
       "1         62.818         1.182           56.000         1.000   \n",
       "\n",
       "                                         Job_History Joining_Date Designation  \\\n",
       "0  Worked at Company - 639 , Company - 212 , Comp...      2011_01          MD   \n",
       "1  Worked at Company - 816 , Company - 724 , Comp...      2006_02          VP   \n",
       "\n",
       "   Sex  No_of_companies  years_in_company  \n",
       "0    1                3                10  \n",
       "1    0                4                15  "
      ]
     },
     "execution_count": 197,
     "metadata": {},
     "output_type": "execute_result"
    }
   ],
   "source": [
    "train_data.head(2)"
   ]
  },
  {
   "cell_type": "code",
   "execution_count": 198,
   "metadata": {},
   "outputs": [
    {
     "data": {
      "text/plain": [
       "Index(['EmployeeID', 'TotalWorkingHours', 'Billable_Hours', 'Hours_off_Duty',\n",
       "       'Touring_Hours', 'NoOfProjects', 'ActualTimeSpent', 'Left_Company',\n",
       "       'Job_History', 'Joining_Date', 'Designation', 'Sex', 'No_of_companies'],\n",
       "      dtype='object')"
      ]
     },
     "execution_count": 198,
     "metadata": {},
     "output_type": "execute_result"
    }
   ],
   "source": [
    "test_data.columns"
   ]
  },
  {
   "cell_type": "code",
   "execution_count": 199,
   "metadata": {},
   "outputs": [],
   "source": [
    "import datetime\n",
    "no_of_years=[]\n",
    "now=pd.to_datetime('today')\n",
    "year = now.year\n",
    "yea_mon = test_data['Joining_Date'].str.split('_')\n",
    "for i in range(0,len(yea_mon)):\n",
    "    no_of_years.append(year - int(test_data['Joining_Date'].str.split('_')[i][0]))\n",
    "no_of_years\n",
    "\n",
    "test_data['years_in_company']=no_of_years"
   ]
  },
  {
   "cell_type": "code",
   "execution_count": 200,
   "metadata": {},
   "outputs": [
    {
     "data": {
      "text/plain": [
       "Index(['EmployeeID', 'TotalWorkingHours', 'Billable_Hours', 'Hours_off_Duty',\n",
       "       'Touring_Hours', 'NoOfProjects', 'ActualTimeSpent', 'Left_Company',\n",
       "       'Job_History', 'Joining_Date', 'Designation', 'Sex', 'No_of_companies',\n",
       "       'years_in_company'],\n",
       "      dtype='object')"
      ]
     },
     "execution_count": 200,
     "metadata": {},
     "output_type": "execute_result"
    }
   ],
   "source": [
    "test_data.columns"
   ]
  },
  {
   "cell_type": "code",
   "execution_count": 201,
   "metadata": {},
   "outputs": [],
   "source": [
    "test_data['Left_Company']=test_data['Left_Company'].astype('category')\n",
    "test_data['Sex']=test_data['Sex'].astype('category')\n",
    "test_data['Designation']=test_data['Designation'].astype('category')"
   ]
  },
  {
   "cell_type": "code",
   "execution_count": 202,
   "metadata": {},
   "outputs": [
    {
     "data": {
      "text/html": [
       "<div>\n",
       "<style scoped>\n",
       "    .dataframe tbody tr th:only-of-type {\n",
       "        vertical-align: middle;\n",
       "    }\n",
       "\n",
       "    .dataframe tbody tr th {\n",
       "        vertical-align: top;\n",
       "    }\n",
       "\n",
       "    .dataframe thead th {\n",
       "        text-align: right;\n",
       "    }\n",
       "</style>\n",
       "<table border=\"1\" class=\"dataframe\">\n",
       "  <thead>\n",
       "    <tr style=\"text-align: right;\">\n",
       "      <th></th>\n",
       "      <th>EmployeeID</th>\n",
       "      <th>TotalWorkingHours</th>\n",
       "      <th>Billable_Hours</th>\n",
       "      <th>Hours_off_Duty</th>\n",
       "      <th>Touring_Hours</th>\n",
       "      <th>NoOfProjects</th>\n",
       "      <th>ActualTimeSpent</th>\n",
       "      <th>Left_Company</th>\n",
       "      <th>Job_History</th>\n",
       "      <th>Joining_Date</th>\n",
       "      <th>Designation</th>\n",
       "      <th>Sex</th>\n",
       "      <th>No_of_companies</th>\n",
       "      <th>years_in_company</th>\n",
       "    </tr>\n",
       "  </thead>\n",
       "  <tbody>\n",
       "    <tr>\n",
       "      <td>0</td>\n",
       "      <td>emp-106</td>\n",
       "      <td>194.676</td>\n",
       "      <td>138.353</td>\n",
       "      <td>17.529</td>\n",
       "      <td>0.118</td>\n",
       "      <td>1.059</td>\n",
       "      <td>102.118</td>\n",
       "      <td>nan</td>\n",
       "      <td>Worked at Company - 510 , Company - 658 , Comp...</td>\n",
       "      <td>2012_01</td>\n",
       "      <td>Senior</td>\n",
       "      <td>0</td>\n",
       "      <td>4</td>\n",
       "      <td>9</td>\n",
       "    </tr>\n",
       "    <tr>\n",
       "      <td>1</td>\n",
       "      <td>emp-112</td>\n",
       "      <td>198.656</td>\n",
       "      <td>163.125</td>\n",
       "      <td>18.250</td>\n",
       "      <td>20.312</td>\n",
       "      <td>1.312</td>\n",
       "      <td>106.750</td>\n",
       "      <td>nan</td>\n",
       "      <td>Worked at Company - 42 , Company - 432 , Compa...</td>\n",
       "      <td>2012_02</td>\n",
       "      <td>VP</td>\n",
       "      <td>1</td>\n",
       "      <td>3</td>\n",
       "      <td>9</td>\n",
       "    </tr>\n",
       "  </tbody>\n",
       "</table>\n",
       "</div>"
      ],
      "text/plain": [
       "  EmployeeID  TotalWorkingHours  Billable_Hours  Hours_off_Duty  \\\n",
       "0    emp-106            194.676         138.353          17.529   \n",
       "1    emp-112            198.656         163.125          18.250   \n",
       "\n",
       "   Touring_Hours  NoOfProjects  ActualTimeSpent Left_Company  \\\n",
       "0          0.118         1.059          102.118          nan   \n",
       "1         20.312         1.312          106.750          nan   \n",
       "\n",
       "                                         Job_History Joining_Date Designation  \\\n",
       "0  Worked at Company - 510 , Company - 658 , Comp...      2012_01      Senior   \n",
       "1  Worked at Company - 42 , Company - 432 , Compa...      2012_02          VP   \n",
       "\n",
       "  Sex  No_of_companies  years_in_company  \n",
       "0   0                4                 9  \n",
       "1   1                3                 9  "
      ]
     },
     "execution_count": 202,
     "metadata": {},
     "output_type": "execute_result"
    }
   ],
   "source": [
    "test_data.head(2)"
   ]
  },
  {
   "cell_type": "code",
   "execution_count": 203,
   "metadata": {},
   "outputs": [],
   "source": [
    "train_data['Left_Company']=train_data['Left_Company'].astype('category')\n",
    "train_data['Sex']=train_data['Sex'].astype('category')"
   ]
  },
  {
   "cell_type": "code",
   "execution_count": 204,
   "metadata": {},
   "outputs": [
    {
     "data": {
      "text/plain": [
       "EmployeeID             object\n",
       "TotalWorkingHours     float64\n",
       "Billable_Hours        float64\n",
       "Hours_off_Duty        float64\n",
       "Touring_Hours         float64\n",
       "NoOfProjects          float64\n",
       "ActualTimeSpent       float64\n",
       "Left_Company         category\n",
       "Job_History            object\n",
       "Joining_Date           object\n",
       "Designation            object\n",
       "Sex                  category\n",
       "No_of_companies         int64\n",
       "years_in_company        int64\n",
       "dtype: object"
      ]
     },
     "execution_count": 204,
     "metadata": {},
     "output_type": "execute_result"
    }
   ],
   "source": [
    "train_data.dtypes"
   ]
  },
  {
   "cell_type": "markdown",
   "metadata": {},
   "source": [
    "# Categorical and Numerical attributes"
   ]
  },
  {
   "cell_type": "code",
   "execution_count": 205,
   "metadata": {},
   "outputs": [
    {
     "data": {
      "text/plain": [
       "Index(['TotalWorkingHours', 'Billable_Hours', 'Hours_off_Duty',\n",
       "       'Touring_Hours', 'NoOfProjects', 'ActualTimeSpent', 'No_of_companies',\n",
       "       'years_in_company'],\n",
       "      dtype='object')"
      ]
     },
     "execution_count": 205,
     "metadata": {},
     "output_type": "execute_result"
    }
   ],
   "source": [
    "num_col=train_data.select_dtypes(exclude=['category', 'object']).columns\n",
    "num_col"
   ]
  },
  {
   "cell_type": "code",
   "execution_count": 206,
   "metadata": {},
   "outputs": [],
   "source": [
    "cat_col=train_data.select_dtypes(include=['category', 'object']).columns"
   ]
  },
  {
   "cell_type": "code",
   "execution_count": 207,
   "metadata": {},
   "outputs": [
    {
     "data": {
      "text/plain": [
       "Index(['TotalWorkingHours', 'Billable_Hours', 'Hours_off_Duty',\n",
       "       'Touring_Hours', 'NoOfProjects', 'ActualTimeSpent', 'No_of_companies',\n",
       "       'years_in_company'],\n",
       "      dtype='object')"
      ]
     },
     "execution_count": 207,
     "metadata": {},
     "output_type": "execute_result"
    }
   ],
   "source": [
    "test_num_col=test_data.select_dtypes(exclude=['category', 'object']).columns\n",
    "test_num_col"
   ]
  },
  {
   "cell_type": "markdown",
   "metadata": {},
   "source": [
    "# Removal of Outliers using quantiles"
   ]
  },
  {
   "cell_type": "raw",
   "metadata": {},
   "source": [
    "#User defined function to remove Outliers\n",
    "\n",
    "def Outlier_removal(train_data,num_col):\n",
    "    Outliers_index = []\n",
    "    for i in range(0,train_data[num_col].shape[1]):\n",
    "        Q0 = train_data[num_col[i]].quantile(0.01)\n",
    "        Q1 = train_data[num_col[i]].quantile(0.25)\n",
    "        Q3 = train_data[num_col[i]].quantile(0.75)\n",
    "        Q4 = train_data[num_col[i]].quantile(0.99)\n",
    "        IQR = Q3 - Q1\n",
    "        Lower_whisker = Q1 - 1.5 * IQR\n",
    "        Upper_Whisker = Q3 + 1.5 * IQR\n",
    "        t = (train_data[num_col[i]][(train_data[num_col[i]] < Lower_whisker )|(train_data[num_col[i]] > Upper_Whisker)]).index.values\n",
    "        if len(t) != 0:\n",
    "            Outliers_index.extend(t)\n",
    "\n",
    "    Outliers_index = list(set(Outliers_index))\n",
    "\n",
    "    print(\"total outliers is\",len(Outliers_index))\n",
    "    print(\"outliers index is:\",Outliers_index)"
   ]
  },
  {
   "cell_type": "raw",
   "metadata": {},
   "source": [
    "Outlier_removal(train_data,num_col)"
   ]
  },
  {
   "cell_type": "markdown",
   "metadata": {},
   "source": [
    "# Replacing of outliers with whiskers "
   ]
  },
  {
   "cell_type": "code",
   "execution_count": 208,
   "metadata": {},
   "outputs": [],
   "source": [
    "#User defined function to replace Outliers with whiskers\n",
    "def Outlier_removal(train_data,num_col):\n",
    "    for i in range(0,train_data[num_col].shape[1]):\n",
    "        Q0 = train_data[num_col[i]].quantile(0.01)\n",
    "        Q1 = train_data[num_col[i]].quantile(0.25)\n",
    "        Q3 = train_data[num_col[i]].quantile(0.75)\n",
    "        Q4 = train_data[num_col[i]].quantile(1)\n",
    "        IQR = Q3 - Q1\n",
    "        Lower_whisker = Q1 - 1.5 * IQR\n",
    "        Upper_whisker = Q3 + 1.5 * IQR\n",
    "        Outliers_counts = len((train_data[num_col[i]][train_data[num_col[i]] < Lower_whisker ]) + (train_data[num_col[i]] [train_data[num_col[i]] > Upper_whisker]))\n",
    "        print(\"Outliers counts in\", num_col[i], Outliers_counts)\n",
    "        train_data.loc[(train_data[num_col[i]] < Lower_whisker),num_col[i]] = Lower_whisker\n",
    "        train_data.loc[(train_data[num_col[i]] > Upper_whisker),num_col[i]] = Upper_whisker"
   ]
  },
  {
   "cell_type": "code",
   "execution_count": 209,
   "metadata": {},
   "outputs": [
    {
     "name": "stdout",
     "output_type": "stream",
     "text": [
      "Outliers counts in TotalWorkingHours 11\n",
      "Outliers counts in Billable_Hours 17\n",
      "Outliers counts in Hours_off_Duty 3\n",
      "Outliers counts in Touring_Hours 0\n",
      "Outliers counts in NoOfProjects 29\n",
      "Outliers counts in ActualTimeSpent 0\n",
      "Outliers counts in No_of_companies 0\n",
      "Outliers counts in years_in_company 9\n"
     ]
    }
   ],
   "source": [
    "Outlier_removal(train_data,num_col)"
   ]
  },
  {
   "cell_type": "code",
   "execution_count": 210,
   "metadata": {},
   "outputs": [
    {
     "data": {
      "text/plain": [
       "TotalWorkingHours     float64\n",
       "Billable_Hours        float64\n",
       "Hours_off_Duty        float64\n",
       "Touring_Hours         float64\n",
       "NoOfProjects          float64\n",
       "ActualTimeSpent       float64\n",
       "Left_Company         category\n",
       "Designation            object\n",
       "Sex                  category\n",
       "No_of_companies       float64\n",
       "years_in_company      float64\n",
       "dtype: object"
      ]
     },
     "execution_count": 210,
     "metadata": {},
     "output_type": "execute_result"
    }
   ],
   "source": [
    "#Dropping unnecessary columns\n",
    "train_data.drop(['EmployeeID','Job_History','Joining_Date'],axis=1,inplace=True)\n",
    "train_data.dtypes"
   ]
  },
  {
   "cell_type": "code",
   "execution_count": 211,
   "metadata": {},
   "outputs": [
    {
     "data": {
      "text/plain": [
       "TotalWorkingHours     float64\n",
       "Billable_Hours        float64\n",
       "Hours_off_Duty        float64\n",
       "Touring_Hours         float64\n",
       "NoOfProjects          float64\n",
       "ActualTimeSpent       float64\n",
       "Left_Company         category\n",
       "Designation          category\n",
       "Sex                  category\n",
       "No_of_companies         int64\n",
       "years_in_company        int64\n",
       "dtype: object"
      ]
     },
     "execution_count": 211,
     "metadata": {},
     "output_type": "execute_result"
    }
   ],
   "source": [
    "test_data.drop(['EmployeeID','Job_History','Joining_Date'],axis=1,inplace=True)\n",
    "test_data.dtypes"
   ]
  },
  {
   "cell_type": "code",
   "execution_count": 212,
   "metadata": {},
   "outputs": [
    {
     "data": {
      "text/plain": [
       "Index(['Left_Company', 'Designation', 'Sex'], dtype='object')"
      ]
     },
     "execution_count": 212,
     "metadata": {},
     "output_type": "execute_result"
    }
   ],
   "source": [
    "cat_col=train_data.select_dtypes(include=['category', 'object']).columns\n",
    "cat_col"
   ]
  },
  {
   "cell_type": "code",
   "execution_count": 213,
   "metadata": {},
   "outputs": [
    {
     "data": {
      "text/plain": [
       "Index(['Left_Company', 'Designation', 'Sex'], dtype='object')"
      ]
     },
     "execution_count": 213,
     "metadata": {},
     "output_type": "execute_result"
    }
   ],
   "source": [
    "test_cat_col=test_data.select_dtypes(include=['category', 'object']).columns\n",
    "test_cat_col"
   ]
  },
  {
   "cell_type": "code",
   "execution_count": 214,
   "metadata": {},
   "outputs": [],
   "source": [
    "test_data[test_cat_col] = test_data[test_cat_col].astype('category')\n",
    "test_cat_col = test_cat_col.drop(['Left_Company'])"
   ]
  },
  {
   "cell_type": "code",
   "execution_count": 215,
   "metadata": {},
   "outputs": [],
   "source": [
    "train_data[cat_col] = train_data[cat_col].astype('category')"
   ]
  },
  {
   "cell_type": "code",
   "execution_count": 216,
   "metadata": {},
   "outputs": [
    {
     "data": {
      "text/plain": [
       "TotalWorkingHours     float64\n",
       "Billable_Hours        float64\n",
       "Hours_off_Duty        float64\n",
       "Touring_Hours         float64\n",
       "NoOfProjects          float64\n",
       "ActualTimeSpent       float64\n",
       "Left_Company         category\n",
       "Designation          category\n",
       "Sex                  category\n",
       "No_of_companies       float64\n",
       "years_in_company      float64\n",
       "dtype: object"
      ]
     },
     "execution_count": 216,
     "metadata": {},
     "output_type": "execute_result"
    }
   ],
   "source": [
    "train_data.dtypes"
   ]
  },
  {
   "cell_type": "markdown",
   "metadata": {},
   "source": [
    "# Split data into train and test sets\n",
    "\n",
    "- Use `train_test_split` method from `sklearn.model_selection` module."
   ]
  },
  {
   "cell_type": "code",
   "execution_count": 217,
   "metadata": {},
   "outputs": [],
   "source": [
    "#Splitting the data\n",
    "from sklearn.model_selection import train_test_split  \n",
    "X_train=train_data.drop(['Left_Company'], axis='columns')\n",
    "y_train = train_data['Left_Company']\n",
    "X_train, X_test, y_train, y_test = train_test_split(X_train, \n",
    "                                                    y_train, \n",
    "                                                   train_size=0.7, \n",
    "                                                    test_size=0.3,\n",
    "                                                    random_state=0)"
   ]
  },
  {
   "cell_type": "code",
   "execution_count": 218,
   "metadata": {},
   "outputs": [
    {
     "data": {
      "text/plain": [
       "((171, 10), (74, 10), (171,), (74,))"
      ]
     },
     "execution_count": 218,
     "metadata": {},
     "output_type": "execute_result"
    }
   ],
   "source": [
    "X_train.shape, X_test.shape, y_train.shape, y_test.shape"
   ]
  },
  {
   "cell_type": "code",
   "execution_count": 219,
   "metadata": {},
   "outputs": [
    {
     "data": {
      "text/plain": [
       "Index(['TotalWorkingHours', 'Billable_Hours', 'Hours_off_Duty',\n",
       "       'Touring_Hours', 'NoOfProjects', 'ActualTimeSpent', 'Left_Company',\n",
       "       'Designation', 'Sex', 'No_of_companies', 'years_in_company'],\n",
       "      dtype='object')"
      ]
     },
     "execution_count": 219,
     "metadata": {},
     "output_type": "execute_result"
    }
   ],
   "source": [
    "train_data.columns\n"
   ]
  },
  {
   "cell_type": "code",
   "execution_count": 220,
   "metadata": {},
   "outputs": [
    {
     "data": {
      "text/plain": [
       "Index(['TotalWorkingHours', 'Billable_Hours', 'Hours_off_Duty',\n",
       "       'Touring_Hours', 'NoOfProjects', 'ActualTimeSpent', 'Left_Company',\n",
       "       'Designation', 'Sex', 'No_of_companies', 'years_in_company'],\n",
       "      dtype='object')"
      ]
     },
     "execution_count": 220,
     "metadata": {},
     "output_type": "execute_result"
    }
   ],
   "source": [
    "test_data.columns"
   ]
  },
  {
   "cell_type": "markdown",
   "metadata": {},
   "source": [
    "## Visualization"
   ]
  },
  {
   "cell_type": "markdown",
   "metadata": {},
   "source": [
    "Get Correlations between the columns"
   ]
  },
  {
   "cell_type": "code",
   "execution_count": 221,
   "metadata": {},
   "outputs": [
    {
     "name": "stdout",
     "output_type": "stream",
     "text": [
      "There are 0 columns to remove.\n"
     ]
    }
   ],
   "source": [
    "threshold = 0.90\n",
    "\n",
    "# Absolute value correlation matrix\n",
    "corr_matrix = train_data.corr().abs()\n",
    "#print(corr_matrix.head())\n",
    "\n",
    "upper = corr_matrix.where(np.triu(np.ones(corr_matrix.shape), k=1).astype(np.bool))\n",
    "#print(upper.head())\n",
    "to_drop = [column for column in upper.columns if any(upper[column] > threshold)]\n",
    "print('There are %d columns to remove.' % (len(to_drop)))"
   ]
  },
  {
   "cell_type": "markdown",
   "metadata": {},
   "source": [
    "### Heat Plot"
   ]
  },
  {
   "cell_type": "code",
   "execution_count": 222,
   "metadata": {},
   "outputs": [
    {
     "data": {
      "image/png": "[encoded data removed]",
      "text/plain": [
       "<Figure size 1440x1440 with 2 Axes>"
      ]
     },
     "metadata": {
      "needs_background": "light"
     },
     "output_type": "display_data"
    }
   ],
   "source": [
    "corr = train_data.corr()\n",
    "#corr = stocks_data.drop(['Date','Week','Year'], axis=1).corr()\n",
    "#1\n",
    "# plt.figure(figsize=(12, 12))\n",
    "# sns.heatmap(corr, \n",
    "#             annot = True)\n",
    "# plt.show()\n",
    "\n",
    "#2\n",
    "# plt.figure(figsize=(12, 12))\n",
    "# matrix = np.triu(corr)\n",
    "# sns.heatmap(corr, annot=True, mask=matrix)\n",
    "# plt.show()\n",
    "\n",
    "3\n",
    "plt.figure(figsize=(20,20))\n",
    "#matrix = np.tril(corr)\n",
    "sns.heatmap(corr, annot=True)\n",
    "plt.show()"
   ]
  },
  {
   "cell_type": "markdown",
   "metadata": {},
   "source": [
    "###  Target value distribution.\n",
    "- See how the target value is distributed both in train and validation sets."
   ]
  },
  {
   "cell_type": "markdown",
   "metadata": {},
   "source": [
    "To check train and test target distribution"
   ]
  },
  {
   "cell_type": "raw",
   "metadata": {},
   "source": [
    "# Function to check the train and validation sets target distributions.\n",
    "def fn_target_dist(series):\n",
    "    # Find the counts in each class.\n",
    "    vcdf = series.value_counts()\n",
    "    # Convert above to a dataframe.\n",
    "    vcdf = vcdf.to_frame(name = 'count')\n",
    "    # Add a new column 'percentage' that gives percentage of level counts.\n",
    "    vcdf['count%'] = round(100 * vcdf['count']/len(series), 2)\n",
    "\n",
    "    # Return the target counts dataframe.\n",
    "    return vcdf\n",
    "# train target distribution\n",
    "train_target_dist = fn_target_dist(y_train)\n",
    "train_target_dist\n",
    "\n",
    "ax = train_target_dist.plot.bar(y='count%', rot=0)\n",
    "\n",
    "valid_target_dist = fn_target_dist(y_test)\n",
    "valid_target_dist\n",
    "\n",
    "train_valid_target_dist = pd.merge(train_target_dist, \n",
    "                                   valid_target_dist, \n",
    "                                   left_index=True,\n",
    "                                   right_index=True)\n",
    "train_valid_target_dist\n",
    "\n",
    "ax = train_valid_target_dist[['count%_x', 'count%_y']].plot.bar(rot=0)\n",
    "\n",
    "#Check the distribution of Target\n",
    "sns.countplot(x=y_train)\n",
    "plt.show()"
   ]
  },
  {
   "cell_type": "code",
   "execution_count": 223,
   "metadata": {},
   "outputs": [
    {
     "data": {
      "image/png": "[encoded data removed]",
      "text/plain": [
       "<Figure size 432x288 with 1 Axes>"
      ]
     },
     "metadata": {
      "needs_background": "light"
     },
     "output_type": "display_data"
    }
   ],
   "source": [
    "sns.countplot(x=y_test)\n",
    "plt.show()"
   ]
  },
  {
   "cell_type": "code",
   "execution_count": 224,
   "metadata": {},
   "outputs": [
    {
     "data": {
      "image/png": "[encoded data removed]",
      "text/plain": [
       "<Figure size 432x288 with 1 Axes>"
      ]
     },
     "metadata": {
      "needs_background": "light"
     },
     "output_type": "display_data"
    }
   ],
   "source": [
    "#Check the distribution of Target with respect to other variables\n",
    "sns.countplot(x=y_train, \n",
    "              hue=\"Sex\", \n",
    "              data=X_train)\n",
    "\n",
    "plt.show()"
   ]
  },
  {
   "cell_type": "code",
   "execution_count": 225,
   "metadata": {},
   "outputs": [
    {
     "data": {
      "text/plain": [
       "<AxesSubplot:xlabel='Left_Company'>"
      ]
     },
     "execution_count": 225,
     "metadata": {},
     "output_type": "execute_result"
    },
    {
     "data": {
      "image/png": "[encoded data removed]",
      "text/plain": [
       "<Figure size 432x288 with 1 Axes>"
      ]
     },
     "metadata": {
      "needs_background": "light"
     },
     "output_type": "display_data"
    }
   ],
   "source": [
    "import seaborn as sns\n",
    "%matplotlib inline\n",
    "sns.distplot(train_data['Left_Company'])"
   ]
  },
  {
   "cell_type": "code",
   "execution_count": 226,
   "metadata": {},
   "outputs": [
    {
     "data": {
      "image/png": "[encoded data removed]",
      "text/plain": [
       "<Figure size 720x720 with 1 Axes>"
      ]
     },
     "metadata": {
      "needs_background": "light"
     },
     "output_type": "display_data"
    }
   ],
   "source": [
    "#Boxplot to get the distribution of numerical variables\n",
    "fig, axs = plt.subplots(figsize = (10,10))\n",
    "sns.boxplot(data=train_data,orient='h',palette=\"Set2\")\n",
    "plt.show()"
   ]
  },
  {
   "cell_type": "code",
   "execution_count": 227,
   "metadata": {},
   "outputs": [
    {
     "data": {
      "image/png": "[encoded data removed]",
      "text/plain": [
       "<Figure size 864x864 with 8 Axes>"
      ]
     },
     "metadata": {
      "needs_background": "light"
     },
     "output_type": "display_data"
    }
   ],
   "source": [
    "#Boxplot to get the distribution of numerical variables with respect to Target\n",
    "fig=plt.figure(figsize=(12,12))\n",
    "fig.subplots_adjust(wspace=0.5,hspace=1)\n",
    "num_columns=train_data.select_dtypes(exclude=['category','object']).columns\n",
    "\n",
    "for i,value in enumerate(num_columns):\n",
    "    plt.subplot(4,2,i+1)\n",
    "    plt.xticks(rotation=30)\n",
    "    plt.title(value)\n",
    "    sns.boxplot(x='Left_Company',y=value,data=train_data)\n",
    "plt.show()"
   ]
  },
  {
   "cell_type": "code",
   "execution_count": 228,
   "metadata": {},
   "outputs": [
    {
     "name": "stdout",
     "output_type": "stream",
     "text": [
      "IQR 25.652173907860856\n",
      "lower whisker 133.60869566513045\n",
      "upper whisker 236.21739129657388\n"
     ]
    }
   ],
   "source": [
    "## Outlier detection and implementing with whiskers\n",
    "## Appliying Tukey's method to deal with outliers\n",
    "\n",
    "q75, q25 = np.percentile(train_data[\"TotalWorkingHours\"], [75 ,25])\n",
    "\n",
    "iqr = q75-q25\n",
    "\n",
    "print(\"IQR\",iqr)\n",
    "\n",
    "whisker_lower_Total = q25 - (1.5*iqr)\n",
    "whisker_upper_Total = q75 + (1.5*iqr)\n",
    "\n",
    "print(\"lower whisker\",whisker_lower_Total)\n",
    "print(\"upper whisker\",whisker_upper_Total)"
   ]
  },
  {
   "cell_type": "code",
   "execution_count": 229,
   "metadata": {},
   "outputs": [],
   "source": [
    "train_data[\"TotalWorkingHours\"] = train_data[\"TotalWorkingHours\"].clip(lower = whisker_lower_Total)"
   ]
  },
  {
   "cell_type": "code",
   "execution_count": 230,
   "metadata": {},
   "outputs": [
    {
     "data": {
      "text/plain": [
       "<AxesSubplot:xlabel='Designation', ylabel='count'>"
      ]
     },
     "execution_count": 230,
     "metadata": {},
     "output_type": "execute_result"
    },
    {
     "data": {
      "image/png": "[encoded data removed]",
      "text/plain": [
       "<Figure size 432x288 with 1 Axes>"
      ]
     },
     "metadata": {
      "needs_background": "light"
     },
     "output_type": "display_data"
    }
   ],
   "source": [
    "sns.countplot(x='Designation',data=train_data)"
   ]
  },
  {
   "cell_type": "code",
   "execution_count": 231,
   "metadata": {},
   "outputs": [
    {
     "data": {
      "text/plain": [
       "Index(['TotalWorkingHours', 'Billable_Hours', 'Hours_off_Duty',\n",
       "       'Touring_Hours', 'NoOfProjects', 'ActualTimeSpent', 'Left_Company',\n",
       "       'Designation', 'Sex', 'No_of_companies', 'years_in_company'],\n",
       "      dtype='object')"
      ]
     },
     "execution_count": 231,
     "metadata": {},
     "output_type": "execute_result"
    }
   ],
   "source": [
    "#train_data.set_index('EmployeeID',inplace=True)\n",
    "#train_data.drop(['Job_History'],inplace=True,axis=1)\n",
    "train_data.columns\n"
   ]
  },
  {
   "cell_type": "code",
   "execution_count": 232,
   "metadata": {},
   "outputs": [
    {
     "data": {
      "text/plain": [
       "Index(['TotalWorkingHours', 'Billable_Hours', 'Hours_off_Duty',\n",
       "       'Touring_Hours', 'NoOfProjects', 'ActualTimeSpent', 'Designation',\n",
       "       'Sex', 'No_of_companies', 'years_in_company'],\n",
       "      dtype='object')"
      ]
     },
     "execution_count": 232,
     "metadata": {},
     "output_type": "execute_result"
    }
   ],
   "source": [
    "X_train.columns"
   ]
  },
  {
   "cell_type": "markdown",
   "metadata": {},
   "source": [
    "Check Categorical columns distribution with respect to the target."
   ]
  },
  {
   "cell_type": "code",
   "execution_count": 233,
   "metadata": {},
   "outputs": [
    {
     "data": {
      "text/plain": [
       "<AxesSubplot:xlabel='Designation', ylabel='count'>"
      ]
     },
     "execution_count": 233,
     "metadata": {},
     "output_type": "execute_result"
    },
    {
     "data": {
      "image/png": "[encoded data removed]",
      "text/plain": [
       "<Figure size 432x288 with 2 Axes>"
      ]
     },
     "metadata": {
      "needs_background": "light"
     },
     "output_type": "display_data"
    }
   ],
   "source": [
    "# for col in categorical_columns:\n",
    "#     if col!='went_on_backorder':\n",
    "#         sns.countplot(x = col, hue='went_on_backorder',data = plot_data)\n",
    "#         plt.show()\n",
    "\n",
    "\n",
    "fig, axs = plt.subplots(nrows = 1, ncols=2)\n",
    "sns.set(rc={'figure.figsize':(20,8)})\n",
    "sns.countplot(x = cat_col[0], hue='Left_Company', data = train_data, ax=axs[0])\n",
    "sns.countplot(x = cat_col[1], hue='Left_Company', data = train_data, ax=axs[1])\n"
   ]
  },
  {
   "cell_type": "code",
   "execution_count": 234,
   "metadata": {},
   "outputs": [
    {
     "data": {
      "text/plain": [
       "<Figure size 216x216 with 0 Axes>"
      ]
     },
     "metadata": {},
     "output_type": "display_data"
    },
    {
     "data": {
      "image/png": "[encoded data removed]",
      "text/plain": [
       "<Figure size 1440x576 with 1 Axes>"
      ]
     },
     "metadata": {},
     "output_type": "display_data"
    },
    {
     "data": {
      "image/png": "[encoded data removed]",
      "text/plain": [
       "<Figure size 1440x576 with 1 Axes>"
      ]
     },
     "metadata": {},
     "output_type": "display_data"
    }
   ],
   "source": [
    "#target distribution in categorical columns \n",
    "fig = plt.figure(figsize=(3,3))\n",
    "fig.subplots_adjust(wspace=0.5,hspace=1)\n",
    "cat_columns=list(train_data.select_dtypes(include=['category','object']).columns)\n",
    "for value in cat_columns:\n",
    "    if value!= 'Left_Company':\n",
    "        data_plot=pd.crosstab(train_data[value],train_data['Left_Company'])\n",
    "        #print(data_plot)\n",
    "        data_plot.plot(kind='bar')\n",
    "        plt.xticks(rotation=90)\n",
    "        plt.show()"
   ]
  },
  {
   "cell_type": "code",
   "execution_count": 235,
   "metadata": {},
   "outputs": [
    {
     "data": {
      "application/vnd.plotly.v1+json": {
       "config": {
        "plotlyServerURL": "https://plot.ly"
       },
       "data": [
        {
         "alignmentgroup": "True",
         "box": {
          "visible": false
         },
         "hovertemplate": "Sex=1<br>Left_Company=%{x}<br>Designation=%{y}<extra></extra>",
         "legendgroup": "1",
         "marker": {
          "color": "#636efa"
         },
         "name": "1",
         "offsetgroup": "1",
         "orientation": "v",
         "scalegroup": "True",
         "showlegend": true,
         "type": "violin",
         "x": [
          0,
          0,
          0,
          0,
          0,
          0,
          0,
          0,
          1,
          0,
          0,
          0,
          0,
          0,
          1,
          0,
          0,
          0,
          0,
          0,
          0,
          0,
          0,
          0,
          0,
          0,
          0,
          0,
          0,
          0,
          0,
          0,
          0,
          0,
          0,
          0,
          0,
          0,
          0,
          0,
          1,
          1,
          0,
          0,
          0,
          0,
          0,
          0,
          0,
          0,
          0,
          0,
          0,
          0,
          0,
          0,
          0,
          0,
          0,
          0,
          0,
          0,
          0,
          0,
          0,
          0,
          0,
          0,
          0,
          0,
          0,
          0,
          0,
          0,
          0,
          0,
          0,
          0,
          0,
          0,
          0,
          0,
          0,
          0,
          0,
          0,
          0,
          0,
          0,
          0,
          0,
          0,
          0,
          0,
          0,
          0,
          0,
          0,
          0,
          0,
          0,
          0,
          0,
          0,
          0,
          0,
          0,
          0,
          0,
          0,
          0,
          0,
          0,
          0,
          0,
          0,
          0,
          0,
          0,
          1,
          0,
          0,
          0,
          0,
          0,
          0,
          0,
          0,
          0,
          0,
          0,
          0,
          0,
          0,
          0,
          0,
          0,
          0,
          0,
          0,
          0,
          0,
          0,
          0,
          0,
          0,
          0,
          0,
          0,
          0,
          0,
          0,
          0,
          0,
          0,
          0,
          0,
          0,
          0,
          0,
          0,
          0,
          0,
          0,
          1,
          1,
          1,
          1,
          1,
          1,
          1,
          1,
          1,
          1,
          1,
          0,
          0,
          1,
          1,
          0,
          0,
          0,
          0,
          0,
          0,
          1,
          0,
          0,
          0,
          0,
          0,
          1,
          0,
          1,
          0,
          0,
          0,
          0,
          0,
          0,
          0,
          0,
          0,
          0,
          0,
          0,
          1,
          0,
          0,
          0,
          0,
          0,
          0,
          0,
          0,
          0
         ],
         "x0": " ",
         "xaxis": "x",
         "y": [
          "MD",
          "Senior",
          "Senior",
          "Senior",
          "Senior",
          "Senior",
          "VP",
          "EVP",
          "VP",
          "Senior",
          "Junior",
          "Senior",
          "Senior",
          "VP",
          "Senior",
          "EVP",
          "VP",
          "Senior",
          "VP",
          "VP",
          "Senior",
          "Senior",
          "VP",
          "Junior",
          "Junior",
          "VP",
          "VP",
          "Junior",
          "VP",
          "Senior",
          "Junior",
          "Junior",
          "Junior",
          "Junior",
          "Junior",
          "Junior",
          "Senior",
          "MD",
          "MD",
          "Junior",
          "Junior",
          "Junior",
          "VP",
          "Junior",
          "EVP",
          "Junior",
          "Junior",
          "Junior",
          "VP",
          "Junior",
          "Junior",
          "Senior",
          "Senior",
          "MD",
          "VP",
          "VP",
          "VP",
          "Junior",
          "EVP",
          "Junior",
          "Junior",
          "EVP",
          "Senior",
          "EVP",
          "VP",
          "Junior",
          "EVP",
          "EVP",
          "EVP",
          "EVP",
          "EVP",
          "EVP",
          "MD",
          "VP",
          "VP",
          "EVP",
          "Senior",
          "VP",
          "Junior",
          "Junior",
          "Junior",
          "Senior",
          "Junior",
          "Junior",
          "Senior",
          "VP",
          "VP",
          "Senior",
          "EVP",
          "Junior",
          "Senior",
          "EVP",
          "Junior",
          "VP",
          "Senior",
          "Junior",
          "VP",
          "MD",
          "Senior",
          "VP",
          "Senior",
          "VP",
          "VP",
          "Junior",
          "Junior",
          "Junior",
          "Senior",
          "Senior",
          "EVP",
          "VP",
          "VP",
          "Senior",
          "Senior",
          "Senior",
          "Senior",
          "Senior",
          "Senior",
          "Senior",
          "VP",
          "EVP",
          "EVP",
          "Senior",
          "VP",
          "EVP",
          "EVP",
          "VP",
          "Senior",
          "VP",
          "VP",
          "VP",
          "Senior",
          "Junior",
          "VP",
          "Senior",
          "Junior",
          "Junior",
          "Junior",
          "Senior",
          "MD",
          "Junior",
          "EVP",
          "VP",
          "Junior",
          "Junior",
          "Junior",
          "Junior",
          "Junior",
          "Junior",
          "Junior",
          "Junior",
          "Senior",
          "Senior",
          "VP",
          "VP",
          "VP",
          "VP",
          "Junior",
          "EVP",
          "Junior",
          "Senior",
          "Junior",
          "Senior",
          "Junior",
          "EVP",
          "MD",
          "VP",
          "VP",
          "VP",
          "Junior",
          "Senior",
          "Senior",
          "VP",
          "Senior",
          "Junior",
          "Junior",
          "EVP",
          "Junior",
          "VP",
          "VP",
          "Junior",
          "Junior",
          "VP",
          "MD",
          "MD",
          "VP",
          "VP",
          "Junior",
          "EVP",
          "Senior",
          "Junior",
          "Senior",
          "Junior",
          "Senior",
          "MD",
          "Senior",
          "VP",
          "Junior",
          "Junior",
          "VP",
          "MD",
          "Senior",
          "VP",
          "Junior",
          "Senior",
          "VP",
          "Junior",
          "Senior",
          "Senior",
          "Senior",
          "EVP",
          "EVP",
          "VP",
          "VP",
          "Senior",
          "Senior",
          "Senior"
         ],
         "y0": " ",
         "yaxis": "y"
        },
        {
         "alignmentgroup": "True",
         "box": {
          "visible": false
         },
         "hovertemplate": "Sex=0<br>Left_Company=%{x}<br>Designation=%{y}<extra></extra>",
         "legendgroup": "0",
         "marker": {
          "color": "#EF553B"
         },
         "name": "0",
         "offsetgroup": "0",
         "orientation": "v",
         "scalegroup": "True",
         "showlegend": true,
         "type": "violin",
         "x": [
          1,
          0,
          0,
          0,
          0,
          0,
          0,
          0,
          0,
          0,
          0,
          0,
          0,
          0,
          0,
          0,
          0,
          0,
          1,
          1,
          0,
          0,
          0,
          1,
          0,
          0,
          0,
          0,
          1
         ],
         "x0": " ",
         "xaxis": "x",
         "y": [
          "VP",
          "Senior",
          "Junior",
          "Junior",
          "Junior",
          "Junior",
          "VP",
          "VP",
          "VP",
          "Junior",
          "VP",
          "EVP",
          "Senior",
          "Senior",
          "Senior",
          "Junior",
          "Junior",
          "Junior",
          "Junior",
          "Junior",
          "Junior",
          "VP",
          "Junior",
          "Junior",
          "Junior",
          "VP",
          "VP",
          "Senior",
          "Junior"
         ],
         "y0": " ",
         "yaxis": "y"
        }
       ],
       "layout": {
        "legend": {
         "title": {
          "text": "Sex"
         },
         "tracegroupgap": 0
        },
        "margin": {
         "t": 60
        },
        "template": {
         "data": {
          "bar": [
           {
            "error_x": {
             "color": "#2a3f5f"
            },
            "error_y": {
             "color": "#2a3f5f"
            },
            "marker": {
             "line": {
              "color": "#E5ECF6",
              "width": 0.5
             }
            },
            "type": "bar"
           }
          ],
          "barpolar": [
           {
            "marker": {
             "line": {
              "color": "#E5ECF6",
              "width": 0.5
             }
            },
            "type": "barpolar"
           }
          ],
          "carpet": [
           {
            "aaxis": {
             "endlinecolor": "#2a3f5f",
             "gridcolor": "white",
             "linecolor": "white",
             "minorgridcolor": "white",
             "startlinecolor": "#2a3f5f"
            },
            "baxis": {
             "endlinecolor": "#2a3f5f",
             "gridcolor": "white",
             "linecolor": "white",
             "minorgridcolor": "white",
             "startlinecolor": "#2a3f5f"
            },
            "type": "carpet"
           }
          ],
          "choropleth": [
           {
            "colorbar": {
             "outlinewidth": 0,
             "ticks": ""
            },
            "type": "choropleth"
           }
          ],
          "contour": [
           {
            "colorbar": {
             "outlinewidth": 0,
             "ticks": ""
            },
            "colorscale": [
             [
              0,
              "#0d0887"
             ],
             [
              0.1111111111111111,
              "#46039f"
             ],
             [
              0.2222222222222222,
              "#7201a8"
             ],
             [
              0.3333333333333333,
              "#9c179e"
             ],
             [
              0.4444444444444444,
              "#bd3786"
             ],
             [
              0.5555555555555556,
              "#d8576b"
             ],
             [
              0.6666666666666666,
              "#ed7953"
             ],
             [
              0.7777777777777778,
              "#fb9f3a"
             ],
             [
              0.8888888888888888,
              "#fdca26"
             ],
             [
              1,
              "#f0f921"
             ]
            ],
            "type": "contour"
           }
          ],
          "contourcarpet": [
           {
            "colorbar": {
             "outlinewidth": 0,
             "ticks": ""
            },
            "type": "contourcarpet"
           }
          ],
          "heatmap": [
           {
            "colorbar": {
             "outlinewidth": 0,
             "ticks": ""
            },
            "colorscale": [
             [
              0,
              "#0d0887"
             ],
             [
              0.1111111111111111,
              "#46039f"
             ],
             [
              0.2222222222222222,
              "#7201a8"
             ],
             [
              0.3333333333333333,
              "#9c179e"
             ],
             [
              0.4444444444444444,
              "#bd3786"
             ],
             [
              0.5555555555555556,
              "#d8576b"
             ],
             [
              0.6666666666666666,
              "#ed7953"
             ],
             [
              0.7777777777777778,
              "#fb9f3a"
             ],
             [
              0.8888888888888888,
              "#fdca26"
             ],
             [
              1,
              "#f0f921"
             ]
            ],
            "type": "heatmap"
           }
          ],
          "heatmapgl": [
           {
            "colorbar": {
             "outlinewidth": 0,
             "ticks": ""
            },
            "colorscale": [
             [
              0,
              "#0d0887"
             ],
             [
              0.1111111111111111,
              "#46039f"
             ],
             [
              0.2222222222222222,
              "#7201a8"
             ],
             [
              0.3333333333333333,
              "#9c179e"
             ],
             [
              0.4444444444444444,
              "#bd3786"
             ],
             [
              0.5555555555555556,
              "#d8576b"
             ],
             [
              0.6666666666666666,
              "#ed7953"
             ],
             [
              0.7777777777777778,
              "#fb9f3a"
             ],
             [
              0.8888888888888888,
              "#fdca26"
             ],
             [
              1,
              "#f0f921"
             ]
            ],
            "type": "heatmapgl"
           }
          ],
          "histogram": [
           {
            "marker": {
             "colorbar": {
              "outlinewidth": 0,
              "ticks": ""
             }
            },
            "type": "histogram"
           }
          ],
          "histogram2d": [
           {
            "colorbar": {
             "outlinewidth": 0,
             "ticks": ""
            },
            "colorscale": [
             [
              0,
              "#0d0887"
             ],
             [
              0.1111111111111111,
              "#46039f"
             ],
             [
              0.2222222222222222,
              "#7201a8"
             ],
             [
              0.3333333333333333,
              "#9c179e"
             ],
             [
              0.4444444444444444,
              "#bd3786"
             ],
             [
              0.5555555555555556,
              "#d8576b"
             ],
             [
              0.6666666666666666,
              "#ed7953"
             ],
             [
              0.7777777777777778,
              "#fb9f3a"
             ],
             [
              0.8888888888888888,
              "#fdca26"
             ],
             [
              1,
              "#f0f921"
             ]
            ],
            "type": "histogram2d"
           }
          ],
          "histogram2dcontour": [
           {
            "colorbar": {
             "outlinewidth": 0,
             "ticks": ""
            },
            "colorscale": [
             [
              0,
              "#0d0887"
             ],
             [
              0.1111111111111111,
              "#46039f"
             ],
             [
              0.2222222222222222,
              "#7201a8"
             ],
             [
              0.3333333333333333,
              "#9c179e"
             ],
             [
              0.4444444444444444,
              "#bd3786"
             ],
             [
              0.5555555555555556,
              "#d8576b"
             ],
             [
              0.6666666666666666,
              "#ed7953"
             ],
             [
              0.7777777777777778,
              "#fb9f3a"
             ],
             [
              0.8888888888888888,
              "#fdca26"
             ],
             [
              1,
              "#f0f921"
             ]
            ],
            "type": "histogram2dcontour"
           }
          ],
          "mesh3d": [
           {
            "colorbar": {
             "outlinewidth": 0,
             "ticks": ""
            },
            "type": "mesh3d"
           }
          ],
          "parcoords": [
           {
            "line": {
             "colorbar": {
              "outlinewidth": 0,
              "ticks": ""
             }
            },
            "type": "parcoords"
           }
          ],
          "pie": [
           {
            "automargin": true,
            "type": "pie"
           }
          ],
          "scatter": [
           {
            "marker": {
             "colorbar": {
              "outlinewidth": 0,
              "ticks": ""
             }
            },
            "type": "scatter"
           }
          ],
          "scatter3d": [
           {
            "line": {
             "colorbar": {
              "outlinewidth": 0,
              "ticks": ""
             }
            },
            "marker": {
             "colorbar": {
              "outlinewidth": 0,
              "ticks": ""
             }
            },
            "type": "scatter3d"
           }
          ],
          "scattercarpet": [
           {
            "marker": {
             "colorbar": {
              "outlinewidth": 0,
              "ticks": ""
             }
            },
            "type": "scattercarpet"
           }
          ],
          "scattergeo": [
           {
            "marker": {
             "colorbar": {
              "outlinewidth": 0,
              "ticks": ""
             }
            },
            "type": "scattergeo"
           }
          ],
          "scattergl": [
           {
            "marker": {
             "colorbar": {
              "outlinewidth": 0,
              "ticks": ""
             }
            },
            "type": "scattergl"
           }
          ],
          "scattermapbox": [
           {
            "marker": {
             "colorbar": {
              "outlinewidth": 0,
              "ticks": ""
             }
            },
            "type": "scattermapbox"
           }
          ],
          "scatterpolar": [
           {
            "marker": {
             "colorbar": {
              "outlinewidth": 0,
              "ticks": ""
             }
            },
            "type": "scatterpolar"
           }
          ],
          "scatterpolargl": [
           {
            "marker": {
             "colorbar": {
              "outlinewidth": 0,
              "ticks": ""
             }
            },
            "type": "scatterpolargl"
           }
          ],
          "scatterternary": [
           {
            "marker": {
             "colorbar": {
              "outlinewidth": 0,
              "ticks": ""
             }
            },
            "type": "scatterternary"
           }
          ],
          "surface": [
           {
            "colorbar": {
             "outlinewidth": 0,
             "ticks": ""
            },
            "colorscale": [
             [
              0,
              "#0d0887"
             ],
             [
              0.1111111111111111,
              "#46039f"
             ],
             [
              0.2222222222222222,
              "#7201a8"
             ],
             [
              0.3333333333333333,
              "#9c179e"
             ],
             [
              0.4444444444444444,
              "#bd3786"
             ],
             [
              0.5555555555555556,
              "#d8576b"
             ],
             [
              0.6666666666666666,
              "#ed7953"
             ],
             [
              0.7777777777777778,
              "#fb9f3a"
             ],
             [
              0.8888888888888888,
              "#fdca26"
             ],
             [
              1,
              "#f0f921"
             ]
            ],
            "type": "surface"
           }
          ],
          "table": [
           {
            "cells": {
             "fill": {
              "color": "#EBF0F8"
             },
             "line": {
              "color": "white"
             }
            },
            "header": {
             "fill": {
              "color": "#C8D4E3"
             },
             "line": {
              "color": "white"
             }
            },
            "type": "table"
           }
          ]
         },
         "layout": {
          "annotationdefaults": {
           "arrowcolor": "#2a3f5f",
           "arrowhead": 0,
           "arrowwidth": 1
          },
          "autotypenumbers": "strict",
          "coloraxis": {
           "colorbar": {
            "outlinewidth": 0,
            "ticks": ""
           }
          },
          "colorscale": {
           "diverging": [
            [
             0,
             "#8e0152"
            ],
            [
             0.1,
             "#c51b7d"
            ],
            [
             0.2,
             "#de77ae"
            ],
            [
             0.3,
             "#f1b6da"
            ],
            [
             0.4,
             "#fde0ef"
            ],
            [
             0.5,
             "#f7f7f7"
            ],
            [
             0.6,
             "#e6f5d0"
            ],
            [
             0.7,
             "#b8e186"
            ],
            [
             0.8,
             "#7fbc41"
            ],
            [
             0.9,
             "#4d9221"
            ],
            [
             1,
             "#276419"
            ]
           ],
           "sequential": [
            [
             0,
             "#0d0887"
            ],
            [
             0.1111111111111111,
             "#46039f"
            ],
            [
             0.2222222222222222,
             "#7201a8"
            ],
            [
             0.3333333333333333,
             "#9c179e"
            ],
            [
             0.4444444444444444,
             "#bd3786"
            ],
            [
             0.5555555555555556,
             "#d8576b"
            ],
            [
             0.6666666666666666,
             "#ed7953"
            ],
            [
             0.7777777777777778,
             "#fb9f3a"
            ],
            [
             0.8888888888888888,
             "#fdca26"
            ],
            [
             1,
             "#f0f921"
            ]
           ],
           "sequentialminus": [
            [
             0,
             "#0d0887"
            ],
            [
             0.1111111111111111,
             "#46039f"
            ],
            [
             0.2222222222222222,
             "#7201a8"
            ],
            [
             0.3333333333333333,
             "#9c179e"
            ],
            [
             0.4444444444444444,
             "#bd3786"
            ],
            [
             0.5555555555555556,
             "#d8576b"
            ],
            [
             0.6666666666666666,
             "#ed7953"
            ],
            [
             0.7777777777777778,
             "#fb9f3a"
            ],
            [
             0.8888888888888888,
             "#fdca26"
            ],
            [
             1,
             "#f0f921"
            ]
           ]
          },
          "colorway": [
           "#636efa",
           "#EF553B",
           "#00cc96",
           "#ab63fa",
           "#FFA15A",
           "#19d3f3",
           "#FF6692",
           "#B6E880",
           "#FF97FF",
           "#FECB52"
          ],
          "font": {
           "color": "#2a3f5f"
          },
          "geo": {
           "bgcolor": "white",
           "lakecolor": "white",
           "landcolor": "#E5ECF6",
           "showlakes": true,
           "showland": true,
           "subunitcolor": "white"
          },
          "hoverlabel": {
           "align": "left"
          },
          "hovermode": "closest",
          "mapbox": {
           "style": "light"
          },
          "paper_bgcolor": "white",
          "plot_bgcolor": "#E5ECF6",
          "polar": {
           "angularaxis": {
            "gridcolor": "white",
            "linecolor": "white",
            "ticks": ""
           },
           "bgcolor": "#E5ECF6",
           "radialaxis": {
            "gridcolor": "white",
            "linecolor": "white",
            "ticks": ""
           }
          },
          "scene": {
           "xaxis": {
            "backgroundcolor": "#E5ECF6",
            "gridcolor": "white",
            "gridwidth": 2,
            "linecolor": "white",
            "showbackground": true,
            "ticks": "",
            "zerolinecolor": "white"
           },
           "yaxis": {
            "backgroundcolor": "#E5ECF6",
            "gridcolor": "white",
            "gridwidth": 2,
            "linecolor": "white",
            "showbackground": true,
            "ticks": "",
            "zerolinecolor": "white"
           },
           "zaxis": {
            "backgroundcolor": "#E5ECF6",
            "gridcolor": "white",
            "gridwidth": 2,
            "linecolor": "white",
            "showbackground": true,
            "ticks": "",
            "zerolinecolor": "white"
           }
          },
          "shapedefaults": {
           "line": {
            "color": "#2a3f5f"
           }
          },
          "ternary": {
           "aaxis": {
            "gridcolor": "white",
            "linecolor": "white",
            "ticks": ""
           },
           "baxis": {
            "gridcolor": "white",
            "linecolor": "white",
            "ticks": ""
           },
           "bgcolor": "#E5ECF6",
           "caxis": {
            "gridcolor": "white",
            "linecolor": "white",
            "ticks": ""
           }
          },
          "title": {
           "x": 0.05
          },
          "xaxis": {
           "automargin": true,
           "gridcolor": "white",
           "linecolor": "white",
           "ticks": "",
           "title": {
            "standoff": 15
           },
           "zerolinecolor": "white",
           "zerolinewidth": 2
          },
          "yaxis": {
           "automargin": true,
           "gridcolor": "white",
           "linecolor": "white",
           "ticks": "",
           "title": {
            "standoff": 15
           },
           "zerolinecolor": "white",
           "zerolinewidth": 2
          }
         }
        },
        "violinmode": "group",
        "xaxis": {
         "anchor": "y",
         "domain": [
          0,
          1
         ],
         "title": {
          "text": "Left_Company"
         }
        },
        "yaxis": {
         "anchor": "x",
         "domain": [
          0,
          1
         ],
         "title": {
          "text": "Designation"
         }
        }
       }
      },
      "text/html": [
       "<div>                            <div id=\"21d4caa9-424f-416a-ae63-8b1c19585200\" class=\"plotly-graph-div\" style=\"height:525px; width:100%;\"></div>            <script type=\"text/javascript\">                require([\"plotly\"], function(Plotly) {                    window.PLOTLYENV=window.PLOTLYENV || {};                                    if (document.getElementById(\"21d4caa9-424f-416a-ae63-8b1c19585200\")) {                    Plotly.newPlot(                        \"21d4caa9-424f-416a-ae63-8b1c19585200\",                        [{\"alignmentgroup\": \"True\", \"box\": {\"visible\": false}, \"hovertemplate\": \"Sex=1<br>Left_Company=%{x}<br>Designation=%{y}<extra></extra>\", \"legendgroup\": \"1\", \"marker\": {\"color\": \"#636efa\"}, \"name\": \"1\", \"offsetgroup\": \"1\", \"orientation\": \"v\", \"scalegroup\": \"True\", \"showlegend\": true, \"type\": \"violin\", \"x\": [0.0, 0.0, 0.0, 0.0, 0.0, 0.0, 0.0, 0.0, 1.0, 0.0, 0.0, 0.0, 0.0, 0.0, 1.0, 0.0, 0.0, 0.0, 0.0, 0.0, 0.0, 0.0, 0.0, 0.0, 0.0, 0.0, 0.0, 0.0, 0.0, 0.0, 0.0, 0.0, 0.0, 0.0, 0.0, 0.0, 0.0, 0.0, 0.0, 0.0, 1.0, 1.0, 0.0, 0.0, 0.0, 0.0, 0.0, 0.0, 0.0, 0.0, 0.0, 0.0, 0.0, 0.0, 0.0, 0.0, 0.0, 0.0, 0.0, 0.0, 0.0, 0.0, 0.0, 0.0, 0.0, 0.0, 0.0, 0.0, 0.0, 0.0, 0.0, 0.0, 0.0, 0.0, 0.0, 0.0, 0.0, 0.0, 0.0, 0.0, 0.0, 0.0, 0.0, 0.0, 0.0, 0.0, 0.0, 0.0, 0.0, 0.0, 0.0, 0.0, 0.0, 0.0, 0.0, 0.0, 0.0, 0.0, 0.0, 0.0, 0.0, 0.0, 0.0, 0.0, 0.0, 0.0, 0.0, 0.0, 0.0, 0.0, 0.0, 0.0, 0.0, 0.0, 0.0, 0.0, 0.0, 0.0, 0.0, 1.0, 0.0, 0.0, 0.0, 0.0, 0.0, 0.0, 0.0, 0.0, 0.0, 0.0, 0.0, 0.0, 0.0, 0.0, 0.0, 0.0, 0.0, 0.0, 0.0, 0.0, 0.0, 0.0, 0.0, 0.0, 0.0, 0.0, 0.0, 0.0, 0.0, 0.0, 0.0, 0.0, 0.0, 0.0, 0.0, 0.0, 0.0, 0.0, 0.0, 0.0, 0.0, 0.0, 0.0, 0.0, 1.0, 1.0, 1.0, 1.0, 1.0, 1.0, 1.0, 1.0, 1.0, 1.0, 1.0, 0.0, 0.0, 1.0, 1.0, 0.0, 0.0, 0.0, 0.0, 0.0, 0.0, 1.0, 0.0, 0.0, 0.0, 0.0, 0.0, 1.0, 0.0, 1.0, 0.0, 0.0, 0.0, 0.0, 0.0, 0.0, 0.0, 0.0, 0.0, 0.0, 0.0, 0.0, 1.0, 0.0, 0.0, 0.0, 0.0, 0.0, 0.0, 0.0, 0.0, 0.0], \"x0\": \" \", \"xaxis\": \"x\", \"y\": [\"MD\", \"Senior\", \"Senior\", \"Senior\", \"Senior\", \"Senior\", \"VP\", \"EVP\", \"VP\", \"Senior\", \"Junior\", \"Senior\", \"Senior\", \"VP\", \"Senior\", \"EVP\", \"VP\", \"Senior\", \"VP\", \"VP\", \"Senior\", \"Senior\", \"VP\", \"Junior\", \"Junior\", \"VP\", \"VP\", \"Junior\", \"VP\", \"Senior\", \"Junior\", \"Junior\", \"Junior\", \"Junior\", \"Junior\", \"Junior\", \"Senior\", \"MD\", \"MD\", \"Junior\", \"Junior\", \"Junior\", \"VP\", \"Junior\", \"EVP\", \"Junior\", \"Junior\", \"Junior\", \"VP\", \"Junior\", \"Junior\", \"Senior\", \"Senior\", \"MD\", \"VP\", \"VP\", \"VP\", \"Junior\", \"EVP\", \"Junior\", \"Junior\", \"EVP\", \"Senior\", \"EVP\", \"VP\", \"Junior\", \"EVP\", \"EVP\", \"EVP\", \"EVP\", \"EVP\", \"EVP\", \"MD\", \"VP\", \"VP\", \"EVP\", \"Senior\", \"VP\", \"Junior\", \"Junior\", \"Junior\", \"Senior\", \"Junior\", \"Junior\", \"Senior\", \"VP\", \"VP\", \"Senior\", \"EVP\", \"Junior\", \"Senior\", \"EVP\", \"Junior\", \"VP\", \"Senior\", \"Junior\", \"VP\", \"MD\", \"Senior\", \"VP\", \"Senior\", \"VP\", \"VP\", \"Junior\", \"Junior\", \"Junior\", \"Senior\", \"Senior\", \"EVP\", \"VP\", \"VP\", \"Senior\", \"Senior\", \"Senior\", \"Senior\", \"Senior\", \"Senior\", \"Senior\", \"VP\", \"EVP\", \"EVP\", \"Senior\", \"VP\", \"EVP\", \"EVP\", \"VP\", \"Senior\", \"VP\", \"VP\", \"VP\", \"Senior\", \"Junior\", \"VP\", \"Senior\", \"Junior\", \"Junior\", \"Junior\", \"Senior\", \"MD\", \"Junior\", \"EVP\", \"VP\", \"Junior\", \"Junior\", \"Junior\", \"Junior\", \"Junior\", \"Junior\", \"Junior\", \"Junior\", \"Senior\", \"Senior\", \"VP\", \"VP\", \"VP\", \"VP\", \"Junior\", \"EVP\", \"Junior\", \"Senior\", \"Junior\", \"Senior\", \"Junior\", \"EVP\", \"MD\", \"VP\", \"VP\", \"VP\", \"Junior\", \"Senior\", \"Senior\", \"VP\", \"Senior\", \"Junior\", \"Junior\", \"EVP\", \"Junior\", \"VP\", \"VP\", \"Junior\", \"Junior\", \"VP\", \"MD\", \"MD\", \"VP\", \"VP\", \"Junior\", \"EVP\", \"Senior\", \"Junior\", \"Senior\", \"Junior\", \"Senior\", \"MD\", \"Senior\", \"VP\", \"Junior\", \"Junior\", \"VP\", \"MD\", \"Senior\", \"VP\", \"Junior\", \"Senior\", \"VP\", \"Junior\", \"Senior\", \"Senior\", \"Senior\", \"EVP\", \"EVP\", \"VP\", \"VP\", \"Senior\", \"Senior\", \"Senior\"], \"y0\": \" \", \"yaxis\": \"y\"}, {\"alignmentgroup\": \"True\", \"box\": {\"visible\": false}, \"hovertemplate\": \"Sex=0<br>Left_Company=%{x}<br>Designation=%{y}<extra></extra>\", \"legendgroup\": \"0\", \"marker\": {\"color\": \"#EF553B\"}, \"name\": \"0\", \"offsetgroup\": \"0\", \"orientation\": \"v\", \"scalegroup\": \"True\", \"showlegend\": true, \"type\": \"violin\", \"x\": [1.0, 0.0, 0.0, 0.0, 0.0, 0.0, 0.0, 0.0, 0.0, 0.0, 0.0, 0.0, 0.0, 0.0, 0.0, 0.0, 0.0, 0.0, 1.0, 1.0, 0.0, 0.0, 0.0, 1.0, 0.0, 0.0, 0.0, 0.0, 1.0], \"x0\": \" \", \"xaxis\": \"x\", \"y\": [\"VP\", \"Senior\", \"Junior\", \"Junior\", \"Junior\", \"Junior\", \"VP\", \"VP\", \"VP\", \"Junior\", \"VP\", \"EVP\", \"Senior\", \"Senior\", \"Senior\", \"Junior\", \"Junior\", \"Junior\", \"Junior\", \"Junior\", \"Junior\", \"VP\", \"Junior\", \"Junior\", \"Junior\", \"VP\", \"VP\", \"Senior\", \"Junior\"], \"y0\": \" \", \"yaxis\": \"y\"}],                        {\"legend\": {\"title\": {\"text\": \"Sex\"}, \"tracegroupgap\": 0}, \"margin\": {\"t\": 60}, \"template\": {\"data\": {\"bar\": [{\"error_x\": {\"color\": \"#2a3f5f\"}, \"error_y\": {\"color\": \"#2a3f5f\"}, \"marker\": {\"line\": {\"color\": \"#E5ECF6\", \"width\": 0.5}}, \"type\": \"bar\"}], \"barpolar\": [{\"marker\": {\"line\": {\"color\": \"#E5ECF6\", \"width\": 0.5}}, \"type\": \"barpolar\"}], \"carpet\": [{\"aaxis\": {\"endlinecolor\": \"#2a3f5f\", \"gridcolor\": \"white\", \"linecolor\": \"white\", \"minorgridcolor\": \"white\", \"startlinecolor\": \"#2a3f5f\"}, \"baxis\": {\"endlinecolor\": \"#2a3f5f\", \"gridcolor\": \"white\", \"linecolor\": \"white\", \"minorgridcolor\": \"white\", \"startlinecolor\": \"#2a3f5f\"}, \"type\": \"carpet\"}], \"choropleth\": [{\"colorbar\": {\"outlinewidth\": 0, \"ticks\": \"\"}, \"type\": \"choropleth\"}], \"contour\": [{\"colorbar\": {\"outlinewidth\": 0, \"ticks\": \"\"}, \"colorscale\": [[0.0, \"#0d0887\"], [0.1111111111111111, \"#46039f\"], [0.2222222222222222, \"#7201a8\"], [0.3333333333333333, \"#9c179e\"], [0.4444444444444444, \"#bd3786\"], [0.5555555555555556, \"#d8576b\"], [0.6666666666666666, \"#ed7953\"], [0.7777777777777778, \"#fb9f3a\"], [0.8888888888888888, \"#fdca26\"], [1.0, \"#f0f921\"]], \"type\": \"contour\"}], \"contourcarpet\": [{\"colorbar\": {\"outlinewidth\": 0, \"ticks\": \"\"}, \"type\": \"contourcarpet\"}], \"heatmap\": [{\"colorbar\": {\"outlinewidth\": 0, \"ticks\": \"\"}, \"colorscale\": [[0.0, \"#0d0887\"], [0.1111111111111111, \"#46039f\"], [0.2222222222222222, \"#7201a8\"], [0.3333333333333333, \"#9c179e\"], [0.4444444444444444, \"#bd3786\"], [0.5555555555555556, \"#d8576b\"], [0.6666666666666666, \"#ed7953\"], [0.7777777777777778, \"#fb9f3a\"], [0.8888888888888888, \"#fdca26\"], [1.0, \"#f0f921\"]], \"type\": \"heatmap\"}], \"heatmapgl\": [{\"colorbar\": {\"outlinewidth\": 0, \"ticks\": \"\"}, \"colorscale\": [[0.0, \"#0d0887\"], [0.1111111111111111, \"#46039f\"], [0.2222222222222222, \"#7201a8\"], [0.3333333333333333, \"#9c179e\"], [0.4444444444444444, \"#bd3786\"], [0.5555555555555556, \"#d8576b\"], [0.6666666666666666, \"#ed7953\"], [0.7777777777777778, \"#fb9f3a\"], [0.8888888888888888, \"#fdca26\"], [1.0, \"#f0f921\"]], \"type\": \"heatmapgl\"}], \"histogram\": [{\"marker\": {\"colorbar\": {\"outlinewidth\": 0, \"ticks\": \"\"}}, \"type\": \"histogram\"}], \"histogram2d\": [{\"colorbar\": {\"outlinewidth\": 0, \"ticks\": \"\"}, \"colorscale\": [[0.0, \"#0d0887\"], [0.1111111111111111, \"#46039f\"], [0.2222222222222222, \"#7201a8\"], [0.3333333333333333, \"#9c179e\"], [0.4444444444444444, \"#bd3786\"], [0.5555555555555556, \"#d8576b\"], [0.6666666666666666, \"#ed7953\"], [0.7777777777777778, \"#fb9f3a\"], [0.8888888888888888, \"#fdca26\"], [1.0, \"#f0f921\"]], \"type\": \"histogram2d\"}], \"histogram2dcontour\": [{\"colorbar\": {\"outlinewidth\": 0, \"ticks\": \"\"}, \"colorscale\": [[0.0, \"#0d0887\"], [0.1111111111111111, \"#46039f\"], [0.2222222222222222, \"#7201a8\"], [0.3333333333333333, \"#9c179e\"], [0.4444444444444444, \"#bd3786\"], [0.5555555555555556, \"#d8576b\"], [0.6666666666666666, \"#ed7953\"], [0.7777777777777778, \"#fb9f3a\"], [0.8888888888888888, \"#fdca26\"], [1.0, \"#f0f921\"]], \"type\": \"histogram2dcontour\"}], \"mesh3d\": [{\"colorbar\": {\"outlinewidth\": 0, \"ticks\": \"\"}, \"type\": \"mesh3d\"}], \"parcoords\": [{\"line\": {\"colorbar\": {\"outlinewidth\": 0, \"ticks\": \"\"}}, \"type\": \"parcoords\"}], \"pie\": [{\"automargin\": true, \"type\": \"pie\"}], \"scatter\": [{\"marker\": {\"colorbar\": {\"outlinewidth\": 0, \"ticks\": \"\"}}, \"type\": \"scatter\"}], \"scatter3d\": [{\"line\": {\"colorbar\": {\"outlinewidth\": 0, \"ticks\": \"\"}}, \"marker\": {\"colorbar\": {\"outlinewidth\": 0, \"ticks\": \"\"}}, \"type\": \"scatter3d\"}], \"scattercarpet\": [{\"marker\": {\"colorbar\": {\"outlinewidth\": 0, \"ticks\": \"\"}}, \"type\": \"scattercarpet\"}], \"scattergeo\": [{\"marker\": {\"colorbar\": {\"outlinewidth\": 0, \"ticks\": \"\"}}, \"type\": \"scattergeo\"}], \"scattergl\": [{\"marker\": {\"colorbar\": {\"outlinewidth\": 0, \"ticks\": \"\"}}, \"type\": \"scattergl\"}], \"scattermapbox\": [{\"marker\": {\"colorbar\": {\"outlinewidth\": 0, \"ticks\": \"\"}}, \"type\": \"scattermapbox\"}], \"scatterpolar\": [{\"marker\": {\"colorbar\": {\"outlinewidth\": 0, \"ticks\": \"\"}}, \"type\": \"scatterpolar\"}], \"scatterpolargl\": [{\"marker\": {\"colorbar\": {\"outlinewidth\": 0, \"ticks\": \"\"}}, \"type\": \"scatterpolargl\"}], \"scatterternary\": [{\"marker\": {\"colorbar\": {\"outlinewidth\": 0, \"ticks\": \"\"}}, \"type\": \"scatterternary\"}], \"surface\": [{\"colorbar\": {\"outlinewidth\": 0, \"ticks\": \"\"}, \"colorscale\": [[0.0, \"#0d0887\"], [0.1111111111111111, \"#46039f\"], [0.2222222222222222, \"#7201a8\"], [0.3333333333333333, \"#9c179e\"], [0.4444444444444444, \"#bd3786\"], [0.5555555555555556, \"#d8576b\"], [0.6666666666666666, \"#ed7953\"], [0.7777777777777778, \"#fb9f3a\"], [0.8888888888888888, \"#fdca26\"], [1.0, \"#f0f921\"]], \"type\": \"surface\"}], \"table\": [{\"cells\": {\"fill\": {\"color\": \"#EBF0F8\"}, \"line\": {\"color\": \"white\"}}, \"header\": {\"fill\": {\"color\": \"#C8D4E3\"}, \"line\": {\"color\": \"white\"}}, \"type\": \"table\"}]}, \"layout\": {\"annotationdefaults\": {\"arrowcolor\": \"#2a3f5f\", \"arrowhead\": 0, \"arrowwidth\": 1}, \"autotypenumbers\": \"strict\", \"coloraxis\": {\"colorbar\": {\"outlinewidth\": 0, \"ticks\": \"\"}}, \"colorscale\": {\"diverging\": [[0, \"#8e0152\"], [0.1, \"#c51b7d\"], [0.2, \"#de77ae\"], [0.3, \"#f1b6da\"], [0.4, \"#fde0ef\"], [0.5, \"#f7f7f7\"], [0.6, \"#e6f5d0\"], [0.7, \"#b8e186\"], [0.8, \"#7fbc41\"], [0.9, \"#4d9221\"], [1, \"#276419\"]], \"sequential\": [[0.0, \"#0d0887\"], [0.1111111111111111, \"#46039f\"], [0.2222222222222222, \"#7201a8\"], [0.3333333333333333, \"#9c179e\"], [0.4444444444444444, \"#bd3786\"], [0.5555555555555556, \"#d8576b\"], [0.6666666666666666, \"#ed7953\"], [0.7777777777777778, \"#fb9f3a\"], [0.8888888888888888, \"#fdca26\"], [1.0, \"#f0f921\"]], \"sequentialminus\": [[0.0, \"#0d0887\"], [0.1111111111111111, \"#46039f\"], [0.2222222222222222, \"#7201a8\"], [0.3333333333333333, \"#9c179e\"], [0.4444444444444444, \"#bd3786\"], [0.5555555555555556, \"#d8576b\"], [0.6666666666666666, \"#ed7953\"], [0.7777777777777778, \"#fb9f3a\"], [0.8888888888888888, \"#fdca26\"], [1.0, \"#f0f921\"]]}, \"colorway\": [\"#636efa\", \"#EF553B\", \"#00cc96\", \"#ab63fa\", \"#FFA15A\", \"#19d3f3\", \"#FF6692\", \"#B6E880\", \"#FF97FF\", \"#FECB52\"], \"font\": {\"color\": \"#2a3f5f\"}, \"geo\": {\"bgcolor\": \"white\", \"lakecolor\": \"white\", \"landcolor\": \"#E5ECF6\", \"showlakes\": true, \"showland\": true, \"subunitcolor\": \"white\"}, \"hoverlabel\": {\"align\": \"left\"}, \"hovermode\": \"closest\", \"mapbox\": {\"style\": \"light\"}, \"paper_bgcolor\": \"white\", \"plot_bgcolor\": \"#E5ECF6\", \"polar\": {\"angularaxis\": {\"gridcolor\": \"white\", \"linecolor\": \"white\", \"ticks\": \"\"}, \"bgcolor\": \"#E5ECF6\", \"radialaxis\": {\"gridcolor\": \"white\", \"linecolor\": \"white\", \"ticks\": \"\"}}, \"scene\": {\"xaxis\": {\"backgroundcolor\": \"#E5ECF6\", \"gridcolor\": \"white\", \"gridwidth\": 2, \"linecolor\": \"white\", \"showbackground\": true, \"ticks\": \"\", \"zerolinecolor\": \"white\"}, \"yaxis\": {\"backgroundcolor\": \"#E5ECF6\", \"gridcolor\": \"white\", \"gridwidth\": 2, \"linecolor\": \"white\", \"showbackground\": true, \"ticks\": \"\", \"zerolinecolor\": \"white\"}, \"zaxis\": {\"backgroundcolor\": \"#E5ECF6\", \"gridcolor\": \"white\", \"gridwidth\": 2, \"linecolor\": \"white\", \"showbackground\": true, \"ticks\": \"\", \"zerolinecolor\": \"white\"}}, \"shapedefaults\": {\"line\": {\"color\": \"#2a3f5f\"}}, \"ternary\": {\"aaxis\": {\"gridcolor\": \"white\", \"linecolor\": \"white\", \"ticks\": \"\"}, \"baxis\": {\"gridcolor\": \"white\", \"linecolor\": \"white\", \"ticks\": \"\"}, \"bgcolor\": \"#E5ECF6\", \"caxis\": {\"gridcolor\": \"white\", \"linecolor\": \"white\", \"ticks\": \"\"}}, \"title\": {\"x\": 0.05}, \"xaxis\": {\"automargin\": true, \"gridcolor\": \"white\", \"linecolor\": \"white\", \"ticks\": \"\", \"title\": {\"standoff\": 15}, \"zerolinecolor\": \"white\", \"zerolinewidth\": 2}, \"yaxis\": {\"automargin\": true, \"gridcolor\": \"white\", \"linecolor\": \"white\", \"ticks\": \"\", \"title\": {\"standoff\": 15}, \"zerolinecolor\": \"white\", \"zerolinewidth\": 2}}}, \"violinmode\": \"group\", \"xaxis\": {\"anchor\": \"y\", \"domain\": [0.0, 1.0], \"title\": {\"text\": \"Left_Company\"}}, \"yaxis\": {\"anchor\": \"x\", \"domain\": [0.0, 1.0], \"title\": {\"text\": \"Designation\"}}},                        {\"responsive\": true}                    ).then(function(){\n",
       "                            \n",
       "var gd = document.getElementById('21d4caa9-424f-416a-ae63-8b1c19585200');\n",
       "var x = new MutationObserver(function (mutations, observer) {{\n",
       "        var display = window.getComputedStyle(gd).display;\n",
       "        if (!display || display === 'none') {{\n",
       "            console.log([gd, 'removed!']);\n",
       "            Plotly.purge(gd);\n",
       "            observer.disconnect();\n",
       "        }}\n",
       "}});\n",
       "\n",
       "// Listen for the removal of the full notebook cells\n",
       "var notebookContainer = gd.closest('#notebook-container');\n",
       "if (notebookContainer) {{\n",
       "    x.observe(notebookContainer, {childList: true});\n",
       "}}\n",
       "\n",
       "// Listen for the clearing of the current output cell\n",
       "var outputEl = gd.closest('.output');\n",
       "if (outputEl) {{\n",
       "    x.observe(outputEl, {childList: true});\n",
       "}}\n",
       "\n",
       "                        })                };                });            </script>        </div>"
      ]
     },
     "metadata": {},
     "output_type": "display_data"
    }
   ],
   "source": [
    "import plotly.express as px\n",
    "px.violin(train_data, x=\"Left_Company\", y=\"Designation\",color='Sex')"
   ]
  },
  {
   "cell_type": "markdown",
   "metadata": {},
   "source": [
    "Other columns distribution based on the target."
   ]
  },
  {
   "cell_type": "code",
   "execution_count": 236,
   "metadata": {},
   "outputs": [
    {
     "data": {
      "application/vnd.plotly.v1+json": {
       "config": {
        "plotlyServerURL": "https://plot.ly"
       },
       "data": [
        {
         "alignmentgroup": "True",
         "hovertemplate": "Left_Company=0.0<br>Designation=%{x}<br>Sex=%{y}<extra></extra>",
         "legendgroup": "0.0",
         "marker": {
          "color": "#636efa"
         },
         "name": "0.0",
         "offsetgroup": "0.0",
         "orientation": "v",
         "showlegend": true,
         "textposition": "auto",
         "type": "bar",
         "x": [
          "MD",
          "Senior",
          "Senior",
          "Senior",
          "Senior",
          "Senior",
          "VP",
          "EVP",
          "Senior",
          "Junior",
          "Senior",
          "Senior",
          "VP",
          "EVP",
          "VP",
          "Senior",
          "VP",
          "VP",
          "Senior",
          "Senior",
          "VP",
          "Junior",
          "Junior",
          "VP",
          "VP",
          "Senior",
          "Junior",
          "VP",
          "Senior",
          "Junior",
          "Junior",
          "Junior",
          "Junior",
          "Junior",
          "Junior",
          "Senior",
          "MD",
          "MD",
          "Junior",
          "Junior",
          "Junior",
          "Junior",
          "VP",
          "Junior",
          "EVP",
          "Junior",
          "Junior",
          "Junior",
          "VP",
          "Junior",
          "Junior",
          "Junior",
          "Senior",
          "Senior",
          "MD",
          "VP",
          "VP",
          "VP",
          "Junior",
          "EVP",
          "Junior",
          "Junior",
          "EVP",
          "Senior",
          "EVP",
          "VP",
          "Junior",
          "EVP",
          "EVP",
          "EVP",
          "EVP",
          "EVP",
          "EVP",
          "MD",
          "VP",
          "VP",
          "VP",
          "EVP",
          "Senior",
          "VP",
          "Junior",
          "Junior",
          "Junior",
          "Senior",
          "Junior",
          "Junior",
          "Senior",
          "VP",
          "VP",
          "Senior",
          "VP",
          "EVP",
          "Junior",
          "Senior",
          "VP",
          "EVP",
          "Junior",
          "VP",
          "Senior",
          "Junior",
          "VP",
          "Junior",
          "MD",
          "Senior",
          "VP",
          "VP",
          "Senior",
          "VP",
          "VP",
          "Junior",
          "Junior",
          "Junior",
          "Senior",
          "Senior",
          "EVP",
          "VP",
          "EVP",
          "VP",
          "Senior",
          "Senior",
          "Senior",
          "Senior",
          "Senior",
          "Senior",
          "Senior",
          "Senior",
          "VP",
          "Senior",
          "EVP",
          "Senior",
          "VP",
          "EVP",
          "EVP",
          "VP",
          "Senior",
          "VP",
          "VP",
          "VP",
          "Senior",
          "Junior",
          "Senior",
          "VP",
          "Senior",
          "Junior",
          "Junior",
          "Junior",
          "Senior",
          "MD",
          "Junior",
          "EVP",
          "Junior",
          "Junior",
          "VP",
          "Junior",
          "Junior",
          "Junior",
          "Junior",
          "Junior",
          "Junior",
          "Junior",
          "Junior",
          "Junior",
          "Senior",
          "Senior",
          "VP",
          "VP",
          "VP",
          "VP",
          "Junior",
          "EVP",
          "Junior",
          "Senior",
          "Junior",
          "Senior",
          "Junior",
          "EVP",
          "EVP",
          "Junior",
          "Junior",
          "Junior",
          "VP",
          "MD",
          "MD",
          "VP",
          "Junior",
          "VP",
          "Junior",
          "EVP",
          "Junior",
          "Senior",
          "Junior",
          "Senior",
          "Senior",
          "Senior",
          "VP",
          "Junior",
          "Junior",
          "VP",
          "Junior",
          "MD",
          "Senior",
          "VP",
          "VP",
          "Junior",
          "Senior",
          "VP",
          "Junior",
          "VP",
          "Senior",
          "Senior",
          "EVP",
          "EVP",
          "VP",
          "VP",
          "Senior",
          "Senior",
          "Senior",
          "Senior"
         ],
         "xaxis": "x",
         "y": [
          1,
          1,
          1,
          1,
          1,
          1,
          1,
          1,
          1,
          1,
          1,
          1,
          1,
          1,
          1,
          1,
          1,
          1,
          1,
          1,
          1,
          1,
          1,
          1,
          1,
          0,
          1,
          1,
          1,
          1,
          1,
          1,
          1,
          1,
          1,
          1,
          1,
          1,
          1,
          0,
          0,
          0,
          1,
          1,
          1,
          1,
          1,
          1,
          1,
          1,
          1,
          0,
          1,
          1,
          1,
          1,
          1,
          1,
          1,
          1,
          1,
          1,
          1,
          1,
          1,
          1,
          1,
          1,
          1,
          1,
          1,
          1,
          1,
          1,
          1,
          0,
          1,
          1,
          1,
          1,
          1,
          1,
          1,
          1,
          1,
          1,
          1,
          1,
          1,
          1,
          0,
          1,
          1,
          1,
          0,
          1,
          1,
          1,
          1,
          1,
          1,
          0,
          1,
          1,
          0,
          1,
          1,
          1,
          1,
          1,
          1,
          1,
          1,
          1,
          1,
          1,
          0,
          1,
          0,
          1,
          1,
          1,
          1,
          1,
          1,
          1,
          1,
          0,
          1,
          1,
          1,
          1,
          1,
          1,
          1,
          1,
          1,
          1,
          1,
          1,
          0,
          1,
          1,
          1,
          1,
          1,
          1,
          1,
          1,
          1,
          0,
          0,
          1,
          1,
          1,
          1,
          1,
          1,
          1,
          1,
          1,
          0,
          1,
          1,
          1,
          1,
          1,
          1,
          1,
          1,
          1,
          1,
          1,
          1,
          1,
          1,
          1,
          1,
          1,
          1,
          1,
          1,
          1,
          1,
          0,
          0,
          1,
          1,
          0,
          1,
          1,
          1,
          1,
          1,
          1,
          1,
          1,
          1,
          0,
          1,
          1,
          0,
          1,
          1,
          1,
          1,
          1,
          0,
          1,
          1,
          1,
          1,
          1,
          1,
          0,
          1,
          1,
          1
         ],
         "yaxis": "y"
        },
        {
         "alignmentgroup": "True",
         "hovertemplate": "Left_Company=1.0<br>Designation=%{x}<br>Sex=%{y}<extra></extra>",
         "legendgroup": "1.0",
         "marker": {
          "color": "#EF553B"
         },
         "name": "1.0",
         "offsetgroup": "1.0",
         "orientation": "v",
         "showlegend": true,
         "textposition": "auto",
         "type": "bar",
         "x": [
          "VP",
          "VP",
          "Senior",
          "Junior",
          "Junior",
          "EVP",
          "MD",
          "VP",
          "VP",
          "VP",
          "Junior",
          "Senior",
          "Junior",
          "Senior",
          "Junior",
          "VP",
          "Senior",
          "Junior",
          "Junior",
          "VP",
          "VP",
          "VP",
          "Junior",
          "Junior",
          "MD",
          "Senior",
          "Junior"
         ],
         "xaxis": "x",
         "y": [
          0,
          1,
          1,
          1,
          1,
          1,
          1,
          1,
          1,
          1,
          1,
          1,
          0,
          1,
          0,
          1,
          1,
          1,
          1,
          1,
          1,
          1,
          1,
          0,
          1,
          1,
          0
         ],
         "yaxis": "y"
        }
       ],
       "layout": {
        "barmode": "relative",
        "legend": {
         "title": {
          "text": "Left_Company"
         },
         "tracegroupgap": 0
        },
        "margin": {
         "t": 60
        },
        "template": {
         "data": {
          "bar": [
           {
            "error_x": {
             "color": "#2a3f5f"
            },
            "error_y": {
             "color": "#2a3f5f"
            },
            "marker": {
             "line": {
              "color": "#E5ECF6",
              "width": 0.5
             }
            },
            "type": "bar"
           }
          ],
          "barpolar": [
           {
            "marker": {
             "line": {
              "color": "#E5ECF6",
              "width": 0.5
             }
            },
            "type": "barpolar"
           }
          ],
          "carpet": [
           {
            "aaxis": {
             "endlinecolor": "#2a3f5f",
             "gridcolor": "white",
             "linecolor": "white",
             "minorgridcolor": "white",
             "startlinecolor": "#2a3f5f"
            },
            "baxis": {
             "endlinecolor": "#2a3f5f",
             "gridcolor": "white",
             "linecolor": "white",
             "minorgridcolor": "white",
             "startlinecolor": "#2a3f5f"
            },
            "type": "carpet"
           }
          ],
          "choropleth": [
           {
            "colorbar": {
             "outlinewidth": 0,
             "ticks": ""
            },
            "type": "choropleth"
           }
          ],
          "contour": [
           {
            "colorbar": {
             "outlinewidth": 0,
             "ticks": ""
            },
            "colorscale": [
             [
              0,
              "#0d0887"
             ],
             [
              0.1111111111111111,
              "#46039f"
             ],
             [
              0.2222222222222222,
              "#7201a8"
             ],
             [
              0.3333333333333333,
              "#9c179e"
             ],
             [
              0.4444444444444444,
              "#bd3786"
             ],
             [
              0.5555555555555556,
              "#d8576b"
             ],
             [
              0.6666666666666666,
              "#ed7953"
             ],
             [
              0.7777777777777778,
              "#fb9f3a"
             ],
             [
              0.8888888888888888,
              "#fdca26"
             ],
             [
              1,
              "#f0f921"
             ]
            ],
            "type": "contour"
           }
          ],
          "contourcarpet": [
           {
            "colorbar": {
             "outlinewidth": 0,
             "ticks": ""
            },
            "type": "contourcarpet"
           }
          ],
          "heatmap": [
           {
            "colorbar": {
             "outlinewidth": 0,
             "ticks": ""
            },
            "colorscale": [
             [
              0,
              "#0d0887"
             ],
             [
              0.1111111111111111,
              "#46039f"
             ],
             [
              0.2222222222222222,
              "#7201a8"
             ],
             [
              0.3333333333333333,
              "#9c179e"
             ],
             [
              0.4444444444444444,
              "#bd3786"
             ],
             [
              0.5555555555555556,
              "#d8576b"
             ],
             [
              0.6666666666666666,
              "#ed7953"
             ],
             [
              0.7777777777777778,
              "#fb9f3a"
             ],
             [
              0.8888888888888888,
              "#fdca26"
             ],
             [
              1,
              "#f0f921"
             ]
            ],
            "type": "heatmap"
           }
          ],
          "heatmapgl": [
           {
            "colorbar": {
             "outlinewidth": 0,
             "ticks": ""
            },
            "colorscale": [
             [
              0,
              "#0d0887"
             ],
             [
              0.1111111111111111,
              "#46039f"
             ],
             [
              0.2222222222222222,
              "#7201a8"
             ],
             [
              0.3333333333333333,
              "#9c179e"
             ],
             [
              0.4444444444444444,
              "#bd3786"
             ],
             [
              0.5555555555555556,
              "#d8576b"
             ],
             [
              0.6666666666666666,
              "#ed7953"
             ],
             [
              0.7777777777777778,
              "#fb9f3a"
             ],
             [
              0.8888888888888888,
              "#fdca26"
             ],
             [
              1,
              "#f0f921"
             ]
            ],
            "type": "heatmapgl"
           }
          ],
          "histogram": [
           {
            "marker": {
             "colorbar": {
              "outlinewidth": 0,
              "ticks": ""
             }
            },
            "type": "histogram"
           }
          ],
          "histogram2d": [
           {
            "colorbar": {
             "outlinewidth": 0,
             "ticks": ""
            },
            "colorscale": [
             [
              0,
              "#0d0887"
             ],
             [
              0.1111111111111111,
              "#46039f"
             ],
             [
              0.2222222222222222,
              "#7201a8"
             ],
             [
              0.3333333333333333,
              "#9c179e"
             ],
             [
              0.4444444444444444,
              "#bd3786"
             ],
             [
              0.5555555555555556,
              "#d8576b"
             ],
             [
              0.6666666666666666,
              "#ed7953"
             ],
             [
              0.7777777777777778,
              "#fb9f3a"
             ],
             [
              0.8888888888888888,
              "#fdca26"
             ],
             [
              1,
              "#f0f921"
             ]
            ],
            "type": "histogram2d"
           }
          ],
          "histogram2dcontour": [
           {
            "colorbar": {
             "outlinewidth": 0,
             "ticks": ""
            },
            "colorscale": [
             [
              0,
              "#0d0887"
             ],
             [
              0.1111111111111111,
              "#46039f"
             ],
             [
              0.2222222222222222,
              "#7201a8"
             ],
             [
              0.3333333333333333,
              "#9c179e"
             ],
             [
              0.4444444444444444,
              "#bd3786"
             ],
             [
              0.5555555555555556,
              "#d8576b"
             ],
             [
              0.6666666666666666,
              "#ed7953"
             ],
             [
              0.7777777777777778,
              "#fb9f3a"
             ],
             [
              0.8888888888888888,
              "#fdca26"
             ],
             [
              1,
              "#f0f921"
             ]
            ],
            "type": "histogram2dcontour"
           }
          ],
          "mesh3d": [
           {
            "colorbar": {
             "outlinewidth": 0,
             "ticks": ""
            },
            "type": "mesh3d"
           }
          ],
          "parcoords": [
           {
            "line": {
             "colorbar": {
              "outlinewidth": 0,
              "ticks": ""
             }
            },
            "type": "parcoords"
           }
          ],
          "pie": [
           {
            "automargin": true,
            "type": "pie"
           }
          ],
          "scatter": [
           {
            "marker": {
             "colorbar": {
              "outlinewidth": 0,
              "ticks": ""
             }
            },
            "type": "scatter"
           }
          ],
          "scatter3d": [
           {
            "line": {
             "colorbar": {
              "outlinewidth": 0,
              "ticks": ""
             }
            },
            "marker": {
             "colorbar": {
              "outlinewidth": 0,
              "ticks": ""
             }
            },
            "type": "scatter3d"
           }
          ],
          "scattercarpet": [
           {
            "marker": {
             "colorbar": {
              "outlinewidth": 0,
              "ticks": ""
             }
            },
            "type": "scattercarpet"
           }
          ],
          "scattergeo": [
           {
            "marker": {
             "colorbar": {
              "outlinewidth": 0,
              "ticks": ""
             }
            },
            "type": "scattergeo"
           }
          ],
          "scattergl": [
           {
            "marker": {
             "colorbar": {
              "outlinewidth": 0,
              "ticks": ""
             }
            },
            "type": "scattergl"
           }
          ],
          "scattermapbox": [
           {
            "marker": {
             "colorbar": {
              "outlinewidth": 0,
              "ticks": ""
             }
            },
            "type": "scattermapbox"
           }
          ],
          "scatterpolar": [
           {
            "marker": {
             "colorbar": {
              "outlinewidth": 0,
              "ticks": ""
             }
            },
            "type": "scatterpolar"
           }
          ],
          "scatterpolargl": [
           {
            "marker": {
             "colorbar": {
              "outlinewidth": 0,
              "ticks": ""
             }
            },
            "type": "scatterpolargl"
           }
          ],
          "scatterternary": [
           {
            "marker": {
             "colorbar": {
              "outlinewidth": 0,
              "ticks": ""
             }
            },
            "type": "scatterternary"
           }
          ],
          "surface": [
           {
            "colorbar": {
             "outlinewidth": 0,
             "ticks": ""
            },
            "colorscale": [
             [
              0,
              "#0d0887"
             ],
             [
              0.1111111111111111,
              "#46039f"
             ],
             [
              0.2222222222222222,
              "#7201a8"
             ],
             [
              0.3333333333333333,
              "#9c179e"
             ],
             [
              0.4444444444444444,
              "#bd3786"
             ],
             [
              0.5555555555555556,
              "#d8576b"
             ],
             [
              0.6666666666666666,
              "#ed7953"
             ],
             [
              0.7777777777777778,
              "#fb9f3a"
             ],
             [
              0.8888888888888888,
              "#fdca26"
             ],
             [
              1,
              "#f0f921"
             ]
            ],
            "type": "surface"
           }
          ],
          "table": [
           {
            "cells": {
             "fill": {
              "color": "#EBF0F8"
             },
             "line": {
              "color": "white"
             }
            },
            "header": {
             "fill": {
              "color": "#C8D4E3"
             },
             "line": {
              "color": "white"
             }
            },
            "type": "table"
           }
          ]
         },
         "layout": {
          "annotationdefaults": {
           "arrowcolor": "#2a3f5f",
           "arrowhead": 0,
           "arrowwidth": 1
          },
          "autotypenumbers": "strict",
          "coloraxis": {
           "colorbar": {
            "outlinewidth": 0,
            "ticks": ""
           }
          },
          "colorscale": {
           "diverging": [
            [
             0,
             "#8e0152"
            ],
            [
             0.1,
             "#c51b7d"
            ],
            [
             0.2,
             "#de77ae"
            ],
            [
             0.3,
             "#f1b6da"
            ],
            [
             0.4,
             "#fde0ef"
            ],
            [
             0.5,
             "#f7f7f7"
            ],
            [
             0.6,
             "#e6f5d0"
            ],
            [
             0.7,
             "#b8e186"
            ],
            [
             0.8,
             "#7fbc41"
            ],
            [
             0.9,
             "#4d9221"
            ],
            [
             1,
             "#276419"
            ]
           ],
           "sequential": [
            [
             0,
             "#0d0887"
            ],
            [
             0.1111111111111111,
             "#46039f"
            ],
            [
             0.2222222222222222,
             "#7201a8"
            ],
            [
             0.3333333333333333,
             "#9c179e"
            ],
            [
             0.4444444444444444,
             "#bd3786"
            ],
            [
             0.5555555555555556,
             "#d8576b"
            ],
            [
             0.6666666666666666,
             "#ed7953"
            ],
            [
             0.7777777777777778,
             "#fb9f3a"
            ],
            [
             0.8888888888888888,
             "#fdca26"
            ],
            [
             1,
             "#f0f921"
            ]
           ],
           "sequentialminus": [
            [
             0,
             "#0d0887"
            ],
            [
             0.1111111111111111,
             "#46039f"
            ],
            [
             0.2222222222222222,
             "#7201a8"
            ],
            [
             0.3333333333333333,
             "#9c179e"
            ],
            [
             0.4444444444444444,
             "#bd3786"
            ],
            [
             0.5555555555555556,
             "#d8576b"
            ],
            [
             0.6666666666666666,
             "#ed7953"
            ],
            [
             0.7777777777777778,
             "#fb9f3a"
            ],
            [
             0.8888888888888888,
             "#fdca26"
            ],
            [
             1,
             "#f0f921"
            ]
           ]
          },
          "colorway": [
           "#636efa",
           "#EF553B",
           "#00cc96",
           "#ab63fa",
           "#FFA15A",
           "#19d3f3",
           "#FF6692",
           "#B6E880",
           "#FF97FF",
           "#FECB52"
          ],
          "font": {
           "color": "#2a3f5f"
          },
          "geo": {
           "bgcolor": "white",
           "lakecolor": "white",
           "landcolor": "#E5ECF6",
           "showlakes": true,
           "showland": true,
           "subunitcolor": "white"
          },
          "hoverlabel": {
           "align": "left"
          },
          "hovermode": "closest",
          "mapbox": {
           "style": "light"
          },
          "paper_bgcolor": "white",
          "plot_bgcolor": "#E5ECF6",
          "polar": {
           "angularaxis": {
            "gridcolor": "white",
            "linecolor": "white",
            "ticks": ""
           },
           "bgcolor": "#E5ECF6",
           "radialaxis": {
            "gridcolor": "white",
            "linecolor": "white",
            "ticks": ""
           }
          },
          "scene": {
           "xaxis": {
            "backgroundcolor": "#E5ECF6",
            "gridcolor": "white",
            "gridwidth": 2,
            "linecolor": "white",
            "showbackground": true,
            "ticks": "",
            "zerolinecolor": "white"
           },
           "yaxis": {
            "backgroundcolor": "#E5ECF6",
            "gridcolor": "white",
            "gridwidth": 2,
            "linecolor": "white",
            "showbackground": true,
            "ticks": "",
            "zerolinecolor": "white"
           },
           "zaxis": {
            "backgroundcolor": "#E5ECF6",
            "gridcolor": "white",
            "gridwidth": 2,
            "linecolor": "white",
            "showbackground": true,
            "ticks": "",
            "zerolinecolor": "white"
           }
          },
          "shapedefaults": {
           "line": {
            "color": "#2a3f5f"
           }
          },
          "ternary": {
           "aaxis": {
            "gridcolor": "white",
            "linecolor": "white",
            "ticks": ""
           },
           "baxis": {
            "gridcolor": "white",
            "linecolor": "white",
            "ticks": ""
           },
           "bgcolor": "#E5ECF6",
           "caxis": {
            "gridcolor": "white",
            "linecolor": "white",
            "ticks": ""
           }
          },
          "title": {
           "x": 0.05
          },
          "xaxis": {
           "automargin": true,
           "gridcolor": "white",
           "linecolor": "white",
           "ticks": "",
           "title": {
            "standoff": 15
           },
           "zerolinecolor": "white",
           "zerolinewidth": 2
          },
          "yaxis": {
           "automargin": true,
           "gridcolor": "white",
           "linecolor": "white",
           "ticks": "",
           "title": {
            "standoff": 15
           },
           "zerolinecolor": "white",
           "zerolinewidth": 2
          }
         }
        },
        "xaxis": {
         "anchor": "y",
         "domain": [
          0,
          1
         ],
         "title": {
          "text": "Designation"
         }
        },
        "yaxis": {
         "anchor": "x",
         "domain": [
          0,
          1
         ],
         "title": {
          "text": "Sex"
         }
        }
       }
      },
      "text/html": [
       "<div>                            <div id=\"92eeddc0-d6ca-4bb7-bb5c-316199f3dc70\" class=\"plotly-graph-div\" style=\"height:525px; width:100%;\"></div>            <script type=\"text/javascript\">                require([\"plotly\"], function(Plotly) {                    window.PLOTLYENV=window.PLOTLYENV || {};                                    if (document.getElementById(\"92eeddc0-d6ca-4bb7-bb5c-316199f3dc70\")) {                    Plotly.newPlot(                        \"92eeddc0-d6ca-4bb7-bb5c-316199f3dc70\",                        [{\"alignmentgroup\": \"True\", \"hovertemplate\": \"Left_Company=0.0<br>Designation=%{x}<br>Sex=%{y}<extra></extra>\", \"legendgroup\": \"0.0\", \"marker\": {\"color\": \"#636efa\"}, \"name\": \"0.0\", \"offsetgroup\": \"0.0\", \"orientation\": \"v\", \"showlegend\": true, \"textposition\": \"auto\", \"type\": \"bar\", \"x\": [\"MD\", \"Senior\", \"Senior\", \"Senior\", \"Senior\", \"Senior\", \"VP\", \"EVP\", \"Senior\", \"Junior\", \"Senior\", \"Senior\", \"VP\", \"EVP\", \"VP\", \"Senior\", \"VP\", \"VP\", \"Senior\", \"Senior\", \"VP\", \"Junior\", \"Junior\", \"VP\", \"VP\", \"Senior\", \"Junior\", \"VP\", \"Senior\", \"Junior\", \"Junior\", \"Junior\", \"Junior\", \"Junior\", \"Junior\", \"Senior\", \"MD\", \"MD\", \"Junior\", \"Junior\", \"Junior\", \"Junior\", \"VP\", \"Junior\", \"EVP\", \"Junior\", \"Junior\", \"Junior\", \"VP\", \"Junior\", \"Junior\", \"Junior\", \"Senior\", \"Senior\", \"MD\", \"VP\", \"VP\", \"VP\", \"Junior\", \"EVP\", \"Junior\", \"Junior\", \"EVP\", \"Senior\", \"EVP\", \"VP\", \"Junior\", \"EVP\", \"EVP\", \"EVP\", \"EVP\", \"EVP\", \"EVP\", \"MD\", \"VP\", \"VP\", \"VP\", \"EVP\", \"Senior\", \"VP\", \"Junior\", \"Junior\", \"Junior\", \"Senior\", \"Junior\", \"Junior\", \"Senior\", \"VP\", \"VP\", \"Senior\", \"VP\", \"EVP\", \"Junior\", \"Senior\", \"VP\", \"EVP\", \"Junior\", \"VP\", \"Senior\", \"Junior\", \"VP\", \"Junior\", \"MD\", \"Senior\", \"VP\", \"VP\", \"Senior\", \"VP\", \"VP\", \"Junior\", \"Junior\", \"Junior\", \"Senior\", \"Senior\", \"EVP\", \"VP\", \"EVP\", \"VP\", \"Senior\", \"Senior\", \"Senior\", \"Senior\", \"Senior\", \"Senior\", \"Senior\", \"Senior\", \"VP\", \"Senior\", \"EVP\", \"Senior\", \"VP\", \"EVP\", \"EVP\", \"VP\", \"Senior\", \"VP\", \"VP\", \"VP\", \"Senior\", \"Junior\", \"Senior\", \"VP\", \"Senior\", \"Junior\", \"Junior\", \"Junior\", \"Senior\", \"MD\", \"Junior\", \"EVP\", \"Junior\", \"Junior\", \"VP\", \"Junior\", \"Junior\", \"Junior\", \"Junior\", \"Junior\", \"Junior\", \"Junior\", \"Junior\", \"Junior\", \"Senior\", \"Senior\", \"VP\", \"VP\", \"VP\", \"VP\", \"Junior\", \"EVP\", \"Junior\", \"Senior\", \"Junior\", \"Senior\", \"Junior\", \"EVP\", \"EVP\", \"Junior\", \"Junior\", \"Junior\", \"VP\", \"MD\", \"MD\", \"VP\", \"Junior\", \"VP\", \"Junior\", \"EVP\", \"Junior\", \"Senior\", \"Junior\", \"Senior\", \"Senior\", \"Senior\", \"VP\", \"Junior\", \"Junior\", \"VP\", \"Junior\", \"MD\", \"Senior\", \"VP\", \"VP\", \"Junior\", \"Senior\", \"VP\", \"Junior\", \"VP\", \"Senior\", \"Senior\", \"EVP\", \"EVP\", \"VP\", \"VP\", \"Senior\", \"Senior\", \"Senior\", \"Senior\"], \"xaxis\": \"x\", \"y\": [1, 1, 1, 1, 1, 1, 1, 1, 1, 1, 1, 1, 1, 1, 1, 1, 1, 1, 1, 1, 1, 1, 1, 1, 1, 0, 1, 1, 1, 1, 1, 1, 1, 1, 1, 1, 1, 1, 1, 0, 0, 0, 1, 1, 1, 1, 1, 1, 1, 1, 1, 0, 1, 1, 1, 1, 1, 1, 1, 1, 1, 1, 1, 1, 1, 1, 1, 1, 1, 1, 1, 1, 1, 1, 1, 0, 1, 1, 1, 1, 1, 1, 1, 1, 1, 1, 1, 1, 1, 1, 0, 1, 1, 1, 0, 1, 1, 1, 1, 1, 1, 0, 1, 1, 0, 1, 1, 1, 1, 1, 1, 1, 1, 1, 1, 1, 0, 1, 0, 1, 1, 1, 1, 1, 1, 1, 1, 0, 1, 1, 1, 1, 1, 1, 1, 1, 1, 1, 1, 1, 0, 1, 1, 1, 1, 1, 1, 1, 1, 1, 0, 0, 1, 1, 1, 1, 1, 1, 1, 1, 1, 0, 1, 1, 1, 1, 1, 1, 1, 1, 1, 1, 1, 1, 1, 1, 1, 1, 1, 1, 1, 1, 1, 1, 0, 0, 1, 1, 0, 1, 1, 1, 1, 1, 1, 1, 1, 1, 0, 1, 1, 0, 1, 1, 1, 1, 1, 0, 1, 1, 1, 1, 1, 1, 0, 1, 1, 1], \"yaxis\": \"y\"}, {\"alignmentgroup\": \"True\", \"hovertemplate\": \"Left_Company=1.0<br>Designation=%{x}<br>Sex=%{y}<extra></extra>\", \"legendgroup\": \"1.0\", \"marker\": {\"color\": \"#EF553B\"}, \"name\": \"1.0\", \"offsetgroup\": \"1.0\", \"orientation\": \"v\", \"showlegend\": true, \"textposition\": \"auto\", \"type\": \"bar\", \"x\": [\"VP\", \"VP\", \"Senior\", \"Junior\", \"Junior\", \"EVP\", \"MD\", \"VP\", \"VP\", \"VP\", \"Junior\", \"Senior\", \"Junior\", \"Senior\", \"Junior\", \"VP\", \"Senior\", \"Junior\", \"Junior\", \"VP\", \"VP\", \"VP\", \"Junior\", \"Junior\", \"MD\", \"Senior\", \"Junior\"], \"xaxis\": \"x\", \"y\": [0, 1, 1, 1, 1, 1, 1, 1, 1, 1, 1, 1, 0, 1, 0, 1, 1, 1, 1, 1, 1, 1, 1, 0, 1, 1, 0], \"yaxis\": \"y\"}],                        {\"barmode\": \"relative\", \"legend\": {\"title\": {\"text\": \"Left_Company\"}, \"tracegroupgap\": 0}, \"margin\": {\"t\": 60}, \"template\": {\"data\": {\"bar\": [{\"error_x\": {\"color\": \"#2a3f5f\"}, \"error_y\": {\"color\": \"#2a3f5f\"}, \"marker\": {\"line\": {\"color\": \"#E5ECF6\", \"width\": 0.5}}, \"type\": \"bar\"}], \"barpolar\": [{\"marker\": {\"line\": {\"color\": \"#E5ECF6\", \"width\": 0.5}}, \"type\": \"barpolar\"}], \"carpet\": [{\"aaxis\": {\"endlinecolor\": \"#2a3f5f\", \"gridcolor\": \"white\", \"linecolor\": \"white\", \"minorgridcolor\": \"white\", \"startlinecolor\": \"#2a3f5f\"}, \"baxis\": {\"endlinecolor\": \"#2a3f5f\", \"gridcolor\": \"white\", \"linecolor\": \"white\", \"minorgridcolor\": \"white\", \"startlinecolor\": \"#2a3f5f\"}, \"type\": \"carpet\"}], \"choropleth\": [{\"colorbar\": {\"outlinewidth\": 0, \"ticks\": \"\"}, \"type\": \"choropleth\"}], \"contour\": [{\"colorbar\": {\"outlinewidth\": 0, \"ticks\": \"\"}, \"colorscale\": [[0.0, \"#0d0887\"], [0.1111111111111111, \"#46039f\"], [0.2222222222222222, \"#7201a8\"], [0.3333333333333333, \"#9c179e\"], [0.4444444444444444, \"#bd3786\"], [0.5555555555555556, \"#d8576b\"], [0.6666666666666666, \"#ed7953\"], [0.7777777777777778, \"#fb9f3a\"], [0.8888888888888888, \"#fdca26\"], [1.0, \"#f0f921\"]], \"type\": \"contour\"}], \"contourcarpet\": [{\"colorbar\": {\"outlinewidth\": 0, \"ticks\": \"\"}, \"type\": \"contourcarpet\"}], \"heatmap\": [{\"colorbar\": {\"outlinewidth\": 0, \"ticks\": \"\"}, \"colorscale\": [[0.0, \"#0d0887\"], [0.1111111111111111, \"#46039f\"], [0.2222222222222222, \"#7201a8\"], [0.3333333333333333, \"#9c179e\"], [0.4444444444444444, \"#bd3786\"], [0.5555555555555556, \"#d8576b\"], [0.6666666666666666, \"#ed7953\"], [0.7777777777777778, \"#fb9f3a\"], [0.8888888888888888, \"#fdca26\"], [1.0, \"#f0f921\"]], \"type\": \"heatmap\"}], \"heatmapgl\": [{\"colorbar\": {\"outlinewidth\": 0, \"ticks\": \"\"}, \"colorscale\": [[0.0, \"#0d0887\"], [0.1111111111111111, \"#46039f\"], [0.2222222222222222, \"#7201a8\"], [0.3333333333333333, \"#9c179e\"], [0.4444444444444444, \"#bd3786\"], [0.5555555555555556, \"#d8576b\"], [0.6666666666666666, \"#ed7953\"], [0.7777777777777778, \"#fb9f3a\"], [0.8888888888888888, \"#fdca26\"], [1.0, \"#f0f921\"]], \"type\": \"heatmapgl\"}], \"histogram\": [{\"marker\": {\"colorbar\": {\"outlinewidth\": 0, \"ticks\": \"\"}}, \"type\": \"histogram\"}], \"histogram2d\": [{\"colorbar\": {\"outlinewidth\": 0, \"ticks\": \"\"}, \"colorscale\": [[0.0, \"#0d0887\"], [0.1111111111111111, \"#46039f\"], [0.2222222222222222, \"#7201a8\"], [0.3333333333333333, \"#9c179e\"], [0.4444444444444444, \"#bd3786\"], [0.5555555555555556, \"#d8576b\"], [0.6666666666666666, \"#ed7953\"], [0.7777777777777778, \"#fb9f3a\"], [0.8888888888888888, \"#fdca26\"], [1.0, \"#f0f921\"]], \"type\": \"histogram2d\"}], \"histogram2dcontour\": [{\"colorbar\": {\"outlinewidth\": 0, \"ticks\": \"\"}, \"colorscale\": [[0.0, \"#0d0887\"], [0.1111111111111111, \"#46039f\"], [0.2222222222222222, \"#7201a8\"], [0.3333333333333333, \"#9c179e\"], [0.4444444444444444, \"#bd3786\"], [0.5555555555555556, \"#d8576b\"], [0.6666666666666666, \"#ed7953\"], [0.7777777777777778, \"#fb9f3a\"], [0.8888888888888888, \"#fdca26\"], [1.0, \"#f0f921\"]], \"type\": \"histogram2dcontour\"}], \"mesh3d\": [{\"colorbar\": {\"outlinewidth\": 0, \"ticks\": \"\"}, \"type\": \"mesh3d\"}], \"parcoords\": [{\"line\": {\"colorbar\": {\"outlinewidth\": 0, \"ticks\": \"\"}}, \"type\": \"parcoords\"}], \"pie\": [{\"automargin\": true, \"type\": \"pie\"}], \"scatter\": [{\"marker\": {\"colorbar\": {\"outlinewidth\": 0, \"ticks\": \"\"}}, \"type\": \"scatter\"}], \"scatter3d\": [{\"line\": {\"colorbar\": {\"outlinewidth\": 0, \"ticks\": \"\"}}, \"marker\": {\"colorbar\": {\"outlinewidth\": 0, \"ticks\": \"\"}}, \"type\": \"scatter3d\"}], \"scattercarpet\": [{\"marker\": {\"colorbar\": {\"outlinewidth\": 0, \"ticks\": \"\"}}, \"type\": \"scattercarpet\"}], \"scattergeo\": [{\"marker\": {\"colorbar\": {\"outlinewidth\": 0, \"ticks\": \"\"}}, \"type\": \"scattergeo\"}], \"scattergl\": [{\"marker\": {\"colorbar\": {\"outlinewidth\": 0, \"ticks\": \"\"}}, \"type\": \"scattergl\"}], \"scattermapbox\": [{\"marker\": {\"colorbar\": {\"outlinewidth\": 0, \"ticks\": \"\"}}, \"type\": \"scattermapbox\"}], \"scatterpolar\": [{\"marker\": {\"colorbar\": {\"outlinewidth\": 0, \"ticks\": \"\"}}, \"type\": \"scatterpolar\"}], \"scatterpolargl\": [{\"marker\": {\"colorbar\": {\"outlinewidth\": 0, \"ticks\": \"\"}}, \"type\": \"scatterpolargl\"}], \"scatterternary\": [{\"marker\": {\"colorbar\": {\"outlinewidth\": 0, \"ticks\": \"\"}}, \"type\": \"scatterternary\"}], \"surface\": [{\"colorbar\": {\"outlinewidth\": 0, \"ticks\": \"\"}, \"colorscale\": [[0.0, \"#0d0887\"], [0.1111111111111111, \"#46039f\"], [0.2222222222222222, \"#7201a8\"], [0.3333333333333333, \"#9c179e\"], [0.4444444444444444, \"#bd3786\"], [0.5555555555555556, \"#d8576b\"], [0.6666666666666666, \"#ed7953\"], [0.7777777777777778, \"#fb9f3a\"], [0.8888888888888888, \"#fdca26\"], [1.0, \"#f0f921\"]], \"type\": \"surface\"}], \"table\": [{\"cells\": {\"fill\": {\"color\": \"#EBF0F8\"}, \"line\": {\"color\": \"white\"}}, \"header\": {\"fill\": {\"color\": \"#C8D4E3\"}, \"line\": {\"color\": \"white\"}}, \"type\": \"table\"}]}, \"layout\": {\"annotationdefaults\": {\"arrowcolor\": \"#2a3f5f\", \"arrowhead\": 0, \"arrowwidth\": 1}, \"autotypenumbers\": \"strict\", \"coloraxis\": {\"colorbar\": {\"outlinewidth\": 0, \"ticks\": \"\"}}, \"colorscale\": {\"diverging\": [[0, \"#8e0152\"], [0.1, \"#c51b7d\"], [0.2, \"#de77ae\"], [0.3, \"#f1b6da\"], [0.4, \"#fde0ef\"], [0.5, \"#f7f7f7\"], [0.6, \"#e6f5d0\"], [0.7, \"#b8e186\"], [0.8, \"#7fbc41\"], [0.9, \"#4d9221\"], [1, \"#276419\"]], \"sequential\": [[0.0, \"#0d0887\"], [0.1111111111111111, \"#46039f\"], [0.2222222222222222, \"#7201a8\"], [0.3333333333333333, \"#9c179e\"], [0.4444444444444444, \"#bd3786\"], [0.5555555555555556, \"#d8576b\"], [0.6666666666666666, \"#ed7953\"], [0.7777777777777778, \"#fb9f3a\"], [0.8888888888888888, \"#fdca26\"], [1.0, \"#f0f921\"]], \"sequentialminus\": [[0.0, \"#0d0887\"], [0.1111111111111111, \"#46039f\"], [0.2222222222222222, \"#7201a8\"], [0.3333333333333333, \"#9c179e\"], [0.4444444444444444, \"#bd3786\"], [0.5555555555555556, \"#d8576b\"], [0.6666666666666666, \"#ed7953\"], [0.7777777777777778, \"#fb9f3a\"], [0.8888888888888888, \"#fdca26\"], [1.0, \"#f0f921\"]]}, \"colorway\": [\"#636efa\", \"#EF553B\", \"#00cc96\", \"#ab63fa\", \"#FFA15A\", \"#19d3f3\", \"#FF6692\", \"#B6E880\", \"#FF97FF\", \"#FECB52\"], \"font\": {\"color\": \"#2a3f5f\"}, \"geo\": {\"bgcolor\": \"white\", \"lakecolor\": \"white\", \"landcolor\": \"#E5ECF6\", \"showlakes\": true, \"showland\": true, \"subunitcolor\": \"white\"}, \"hoverlabel\": {\"align\": \"left\"}, \"hovermode\": \"closest\", \"mapbox\": {\"style\": \"light\"}, \"paper_bgcolor\": \"white\", \"plot_bgcolor\": \"#E5ECF6\", \"polar\": {\"angularaxis\": {\"gridcolor\": \"white\", \"linecolor\": \"white\", \"ticks\": \"\"}, \"bgcolor\": \"#E5ECF6\", \"radialaxis\": {\"gridcolor\": \"white\", \"linecolor\": \"white\", \"ticks\": \"\"}}, \"scene\": {\"xaxis\": {\"backgroundcolor\": \"#E5ECF6\", \"gridcolor\": \"white\", \"gridwidth\": 2, \"linecolor\": \"white\", \"showbackground\": true, \"ticks\": \"\", \"zerolinecolor\": \"white\"}, \"yaxis\": {\"backgroundcolor\": \"#E5ECF6\", \"gridcolor\": \"white\", \"gridwidth\": 2, \"linecolor\": \"white\", \"showbackground\": true, \"ticks\": \"\", \"zerolinecolor\": \"white\"}, \"zaxis\": {\"backgroundcolor\": \"#E5ECF6\", \"gridcolor\": \"white\", \"gridwidth\": 2, \"linecolor\": \"white\", \"showbackground\": true, \"ticks\": \"\", \"zerolinecolor\": \"white\"}}, \"shapedefaults\": {\"line\": {\"color\": \"#2a3f5f\"}}, \"ternary\": {\"aaxis\": {\"gridcolor\": \"white\", \"linecolor\": \"white\", \"ticks\": \"\"}, \"baxis\": {\"gridcolor\": \"white\", \"linecolor\": \"white\", \"ticks\": \"\"}, \"bgcolor\": \"#E5ECF6\", \"caxis\": {\"gridcolor\": \"white\", \"linecolor\": \"white\", \"ticks\": \"\"}}, \"title\": {\"x\": 0.05}, \"xaxis\": {\"automargin\": true, \"gridcolor\": \"white\", \"linecolor\": \"white\", \"ticks\": \"\", \"title\": {\"standoff\": 15}, \"zerolinecolor\": \"white\", \"zerolinewidth\": 2}, \"yaxis\": {\"automargin\": true, \"gridcolor\": \"white\", \"linecolor\": \"white\", \"ticks\": \"\", \"title\": {\"standoff\": 15}, \"zerolinecolor\": \"white\", \"zerolinewidth\": 2}}}, \"xaxis\": {\"anchor\": \"y\", \"domain\": [0.0, 1.0], \"title\": {\"text\": \"Designation\"}}, \"yaxis\": {\"anchor\": \"x\", \"domain\": [0.0, 1.0], \"title\": {\"text\": \"Sex\"}}},                        {\"responsive\": true}                    ).then(function(){\n",
       "                            \n",
       "var gd = document.getElementById('92eeddc0-d6ca-4bb7-bb5c-316199f3dc70');\n",
       "var x = new MutationObserver(function (mutations, observer) {{\n",
       "        var display = window.getComputedStyle(gd).display;\n",
       "        if (!display || display === 'none') {{\n",
       "            console.log([gd, 'removed!']);\n",
       "            Plotly.purge(gd);\n",
       "            observer.disconnect();\n",
       "        }}\n",
       "}});\n",
       "\n",
       "// Listen for the removal of the full notebook cells\n",
       "var notebookContainer = gd.closest('#notebook-container');\n",
       "if (notebookContainer) {{\n",
       "    x.observe(notebookContainer, {childList: true});\n",
       "}}\n",
       "\n",
       "// Listen for the clearing of the current output cell\n",
       "var outputEl = gd.closest('.output');\n",
       "if (outputEl) {{\n",
       "    x.observe(outputEl, {childList: true});\n",
       "}}\n",
       "\n",
       "                        })                };                });            </script>        </div>"
      ]
     },
     "metadata": {},
     "output_type": "display_data"
    }
   ],
   "source": [
    "import plotly.express as px\n",
    "fig = px.bar(train_data, y=\"Sex\", x=\"Designation\",color='Left_Company')\n",
    "fig"
   ]
  },
  {
   "cell_type": "code",
   "execution_count": 237,
   "metadata": {},
   "outputs": [
    {
     "data": {
      "application/vnd.plotly.v1+json": {
       "config": {
        "plotlyServerURL": "https://plot.ly"
       },
       "data": [
        {
         "alignmentgroup": "True",
         "hovertemplate": "Left_Company=0.0<br>TotalWorkingHours=%{x}<br>Sex=%{y}<extra></extra>",
         "legendgroup": "0.0",
         "marker": {
          "color": "#636efa"
         },
         "name": "0.0",
         "offsetgroup": "0.0",
         "orientation": "h",
         "showlegend": true,
         "textposition": "auto",
         "type": "bar",
         "x": [
          148.8695652173913,
          200.38888888888889,
          236.21739129657388,
          210.55555555555554,
          177.30555555555554,
          217,
          194.1764705882353,
          140.09375,
          187.15625,
          171.95652173913044,
          190.83125001191877,
          184.3125,
          159.875,
          157.4375,
          178.64374999701874,
          182.75,
          165.73333333333332,
          160.4,
          208.60714285714286,
          183.69230769230768,
          206.15384615384616,
          179.60714285714286,
          198.96428571428572,
          208.17857142857142,
          184.34782608695653,
          227.30769230769232,
          181,
          173.48461538094614,
          232.53846153846155,
          196.44615384706924,
          192.96153846153845,
          175.95384619785384,
          177.80769230769232,
          188.0833333134583,
          218.54166666666666,
          194.66666666666666,
          165.36363636363637,
          140.1818181818182,
          219.13636371491822,
          165.77777777777777,
          160.83333333333334,
          189.44444444444446,
          160,
          195.33333333333334,
          139,
          178,
          191.6875,
          166.75,
          166.4375,
          184.5,
          191.5,
          184.88571429252858,
          151.2,
          178.64285714285714,
          133.60869566513045,
          179,
          143,
          164.66666666666666,
          167,
          139.5,
          152.125,
          163.25,
          184,
          152.75,
          140.75,
          150,
          177.375,
          133.60869566513045,
          133.60869566513045,
          133.60869566513045,
          183.82608695652175,
          197.7391304347826,
          173.11363636363637,
          173.77272727272728,
          195.6086956521739,
          214.41304347826087,
          200.2173913043478,
          183.91304347826087,
          198.17391304347825,
          179.52173913043478,
          185.02173913043478,
          233.8695652173913,
          201.69565217391303,
          198.43478260869566,
          223.84782608695653,
          171.3695652173913,
          189.8913043478261,
          198.2826086956522,
          226.8695652173913,
          187.43478260869566,
          198.20454545454547,
          179.52173913043478,
          175.03478260662175,
          210.47826086956522,
          201.47826086956522,
          206,
          178.34782608695653,
          212,
          188.91304347826087,
          181.2608695652174,
          234.90869567316958,
          181.45652173913044,
          133.60869566513045,
          186.34782608695653,
          197.2391304347826,
          197.30434782608697,
          179.84782608695653,
          212.2391304347826,
          182.80434782608697,
          199.47826086956522,
          197.19565217391303,
          214.02173913043478,
          184.67391304347825,
          198.91304347826087,
          180.04347826086956,
          193.84782608695653,
          206.43478260869566,
          176.72857127870952,
          194.38095238095238,
          188.225,
          193.39473684210526,
          193.8684210526316,
          200.5,
          236.21739129657388,
          177.41666666666666,
          217,
          194,
          194.7941176470588,
          139.53125,
          190.95625001191874,
          198.46875,
          192.03125000046873,
          156.8125,
          179.20624999701874,
          183.10714285714286,
          165.53333333333333,
          159.6153846153846,
          179.47826086956522,
          183.53846153846155,
          199.46428571428572,
          227.69230769230768,
          173.6384615347923,
          232.6153846153846,
          196.60000000091537,
          176.56923081323845,
          218.45833333333334,
          195,
          165.72727272727272,
          184.8913043478261,
          157.72727272727272,
          165.55555555555554,
          188.55555555555554,
          159.22222222222223,
          193.05555555555554,
          177.8888888624,
          195.77777777777777,
          191.0625,
          184.07142857142858,
          176.25,
          234.2608695652174,
          191.375,
          185.88571429252858,
          151.8,
          167.64285714285714,
          179.66666666666666,
          175.8,
          144.2,
          164.5,
          167.2,
          138.7,
          201.52173913043478,
          151.25,
          164,
          153,
          149.5,
          133.60869566513045,
          197.8695652173913,
          223.93478260869566,
          171.54347826086956,
          197.7826086956522,
          198.19565217391303,
          173.8181818181818,
          133.60869566513045,
          227.04347826086956,
          187.6304347826087,
          197.52272727272728,
          174.86086956314347,
          162.7826086956522,
          202.25652173809564,
          189.18636363643182,
          209.65217391304347,
          210.47826086956522,
          199.6086956521739,
          193.2173913043478,
          212.43478260869566,
          181.56521739130434,
          180.91304347826087,
          235.08260871664785,
          181.19565217391303,
          133.60869566513045,
          186.1304347826087,
          196.8913043478261,
          211.244999980925,
          202.9956521676913,
          179.67391304347825,
          182.84782608695653,
          197.15217391304347,
          183,
          184.7608695652174,
          199.3913043478261,
          168.6086956521739,
          180.3913043478261,
          176.63333318347145,
          236.21739129657388,
          194.61904761904762,
          188.225,
          193.23684210526315,
          194.07894736842104
         ],
         "xaxis": "x",
         "y": [
          1,
          1,
          1,
          1,
          1,
          1,
          1,
          1,
          1,
          1,
          1,
          1,
          1,
          1,
          1,
          1,
          1,
          1,
          1,
          1,
          1,
          1,
          1,
          1,
          1,
          0,
          1,
          1,
          1,
          1,
          1,
          1,
          1,
          1,
          1,
          1,
          1,
          1,
          1,
          0,
          0,
          0,
          1,
          1,
          1,
          1,
          1,
          1,
          1,
          1,
          1,
          0,
          1,
          1,
          1,
          1,
          1,
          1,
          1,
          1,
          1,
          1,
          1,
          1,
          1,
          1,
          1,
          1,
          1,
          1,
          1,
          1,
          1,
          1,
          1,
          0,
          1,
          1,
          1,
          1,
          1,
          1,
          1,
          1,
          1,
          1,
          1,
          1,
          1,
          1,
          0,
          1,
          1,
          1,
          0,
          1,
          1,
          1,
          1,
          1,
          1,
          0,
          1,
          1,
          0,
          1,
          1,
          1,
          1,
          1,
          1,
          1,
          1,
          1,
          1,
          1,
          0,
          1,
          0,
          1,
          1,
          1,
          1,
          1,
          1,
          1,
          1,
          0,
          1,
          1,
          1,
          1,
          1,
          1,
          1,
          1,
          1,
          1,
          1,
          1,
          0,
          1,
          1,
          1,
          1,
          1,
          1,
          1,
          1,
          1,
          0,
          0,
          1,
          1,
          1,
          1,
          1,
          1,
          1,
          1,
          1,
          0,
          1,
          1,
          1,
          1,
          1,
          1,
          1,
          1,
          1,
          1,
          1,
          1,
          1,
          1,
          1,
          1,
          1,
          1,
          1,
          1,
          1,
          1,
          0,
          0,
          1,
          1,
          0,
          1,
          1,
          1,
          1,
          1,
          1,
          1,
          1,
          1,
          0,
          1,
          1,
          0,
          1,
          1,
          1,
          1,
          1,
          0,
          1,
          1,
          1,
          1,
          1,
          1,
          0,
          1,
          1,
          1
         ],
         "yaxis": "y"
        },
        {
         "alignmentgroup": "True",
         "hovertemplate": "Left_Company=1.0<br>TotalWorkingHours=%{x}<br>Sex=%{y}<extra></extra>",
         "legendgroup": "1.0",
         "marker": {
          "color": "#EF553B"
         },
         "name": "1.0",
         "offsetgroup": "1.0",
         "orientation": "h",
         "showlegend": true,
         "textposition": "auto",
         "type": "bar",
         "x": [
          182.36363636363637,
          169.7249999046375,
          180.57272720337275,
          191.45454545454547,
          185.287499904625,
          177.1818181818182,
          158.95,
          181.45833333333334,
          172.1304347877913,
          224.69411764425294,
          200.13636363636363,
          187.57692307692307,
          191.86111111111111,
          181.75,
          168.92857142857142,
          169.4749999046375,
          180.29999993064547,
          191.36363636363637,
          185.037499904625,
          181.125,
          172.08695652692174,
          224.81176470307648,
          200.5909090909091,
          192.08333333333334,
          159,
          181.95,
          168.92857142857142
         ],
         "xaxis": "x",
         "y": [
          0,
          1,
          1,
          1,
          1,
          1,
          1,
          1,
          1,
          1,
          1,
          1,
          0,
          1,
          0,
          1,
          1,
          1,
          1,
          1,
          1,
          1,
          1,
          0,
          1,
          1,
          0
         ],
         "yaxis": "y"
        }
       ],
       "layout": {
        "barmode": "relative",
        "legend": {
         "title": {
          "text": "Left_Company"
         },
         "tracegroupgap": 0
        },
        "margin": {
         "t": 60
        },
        "template": {
         "data": {
          "bar": [
           {
            "error_x": {
             "color": "#2a3f5f"
            },
            "error_y": {
             "color": "#2a3f5f"
            },
            "marker": {
             "line": {
              "color": "#E5ECF6",
              "width": 0.5
             }
            },
            "type": "bar"
           }
          ],
          "barpolar": [
           {
            "marker": {
             "line": {
              "color": "#E5ECF6",
              "width": 0.5
             }
            },
            "type": "barpolar"
           }
          ],
          "carpet": [
           {
            "aaxis": {
             "endlinecolor": "#2a3f5f",
             "gridcolor": "white",
             "linecolor": "white",
             "minorgridcolor": "white",
             "startlinecolor": "#2a3f5f"
            },
            "baxis": {
             "endlinecolor": "#2a3f5f",
             "gridcolor": "white",
             "linecolor": "white",
             "minorgridcolor": "white",
             "startlinecolor": "#2a3f5f"
            },
            "type": "carpet"
           }
          ],
          "choropleth": [
           {
            "colorbar": {
             "outlinewidth": 0,
             "ticks": ""
            },
            "type": "choropleth"
           }
          ],
          "contour": [
           {
            "colorbar": {
             "outlinewidth": 0,
             "ticks": ""
            },
            "colorscale": [
             [
              0,
              "#0d0887"
             ],
             [
              0.1111111111111111,
              "#46039f"
             ],
             [
              0.2222222222222222,
              "#7201a8"
             ],
             [
              0.3333333333333333,
              "#9c179e"
             ],
             [
              0.4444444444444444,
              "#bd3786"
             ],
             [
              0.5555555555555556,
              "#d8576b"
             ],
             [
              0.6666666666666666,
              "#ed7953"
             ],
             [
              0.7777777777777778,
              "#fb9f3a"
             ],
             [
              0.8888888888888888,
              "#fdca26"
             ],
             [
              1,
              "#f0f921"
             ]
            ],
            "type": "contour"
           }
          ],
          "contourcarpet": [
           {
            "colorbar": {
             "outlinewidth": 0,
             "ticks": ""
            },
            "type": "contourcarpet"
           }
          ],
          "heatmap": [
           {
            "colorbar": {
             "outlinewidth": 0,
             "ticks": ""
            },
            "colorscale": [
             [
              0,
              "#0d0887"
             ],
             [
              0.1111111111111111,
              "#46039f"
             ],
             [
              0.2222222222222222,
              "#7201a8"
             ],
             [
              0.3333333333333333,
              "#9c179e"
             ],
             [
              0.4444444444444444,
              "#bd3786"
             ],
             [
              0.5555555555555556,
              "#d8576b"
             ],
             [
              0.6666666666666666,
              "#ed7953"
             ],
             [
              0.7777777777777778,
              "#fb9f3a"
             ],
             [
              0.8888888888888888,
              "#fdca26"
             ],
             [
              1,
              "#f0f921"
             ]
            ],
            "type": "heatmap"
           }
          ],
          "heatmapgl": [
           {
            "colorbar": {
             "outlinewidth": 0,
             "ticks": ""
            },
            "colorscale": [
             [
              0,
              "#0d0887"
             ],
             [
              0.1111111111111111,
              "#46039f"
             ],
             [
              0.2222222222222222,
              "#7201a8"
             ],
             [
              0.3333333333333333,
              "#9c179e"
             ],
             [
              0.4444444444444444,
              "#bd3786"
             ],
             [
              0.5555555555555556,
              "#d8576b"
             ],
             [
              0.6666666666666666,
              "#ed7953"
             ],
             [
              0.7777777777777778,
              "#fb9f3a"
             ],
             [
              0.8888888888888888,
              "#fdca26"
             ],
             [
              1,
              "#f0f921"
             ]
            ],
            "type": "heatmapgl"
           }
          ],
          "histogram": [
           {
            "marker": {
             "colorbar": {
              "outlinewidth": 0,
              "ticks": ""
             }
            },
            "type": "histogram"
           }
          ],
          "histogram2d": [
           {
            "colorbar": {
             "outlinewidth": 0,
             "ticks": ""
            },
            "colorscale": [
             [
              0,
              "#0d0887"
             ],
             [
              0.1111111111111111,
              "#46039f"
             ],
             [
              0.2222222222222222,
              "#7201a8"
             ],
             [
              0.3333333333333333,
              "#9c179e"
             ],
             [
              0.4444444444444444,
              "#bd3786"
             ],
             [
              0.5555555555555556,
              "#d8576b"
             ],
             [
              0.6666666666666666,
              "#ed7953"
             ],
             [
              0.7777777777777778,
              "#fb9f3a"
             ],
             [
              0.8888888888888888,
              "#fdca26"
             ],
             [
              1,
              "#f0f921"
             ]
            ],
            "type": "histogram2d"
           }
          ],
          "histogram2dcontour": [
           {
            "colorbar": {
             "outlinewidth": 0,
             "ticks": ""
            },
            "colorscale": [
             [
              0,
              "#0d0887"
             ],
             [
              0.1111111111111111,
              "#46039f"
             ],
             [
              0.2222222222222222,
              "#7201a8"
             ],
             [
              0.3333333333333333,
              "#9c179e"
             ],
             [
              0.4444444444444444,
              "#bd3786"
             ],
             [
              0.5555555555555556,
              "#d8576b"
             ],
             [
              0.6666666666666666,
              "#ed7953"
             ],
             [
              0.7777777777777778,
              "#fb9f3a"
             ],
             [
              0.8888888888888888,
              "#fdca26"
             ],
             [
              1,
              "#f0f921"
             ]
            ],
            "type": "histogram2dcontour"
           }
          ],
          "mesh3d": [
           {
            "colorbar": {
             "outlinewidth": 0,
             "ticks": ""
            },
            "type": "mesh3d"
           }
          ],
          "parcoords": [
           {
            "line": {
             "colorbar": {
              "outlinewidth": 0,
              "ticks": ""
             }
            },
            "type": "parcoords"
           }
          ],
          "pie": [
           {
            "automargin": true,
            "type": "pie"
           }
          ],
          "scatter": [
           {
            "marker": {
             "colorbar": {
              "outlinewidth": 0,
              "ticks": ""
             }
            },
            "type": "scatter"
           }
          ],
          "scatter3d": [
           {
            "line": {
             "colorbar": {
              "outlinewidth": 0,
              "ticks": ""
             }
            },
            "marker": {
             "colorbar": {
              "outlinewidth": 0,
              "ticks": ""
             }
            },
            "type": "scatter3d"
           }
          ],
          "scattercarpet": [
           {
            "marker": {
             "colorbar": {
              "outlinewidth": 0,
              "ticks": ""
             }
            },
            "type": "scattercarpet"
           }
          ],
          "scattergeo": [
           {
            "marker": {
             "colorbar": {
              "outlinewidth": 0,
              "ticks": ""
             }
            },
            "type": "scattergeo"
           }
          ],
          "scattergl": [
           {
            "marker": {
             "colorbar": {
              "outlinewidth": 0,
              "ticks": ""
             }
            },
            "type": "scattergl"
           }
          ],
          "scattermapbox": [
           {
            "marker": {
             "colorbar": {
              "outlinewidth": 0,
              "ticks": ""
             }
            },
            "type": "scattermapbox"
           }
          ],
          "scatterpolar": [
           {
            "marker": {
             "colorbar": {
              "outlinewidth": 0,
              "ticks": ""
             }
            },
            "type": "scatterpolar"
           }
          ],
          "scatterpolargl": [
           {
            "marker": {
             "colorbar": {
              "outlinewidth": 0,
              "ticks": ""
             }
            },
            "type": "scatterpolargl"
           }
          ],
          "scatterternary": [
           {
            "marker": {
             "colorbar": {
              "outlinewidth": 0,
              "ticks": ""
             }
            },
            "type": "scatterternary"
           }
          ],
          "surface": [
           {
            "colorbar": {
             "outlinewidth": 0,
             "ticks": ""
            },
            "colorscale": [
             [
              0,
              "#0d0887"
             ],
             [
              0.1111111111111111,
              "#46039f"
             ],
             [
              0.2222222222222222,
              "#7201a8"
             ],
             [
              0.3333333333333333,
              "#9c179e"
             ],
             [
              0.4444444444444444,
              "#bd3786"
             ],
             [
              0.5555555555555556,
              "#d8576b"
             ],
             [
              0.6666666666666666,
              "#ed7953"
             ],
             [
              0.7777777777777778,
              "#fb9f3a"
             ],
             [
              0.8888888888888888,
              "#fdca26"
             ],
             [
              1,
              "#f0f921"
             ]
            ],
            "type": "surface"
           }
          ],
          "table": [
           {
            "cells": {
             "fill": {
              "color": "#EBF0F8"
             },
             "line": {
              "color": "white"
             }
            },
            "header": {
             "fill": {
              "color": "#C8D4E3"
             },
             "line": {
              "color": "white"
             }
            },
            "type": "table"
           }
          ]
         },
         "layout": {
          "annotationdefaults": {
           "arrowcolor": "#2a3f5f",
           "arrowhead": 0,
           "arrowwidth": 1
          },
          "autotypenumbers": "strict",
          "coloraxis": {
           "colorbar": {
            "outlinewidth": 0,
            "ticks": ""
           }
          },
          "colorscale": {
           "diverging": [
            [
             0,
             "#8e0152"
            ],
            [
             0.1,
             "#c51b7d"
            ],
            [
             0.2,
             "#de77ae"
            ],
            [
             0.3,
             "#f1b6da"
            ],
            [
             0.4,
             "#fde0ef"
            ],
            [
             0.5,
             "#f7f7f7"
            ],
            [
             0.6,
             "#e6f5d0"
            ],
            [
             0.7,
             "#b8e186"
            ],
            [
             0.8,
             "#7fbc41"
            ],
            [
             0.9,
             "#4d9221"
            ],
            [
             1,
             "#276419"
            ]
           ],
           "sequential": [
            [
             0,
             "#0d0887"
            ],
            [
             0.1111111111111111,
             "#46039f"
            ],
            [
             0.2222222222222222,
             "#7201a8"
            ],
            [
             0.3333333333333333,
             "#9c179e"
            ],
            [
             0.4444444444444444,
             "#bd3786"
            ],
            [
             0.5555555555555556,
             "#d8576b"
            ],
            [
             0.6666666666666666,
             "#ed7953"
            ],
            [
             0.7777777777777778,
             "#fb9f3a"
            ],
            [
             0.8888888888888888,
             "#fdca26"
            ],
            [
             1,
             "#f0f921"
            ]
           ],
           "sequentialminus": [
            [
             0,
             "#0d0887"
            ],
            [
             0.1111111111111111,
             "#46039f"
            ],
            [
             0.2222222222222222,
             "#7201a8"
            ],
            [
             0.3333333333333333,
             "#9c179e"
            ],
            [
             0.4444444444444444,
             "#bd3786"
            ],
            [
             0.5555555555555556,
             "#d8576b"
            ],
            [
             0.6666666666666666,
             "#ed7953"
            ],
            [
             0.7777777777777778,
             "#fb9f3a"
            ],
            [
             0.8888888888888888,
             "#fdca26"
            ],
            [
             1,
             "#f0f921"
            ]
           ]
          },
          "colorway": [
           "#636efa",
           "#EF553B",
           "#00cc96",
           "#ab63fa",
           "#FFA15A",
           "#19d3f3",
           "#FF6692",
           "#B6E880",
           "#FF97FF",
           "#FECB52"
          ],
          "font": {
           "color": "#2a3f5f"
          },
          "geo": {
           "bgcolor": "white",
           "lakecolor": "white",
           "landcolor": "#E5ECF6",
           "showlakes": true,
           "showland": true,
           "subunitcolor": "white"
          },
          "hoverlabel": {
           "align": "left"
          },
          "hovermode": "closest",
          "mapbox": {
           "style": "light"
          },
          "paper_bgcolor": "white",
          "plot_bgcolor": "#E5ECF6",
          "polar": {
           "angularaxis": {
            "gridcolor": "white",
            "linecolor": "white",
            "ticks": ""
           },
           "bgcolor": "#E5ECF6",
           "radialaxis": {
            "gridcolor": "white",
            "linecolor": "white",
            "ticks": ""
           }
          },
          "scene": {
           "xaxis": {
            "backgroundcolor": "#E5ECF6",
            "gridcolor": "white",
            "gridwidth": 2,
            "linecolor": "white",
            "showbackground": true,
            "ticks": "",
            "zerolinecolor": "white"
           },
           "yaxis": {
            "backgroundcolor": "#E5ECF6",
            "gridcolor": "white",
            "gridwidth": 2,
            "linecolor": "white",
            "showbackground": true,
            "ticks": "",
            "zerolinecolor": "white"
           },
           "zaxis": {
            "backgroundcolor": "#E5ECF6",
            "gridcolor": "white",
            "gridwidth": 2,
            "linecolor": "white",
            "showbackground": true,
            "ticks": "",
            "zerolinecolor": "white"
           }
          },
          "shapedefaults": {
           "line": {
            "color": "#2a3f5f"
           }
          },
          "ternary": {
           "aaxis": {
            "gridcolor": "white",
            "linecolor": "white",
            "ticks": ""
           },
           "baxis": {
            "gridcolor": "white",
            "linecolor": "white",
            "ticks": ""
           },
           "bgcolor": "#E5ECF6",
           "caxis": {
            "gridcolor": "white",
            "linecolor": "white",
            "ticks": ""
           }
          },
          "title": {
           "x": 0.05
          },
          "xaxis": {
           "automargin": true,
           "gridcolor": "white",
           "linecolor": "white",
           "ticks": "",
           "title": {
            "standoff": 15
           },
           "zerolinecolor": "white",
           "zerolinewidth": 2
          },
          "yaxis": {
           "automargin": true,
           "gridcolor": "white",
           "linecolor": "white",
           "ticks": "",
           "title": {
            "standoff": 15
           },
           "zerolinecolor": "white",
           "zerolinewidth": 2
          }
         }
        },
        "xaxis": {
         "anchor": "y",
         "domain": [
          0,
          1
         ],
         "title": {
          "text": "TotalWorkingHours"
         }
        },
        "yaxis": {
         "anchor": "x",
         "domain": [
          0,
          1
         ],
         "title": {
          "text": "Sex"
         }
        }
       }
      },
      "text/html": [
       "<div>                            <div id=\"700524a7-08b1-43a0-a4e8-69489fa9e00f\" class=\"plotly-graph-div\" style=\"height:525px; width:100%;\"></div>            <script type=\"text/javascript\">                require([\"plotly\"], function(Plotly) {                    window.PLOTLYENV=window.PLOTLYENV || {};                                    if (document.getElementById(\"700524a7-08b1-43a0-a4e8-69489fa9e00f\")) {                    Plotly.newPlot(                        \"700524a7-08b1-43a0-a4e8-69489fa9e00f\",                        [{\"alignmentgroup\": \"True\", \"hovertemplate\": \"Left_Company=0.0<br>TotalWorkingHours=%{x}<br>Sex=%{y}<extra></extra>\", \"legendgroup\": \"0.0\", \"marker\": {\"color\": \"#636efa\"}, \"name\": \"0.0\", \"offsetgroup\": \"0.0\", \"orientation\": \"h\", \"showlegend\": true, \"textposition\": \"auto\", \"type\": \"bar\", \"x\": [148.8695652173913, 200.38888888888889, 236.21739129657388, 210.55555555555554, 177.30555555555554, 217.0, 194.1764705882353, 140.09375, 187.15625, 171.95652173913044, 190.83125001191877, 184.3125, 159.875, 157.4375, 178.64374999701874, 182.75, 165.73333333333332, 160.4, 208.60714285714286, 183.69230769230768, 206.15384615384616, 179.60714285714286, 198.96428571428572, 208.17857142857142, 184.34782608695653, 227.30769230769232, 181.0, 173.48461538094614, 232.53846153846155, 196.44615384706924, 192.96153846153845, 175.95384619785384, 177.80769230769232, 188.0833333134583, 218.54166666666666, 194.66666666666666, 165.36363636363637, 140.1818181818182, 219.13636371491822, 165.77777777777777, 160.83333333333334, 189.44444444444446, 160.0, 195.33333333333334, 139.0, 178.0, 191.6875, 166.75, 166.4375, 184.5, 191.5, 184.88571429252858, 151.2, 178.64285714285714, 133.60869566513045, 179.0, 143.0, 164.66666666666666, 167.0, 139.5, 152.125, 163.25, 184.0, 152.75, 140.75, 150.0, 177.375, 133.60869566513045, 133.60869566513045, 133.60869566513045, 183.82608695652175, 197.7391304347826, 173.11363636363637, 173.77272727272728, 195.6086956521739, 214.41304347826087, 200.2173913043478, 183.91304347826087, 198.17391304347825, 179.52173913043478, 185.02173913043478, 233.8695652173913, 201.69565217391303, 198.43478260869566, 223.84782608695653, 171.3695652173913, 189.8913043478261, 198.2826086956522, 226.8695652173913, 187.43478260869566, 198.20454545454547, 179.52173913043478, 175.03478260662175, 210.47826086956522, 201.47826086956522, 206.0, 178.34782608695653, 212.0, 188.91304347826087, 181.2608695652174, 234.90869567316958, 181.45652173913044, 133.60869566513045, 186.34782608695653, 197.2391304347826, 197.30434782608697, 179.84782608695653, 212.2391304347826, 182.80434782608697, 199.47826086956522, 197.19565217391303, 214.02173913043478, 184.67391304347825, 198.91304347826087, 180.04347826086956, 193.84782608695653, 206.43478260869566, 176.72857127870952, 194.38095238095238, 188.225, 193.39473684210526, 193.8684210526316, 200.5, 236.21739129657388, 177.41666666666666, 217.0, 194.0, 194.7941176470588, 139.53125, 190.95625001191874, 198.46875, 192.03125000046873, 156.8125, 179.20624999701874, 183.10714285714286, 165.53333333333333, 159.6153846153846, 179.47826086956522, 183.53846153846155, 199.46428571428572, 227.69230769230768, 173.6384615347923, 232.6153846153846, 196.60000000091537, 176.56923081323845, 218.45833333333334, 195.0, 165.72727272727272, 184.8913043478261, 157.72727272727272, 165.55555555555554, 188.55555555555554, 159.22222222222223, 193.05555555555554, 177.8888888624, 195.77777777777777, 191.0625, 184.07142857142858, 176.25, 234.2608695652174, 191.375, 185.88571429252858, 151.8, 167.64285714285714, 179.66666666666666, 175.8, 144.2, 164.5, 167.2, 138.7, 201.52173913043478, 151.25, 164.0, 153.0, 149.5, 133.60869566513045, 197.8695652173913, 223.93478260869566, 171.54347826086956, 197.7826086956522, 198.19565217391303, 173.8181818181818, 133.60869566513045, 227.04347826086956, 187.6304347826087, 197.52272727272728, 174.86086956314347, 162.7826086956522, 202.25652173809564, 189.18636363643182, 209.65217391304347, 210.47826086956522, 199.6086956521739, 193.2173913043478, 212.43478260869566, 181.56521739130434, 180.91304347826087, 235.08260871664785, 181.19565217391303, 133.60869566513045, 186.1304347826087, 196.8913043478261, 211.244999980925, 202.9956521676913, 179.67391304347825, 182.84782608695653, 197.15217391304347, 183.0, 184.7608695652174, 199.3913043478261, 168.6086956521739, 180.3913043478261, 176.63333318347145, 236.21739129657388, 194.61904761904762, 188.225, 193.23684210526315, 194.07894736842104], \"xaxis\": \"x\", \"y\": [1, 1, 1, 1, 1, 1, 1, 1, 1, 1, 1, 1, 1, 1, 1, 1, 1, 1, 1, 1, 1, 1, 1, 1, 1, 0, 1, 1, 1, 1, 1, 1, 1, 1, 1, 1, 1, 1, 1, 0, 0, 0, 1, 1, 1, 1, 1, 1, 1, 1, 1, 0, 1, 1, 1, 1, 1, 1, 1, 1, 1, 1, 1, 1, 1, 1, 1, 1, 1, 1, 1, 1, 1, 1, 1, 0, 1, 1, 1, 1, 1, 1, 1, 1, 1, 1, 1, 1, 1, 1, 0, 1, 1, 1, 0, 1, 1, 1, 1, 1, 1, 0, 1, 1, 0, 1, 1, 1, 1, 1, 1, 1, 1, 1, 1, 1, 0, 1, 0, 1, 1, 1, 1, 1, 1, 1, 1, 0, 1, 1, 1, 1, 1, 1, 1, 1, 1, 1, 1, 1, 0, 1, 1, 1, 1, 1, 1, 1, 1, 1, 0, 0, 1, 1, 1, 1, 1, 1, 1, 1, 1, 0, 1, 1, 1, 1, 1, 1, 1, 1, 1, 1, 1, 1, 1, 1, 1, 1, 1, 1, 1, 1, 1, 1, 0, 0, 1, 1, 0, 1, 1, 1, 1, 1, 1, 1, 1, 1, 0, 1, 1, 0, 1, 1, 1, 1, 1, 0, 1, 1, 1, 1, 1, 1, 0, 1, 1, 1], \"yaxis\": \"y\"}, {\"alignmentgroup\": \"True\", \"hovertemplate\": \"Left_Company=1.0<br>TotalWorkingHours=%{x}<br>Sex=%{y}<extra></extra>\", \"legendgroup\": \"1.0\", \"marker\": {\"color\": \"#EF553B\"}, \"name\": \"1.0\", \"offsetgroup\": \"1.0\", \"orientation\": \"h\", \"showlegend\": true, \"textposition\": \"auto\", \"type\": \"bar\", \"x\": [182.36363636363637, 169.7249999046375, 180.57272720337275, 191.45454545454547, 185.287499904625, 177.1818181818182, 158.95, 181.45833333333334, 172.1304347877913, 224.69411764425294, 200.13636363636363, 187.57692307692307, 191.86111111111111, 181.75, 168.92857142857142, 169.4749999046375, 180.29999993064547, 191.36363636363637, 185.037499904625, 181.125, 172.08695652692174, 224.81176470307648, 200.5909090909091, 192.08333333333334, 159.0, 181.95, 168.92857142857142], \"xaxis\": \"x\", \"y\": [0, 1, 1, 1, 1, 1, 1, 1, 1, 1, 1, 1, 0, 1, 0, 1, 1, 1, 1, 1, 1, 1, 1, 0, 1, 1, 0], \"yaxis\": \"y\"}],                        {\"barmode\": \"relative\", \"legend\": {\"title\": {\"text\": \"Left_Company\"}, \"tracegroupgap\": 0}, \"margin\": {\"t\": 60}, \"template\": {\"data\": {\"bar\": [{\"error_x\": {\"color\": \"#2a3f5f\"}, \"error_y\": {\"color\": \"#2a3f5f\"}, \"marker\": {\"line\": {\"color\": \"#E5ECF6\", \"width\": 0.5}}, \"type\": \"bar\"}], \"barpolar\": [{\"marker\": {\"line\": {\"color\": \"#E5ECF6\", \"width\": 0.5}}, \"type\": \"barpolar\"}], \"carpet\": [{\"aaxis\": {\"endlinecolor\": \"#2a3f5f\", \"gridcolor\": \"white\", \"linecolor\": \"white\", \"minorgridcolor\": \"white\", \"startlinecolor\": \"#2a3f5f\"}, \"baxis\": {\"endlinecolor\": \"#2a3f5f\", \"gridcolor\": \"white\", \"linecolor\": \"white\", \"minorgridcolor\": \"white\", \"startlinecolor\": \"#2a3f5f\"}, \"type\": \"carpet\"}], \"choropleth\": [{\"colorbar\": {\"outlinewidth\": 0, \"ticks\": \"\"}, \"type\": \"choropleth\"}], \"contour\": [{\"colorbar\": {\"outlinewidth\": 0, \"ticks\": \"\"}, \"colorscale\": [[0.0, \"#0d0887\"], [0.1111111111111111, \"#46039f\"], [0.2222222222222222, \"#7201a8\"], [0.3333333333333333, \"#9c179e\"], [0.4444444444444444, \"#bd3786\"], [0.5555555555555556, \"#d8576b\"], [0.6666666666666666, \"#ed7953\"], [0.7777777777777778, \"#fb9f3a\"], [0.8888888888888888, \"#fdca26\"], [1.0, \"#f0f921\"]], \"type\": \"contour\"}], \"contourcarpet\": [{\"colorbar\": {\"outlinewidth\": 0, \"ticks\": \"\"}, \"type\": \"contourcarpet\"}], \"heatmap\": [{\"colorbar\": {\"outlinewidth\": 0, \"ticks\": \"\"}, \"colorscale\": [[0.0, \"#0d0887\"], [0.1111111111111111, \"#46039f\"], [0.2222222222222222, \"#7201a8\"], [0.3333333333333333, \"#9c179e\"], [0.4444444444444444, \"#bd3786\"], [0.5555555555555556, \"#d8576b\"], [0.6666666666666666, \"#ed7953\"], [0.7777777777777778, \"#fb9f3a\"], [0.8888888888888888, \"#fdca26\"], [1.0, \"#f0f921\"]], \"type\": \"heatmap\"}], \"heatmapgl\": [{\"colorbar\": {\"outlinewidth\": 0, \"ticks\": \"\"}, \"colorscale\": [[0.0, \"#0d0887\"], [0.1111111111111111, \"#46039f\"], [0.2222222222222222, \"#7201a8\"], [0.3333333333333333, \"#9c179e\"], [0.4444444444444444, \"#bd3786\"], [0.5555555555555556, \"#d8576b\"], [0.6666666666666666, \"#ed7953\"], [0.7777777777777778, \"#fb9f3a\"], [0.8888888888888888, \"#fdca26\"], [1.0, \"#f0f921\"]], \"type\": \"heatmapgl\"}], \"histogram\": [{\"marker\": {\"colorbar\": {\"outlinewidth\": 0, \"ticks\": \"\"}}, \"type\": \"histogram\"}], \"histogram2d\": [{\"colorbar\": {\"outlinewidth\": 0, \"ticks\": \"\"}, \"colorscale\": [[0.0, \"#0d0887\"], [0.1111111111111111, \"#46039f\"], [0.2222222222222222, \"#7201a8\"], [0.3333333333333333, \"#9c179e\"], [0.4444444444444444, \"#bd3786\"], [0.5555555555555556, \"#d8576b\"], [0.6666666666666666, \"#ed7953\"], [0.7777777777777778, \"#fb9f3a\"], [0.8888888888888888, \"#fdca26\"], [1.0, \"#f0f921\"]], \"type\": \"histogram2d\"}], \"histogram2dcontour\": [{\"colorbar\": {\"outlinewidth\": 0, \"ticks\": \"\"}, \"colorscale\": [[0.0, \"#0d0887\"], [0.1111111111111111, \"#46039f\"], [0.2222222222222222, \"#7201a8\"], [0.3333333333333333, \"#9c179e\"], [0.4444444444444444, \"#bd3786\"], [0.5555555555555556, \"#d8576b\"], [0.6666666666666666, \"#ed7953\"], [0.7777777777777778, \"#fb9f3a\"], [0.8888888888888888, \"#fdca26\"], [1.0, \"#f0f921\"]], \"type\": \"histogram2dcontour\"}], \"mesh3d\": [{\"colorbar\": {\"outlinewidth\": 0, \"ticks\": \"\"}, \"type\": \"mesh3d\"}], \"parcoords\": [{\"line\": {\"colorbar\": {\"outlinewidth\": 0, \"ticks\": \"\"}}, \"type\": \"parcoords\"}], \"pie\": [{\"automargin\": true, \"type\": \"pie\"}], \"scatter\": [{\"marker\": {\"colorbar\": {\"outlinewidth\": 0, \"ticks\": \"\"}}, \"type\": \"scatter\"}], \"scatter3d\": [{\"line\": {\"colorbar\": {\"outlinewidth\": 0, \"ticks\": \"\"}}, \"marker\": {\"colorbar\": {\"outlinewidth\": 0, \"ticks\": \"\"}}, \"type\": \"scatter3d\"}], \"scattercarpet\": [{\"marker\": {\"colorbar\": {\"outlinewidth\": 0, \"ticks\": \"\"}}, \"type\": \"scattercarpet\"}], \"scattergeo\": [{\"marker\": {\"colorbar\": {\"outlinewidth\": 0, \"ticks\": \"\"}}, \"type\": \"scattergeo\"}], \"scattergl\": [{\"marker\": {\"colorbar\": {\"outlinewidth\": 0, \"ticks\": \"\"}}, \"type\": \"scattergl\"}], \"scattermapbox\": [{\"marker\": {\"colorbar\": {\"outlinewidth\": 0, \"ticks\": \"\"}}, \"type\": \"scattermapbox\"}], \"scatterpolar\": [{\"marker\": {\"colorbar\": {\"outlinewidth\": 0, \"ticks\": \"\"}}, \"type\": \"scatterpolar\"}], \"scatterpolargl\": [{\"marker\": {\"colorbar\": {\"outlinewidth\": 0, \"ticks\": \"\"}}, \"type\": \"scatterpolargl\"}], \"scatterternary\": [{\"marker\": {\"colorbar\": {\"outlinewidth\": 0, \"ticks\": \"\"}}, \"type\": \"scatterternary\"}], \"surface\": [{\"colorbar\": {\"outlinewidth\": 0, \"ticks\": \"\"}, \"colorscale\": [[0.0, \"#0d0887\"], [0.1111111111111111, \"#46039f\"], [0.2222222222222222, \"#7201a8\"], [0.3333333333333333, \"#9c179e\"], [0.4444444444444444, \"#bd3786\"], [0.5555555555555556, \"#d8576b\"], [0.6666666666666666, \"#ed7953\"], [0.7777777777777778, \"#fb9f3a\"], [0.8888888888888888, \"#fdca26\"], [1.0, \"#f0f921\"]], \"type\": \"surface\"}], \"table\": [{\"cells\": {\"fill\": {\"color\": \"#EBF0F8\"}, \"line\": {\"color\": \"white\"}}, \"header\": {\"fill\": {\"color\": \"#C8D4E3\"}, \"line\": {\"color\": \"white\"}}, \"type\": \"table\"}]}, \"layout\": {\"annotationdefaults\": {\"arrowcolor\": \"#2a3f5f\", \"arrowhead\": 0, \"arrowwidth\": 1}, \"autotypenumbers\": \"strict\", \"coloraxis\": {\"colorbar\": {\"outlinewidth\": 0, \"ticks\": \"\"}}, \"colorscale\": {\"diverging\": [[0, \"#8e0152\"], [0.1, \"#c51b7d\"], [0.2, \"#de77ae\"], [0.3, \"#f1b6da\"], [0.4, \"#fde0ef\"], [0.5, \"#f7f7f7\"], [0.6, \"#e6f5d0\"], [0.7, \"#b8e186\"], [0.8, \"#7fbc41\"], [0.9, \"#4d9221\"], [1, \"#276419\"]], \"sequential\": [[0.0, \"#0d0887\"], [0.1111111111111111, \"#46039f\"], [0.2222222222222222, \"#7201a8\"], [0.3333333333333333, \"#9c179e\"], [0.4444444444444444, \"#bd3786\"], [0.5555555555555556, \"#d8576b\"], [0.6666666666666666, \"#ed7953\"], [0.7777777777777778, \"#fb9f3a\"], [0.8888888888888888, \"#fdca26\"], [1.0, \"#f0f921\"]], \"sequentialminus\": [[0.0, \"#0d0887\"], [0.1111111111111111, \"#46039f\"], [0.2222222222222222, \"#7201a8\"], [0.3333333333333333, \"#9c179e\"], [0.4444444444444444, \"#bd3786\"], [0.5555555555555556, \"#d8576b\"], [0.6666666666666666, \"#ed7953\"], [0.7777777777777778, \"#fb9f3a\"], [0.8888888888888888, \"#fdca26\"], [1.0, \"#f0f921\"]]}, \"colorway\": [\"#636efa\", \"#EF553B\", \"#00cc96\", \"#ab63fa\", \"#FFA15A\", \"#19d3f3\", \"#FF6692\", \"#B6E880\", \"#FF97FF\", \"#FECB52\"], \"font\": {\"color\": \"#2a3f5f\"}, \"geo\": {\"bgcolor\": \"white\", \"lakecolor\": \"white\", \"landcolor\": \"#E5ECF6\", \"showlakes\": true, \"showland\": true, \"subunitcolor\": \"white\"}, \"hoverlabel\": {\"align\": \"left\"}, \"hovermode\": \"closest\", \"mapbox\": {\"style\": \"light\"}, \"paper_bgcolor\": \"white\", \"plot_bgcolor\": \"#E5ECF6\", \"polar\": {\"angularaxis\": {\"gridcolor\": \"white\", \"linecolor\": \"white\", \"ticks\": \"\"}, \"bgcolor\": \"#E5ECF6\", \"radialaxis\": {\"gridcolor\": \"white\", \"linecolor\": \"white\", \"ticks\": \"\"}}, \"scene\": {\"xaxis\": {\"backgroundcolor\": \"#E5ECF6\", \"gridcolor\": \"white\", \"gridwidth\": 2, \"linecolor\": \"white\", \"showbackground\": true, \"ticks\": \"\", \"zerolinecolor\": \"white\"}, \"yaxis\": {\"backgroundcolor\": \"#E5ECF6\", \"gridcolor\": \"white\", \"gridwidth\": 2, \"linecolor\": \"white\", \"showbackground\": true, \"ticks\": \"\", \"zerolinecolor\": \"white\"}, \"zaxis\": {\"backgroundcolor\": \"#E5ECF6\", \"gridcolor\": \"white\", \"gridwidth\": 2, \"linecolor\": \"white\", \"showbackground\": true, \"ticks\": \"\", \"zerolinecolor\": \"white\"}}, \"shapedefaults\": {\"line\": {\"color\": \"#2a3f5f\"}}, \"ternary\": {\"aaxis\": {\"gridcolor\": \"white\", \"linecolor\": \"white\", \"ticks\": \"\"}, \"baxis\": {\"gridcolor\": \"white\", \"linecolor\": \"white\", \"ticks\": \"\"}, \"bgcolor\": \"#E5ECF6\", \"caxis\": {\"gridcolor\": \"white\", \"linecolor\": \"white\", \"ticks\": \"\"}}, \"title\": {\"x\": 0.05}, \"xaxis\": {\"automargin\": true, \"gridcolor\": \"white\", \"linecolor\": \"white\", \"ticks\": \"\", \"title\": {\"standoff\": 15}, \"zerolinecolor\": \"white\", \"zerolinewidth\": 2}, \"yaxis\": {\"automargin\": true, \"gridcolor\": \"white\", \"linecolor\": \"white\", \"ticks\": \"\", \"title\": {\"standoff\": 15}, \"zerolinecolor\": \"white\", \"zerolinewidth\": 2}}}, \"xaxis\": {\"anchor\": \"y\", \"domain\": [0.0, 1.0], \"title\": {\"text\": \"TotalWorkingHours\"}}, \"yaxis\": {\"anchor\": \"x\", \"domain\": [0.0, 1.0], \"title\": {\"text\": \"Sex\"}}},                        {\"responsive\": true}                    ).then(function(){\n",
       "                            \n",
       "var gd = document.getElementById('700524a7-08b1-43a0-a4e8-69489fa9e00f');\n",
       "var x = new MutationObserver(function (mutations, observer) {{\n",
       "        var display = window.getComputedStyle(gd).display;\n",
       "        if (!display || display === 'none') {{\n",
       "            console.log([gd, 'removed!']);\n",
       "            Plotly.purge(gd);\n",
       "            observer.disconnect();\n",
       "        }}\n",
       "}});\n",
       "\n",
       "// Listen for the removal of the full notebook cells\n",
       "var notebookContainer = gd.closest('#notebook-container');\n",
       "if (notebookContainer) {{\n",
       "    x.observe(notebookContainer, {childList: true});\n",
       "}}\n",
       "\n",
       "// Listen for the clearing of the current output cell\n",
       "var outputEl = gd.closest('.output');\n",
       "if (outputEl) {{\n",
       "    x.observe(outputEl, {childList: true});\n",
       "}}\n",
       "\n",
       "                        })                };                });            </script>        </div>"
      ]
     },
     "metadata": {},
     "output_type": "display_data"
    }
   ],
   "source": [
    "fig = px.bar(train_data, y=\"Sex\", x=\"TotalWorkingHours\",color='Left_Company')\n",
    "fig"
   ]
  },
  {
   "cell_type": "code",
   "execution_count": 238,
   "metadata": {},
   "outputs": [
    {
     "data": {
      "image/png": "[encoded data removed]",
      "text/plain": [
       "<Figure size 463.725x432 with 1 Axes>"
      ]
     },
     "metadata": {},
     "output_type": "display_data"
    }
   ],
   "source": [
    "sns.catplot(x=\"Designation\", y=\"TotalWorkingHours\",\n",
    "                hue=\"Left_Company\",\n",
    "                data=train_data, kind=\"box\",\n",
    "                height=6, aspect=.9);"
   ]
  },
  {
   "cell_type": "raw",
   "metadata": {},
   "source": [
    "## DATA VISUALIZATION\n",
    "\n",
    "sns.countplot(x=\"Left_Company\",data=test_data)\n",
    "#test_data[\"Left_Company\"].value_counts()"
   ]
  },
  {
   "cell_type": "markdown",
   "metadata": {},
   "source": [
    "# Encode categorical columns."
   ]
  },
  {
   "cell_type": "code",
   "execution_count": 240,
   "metadata": {},
   "outputs": [],
   "source": [
    "X_train.replace(['No','Yes'],[0,1],inplace=True)\n",
    "X_test.replace(['No','Yes'],[0,1],inplace=True)\n",
    "#y_train.replace(['No','Yes'],[0,1],inplace=True)\n",
    "#y_test.replace(['No','Yes'],[0,1],inplace=True)"
   ]
  },
  {
   "cell_type": "markdown",
   "metadata": {},
   "source": [
    "# Pipeline"
   ]
  },
  {
   "cell_type": "code",
   "execution_count": 241,
   "metadata": {},
   "outputs": [
    {
     "data": {
      "text/plain": [
       "Index(['Designation', 'Sex'], dtype='object')"
      ]
     },
     "execution_count": 241,
     "metadata": {},
     "output_type": "execute_result"
    }
   ],
   "source": [
    "cat_col = cat_col.drop(['Left_Company'])\n",
    "cat_col"
   ]
  },
  {
   "cell_type": "markdown",
   "metadata": {},
   "source": [
    "### Classes used in Pipeline\n",
    "\n",
    "- Use `SimpleImputer` class from `sklearn.impute` module,impute with the median for numeric columns and with mode for categorical columns\n",
    "- Use `StandardScale` class from `sklearn.preprocessing` module to standardize the columns\n",
    "- Use `OneHotEncoder` class from `sklearn.preprocessing` module to convert the categorical variables to the numerical variables"
   ]
  },
  {
   "cell_type": "code",
   "execution_count": 242,
   "metadata": {},
   "outputs": [],
   "source": [
    "#Function to normalise the data\n",
    "def logtransf_normalize_func(X_train):\n",
    "    for i in range(0,X_train.shape[1]):\n",
    "            upper = X_train[col[i]].max()\n",
    "            lower = X_train[col[i]].min()\n",
    "            X_train[col[i]] = (X_train[col[i]] - lower)/(upper-lower)\n",
    "            X_train[col[i]] = np.log(2+X_train[col[i]])"
   ]
  },
  {
   "cell_type": "code",
   "execution_count": 243,
   "metadata": {},
   "outputs": [],
   "source": [
    "# Preprocessing for numerical data\n",
    "numeric_transformer = Pipeline(steps=[\n",
    "    ('num_imputer', SimpleImputer(strategy='median')),\n",
    "    ('num_scaler', StandardScaler())])\n",
    "\n",
    "# Preprocessing for categorical data\n",
    "categorical_transformer = Pipeline(steps=[\n",
    "    ('cat_imputer', SimpleImputer(strategy='most_frequent')),\n",
    "    ('cat_onehotencode', OneHotEncoder(handle_unknown='ignore'))])\n",
    "\n",
    "# Bundle preprocessing for numerical and categorical data\n",
    "preprocessor = ColumnTransformer(\n",
    "    transformers=[\n",
    "        ('num_trf', numeric_transformer, num_col),\n",
    "        ('cat_trf', categorical_transformer, cat_col)])\n",
    "\n"
   ]
  },
  {
   "cell_type": "raw",
   "metadata": {},
   "source": [
    "pre_processing_pipeline = Pipeline(steps=[('preprocessor', preprocessor)])"
   ]
  },
  {
   "cell_type": "raw",
   "metadata": {},
   "source": [
    "X_train_pp = pd.DataFrame(pre_processing_pipeline.fit_transform(X_train))\n",
    "X_test_pp = pd.DataFrame(pre_processing_pipeline.transform(X_test))"
   ]
  },
  {
   "cell_type": "markdown",
   "metadata": {},
   "source": [
    "# OnehotEncoding"
   ]
  },
  {
   "cell_type": "raw",
   "metadata": {},
   "source": [
    " OH_encoder.get_feature_names()\n",
    " num_col"
   ]
  },
  {
   "cell_type": "code",
   "execution_count": 244,
   "metadata": {},
   "outputs": [
    {
     "data": {
      "text/plain": [
       "Index(['TotalWorkingHours', 'Billable_Hours', 'Hours_off_Duty',\n",
       "       'Touring_Hours', 'NoOfProjects', 'ActualTimeSpent', 'No_of_companies',\n",
       "       'years_in_company'],\n",
       "      dtype='object')"
      ]
     },
     "execution_count": 244,
     "metadata": {},
     "output_type": "execute_result"
    }
   ],
   "source": [
    "num_col"
   ]
  },
  {
   "cell_type": "code",
   "execution_count": 245,
   "metadata": {},
   "outputs": [],
   "source": [
    "cat_col = ['Designation', 'Sex']"
   ]
  },
  {
   "cell_type": "code",
   "execution_count": 246,
   "metadata": {},
   "outputs": [],
   "source": [
    "# Apply one-hot encoder to each column with categorical data\n",
    "OH_encoder = OneHotEncoder(handle_unknown='ignore', sparse=False)\n",
    "OH_cols_train = pd.DataFrame(OH_encoder.fit_transform(X_train[cat_col]))\n",
    "OH_cols_test  = pd.DataFrame(OH_encoder.transform(X_test[cat_col]))\n",
    "\n",
    "# One-hot encoding removed index; put it back\n",
    "OH_cols_train.index = X_train.index\n",
    "OH_cols_test.index = X_test.index\n",
    "\n",
    "# One-hot encoding assigns the sequence numbers as the columns names.\n",
    "OH_cols_train.columns = OH_encoder.get_feature_names()\n",
    "OH_cols_test.columns  = OH_encoder.get_feature_names()\n",
    "\n",
    "# Add one-hot encoded columns to imputed numerical features\n",
    "Final_X_train = pd.concat([X_train[num_col], OH_cols_train], axis=1)\n",
    "Final_X_test  = pd.concat([X_test[num_col], OH_cols_test], axis=1)"
   ]
  },
  {
   "cell_type": "markdown",
   "metadata": {},
   "source": [
    "# Compute metrics\n",
    "\n",
    "- Compute accuracy, precision, recall and f1-score.\n",
    "- Using functions accuracy_score,recall_score,precision_score,f1_score available in sklearn.metrics module."
   ]
  },
  {
   "cell_type": "code",
   "execution_count": 254,
   "metadata": {},
   "outputs": [],
   "source": [
    "# Function to append classification metrics into a dataframe\n",
    "global Metric\n",
    "Metric = pd.DataFrame(columns=['Model','Accuray','precision_class0','precision_class1','recall_class0','recall_class1','f1_class0','f1_class1'])\n",
    "\n",
    "def Metric_append(metric,y_train,train_pred):\n",
    "    Metric = Metric.append(pd.Series([model_name,accuracy_score(y_train,train_pred), precision_score(y_train,train_pred,average = None)[0], \n",
    "                            precision_score(y_train,train_pred,average = None)[1],\n",
    "                           recall_score(y_train,train_pred,average = None)[0],recall_score(y_train,train_pred,average = None)[1], \n",
    "                           f1_score(y_train,train_pred,average = None)[0],\n",
    "                 f1_score(y_train,train_pred,average = None)[1]], index=Metric.columns ), ignore_index=True)\n",
    "\n",
    "    return Metric\n",
    "\n",
    "#Function for model evaluation\n",
    "def model_evaluation(y_train, train_pred, y_test, pred_test):\n",
    "    \n",
    "    print('''\n",
    "            =========================================\n",
    "               CLASSIFICATION REPORT FOR TRAIN DATA\n",
    "            =========================================''')\n",
    "    print(classification_report(y_train, train_pred))\n",
    "    \n",
    "    print('''\n",
    "            =========================================\n",
    "               CLASSIFICATION REPORT FOR TEST DATA\n",
    "            =========================================''')\n",
    "    print(classification_report(y_test, pred_test))\n",
    "    \n",
    "    "
   ]
  },
  {
   "cell_type": "code",
   "execution_count": 248,
   "metadata": {},
   "outputs": [],
   "source": [
    "#scoring = make_scorer(lambda yt,yp: f1_score(yt,yp,pos_label = 1))"
   ]
  },
  {
   "cell_type": "markdown",
   "metadata": {},
   "source": [
    "# Model Building"
   ]
  },
  {
   "cell_type": "code",
   "execution_count": 249,
   "metadata": {},
   "outputs": [],
   "source": [
    "#Building linear logistic model\n",
    "clf_logreg = Pipeline(steps=[('preprocessor', preprocessor),\n",
    "                      ('classifier', LogisticRegression())])"
   ]
  },
  {
   "cell_type": "code",
   "execution_count": 250,
   "metadata": {},
   "outputs": [
    {
     "name": "stdout",
     "output_type": "stream",
     "text": [
      "Wall time: 1.49 s\n"
     ]
    },
    {
     "data": {
      "text/plain": [
       "Pipeline(steps=[('preprocessor',\n",
       "                 ColumnTransformer(transformers=[('num_trf',\n",
       "                                                  Pipeline(steps=[('num_imputer',\n",
       "                                                                   SimpleImputer(strategy='median')),\n",
       "                                                                  ('num_scaler',\n",
       "                                                                   StandardScaler())]),\n",
       "                                                  Index(['TotalWorkingHours', 'Billable_Hours', 'Hours_off_Duty',\n",
       "       'Touring_Hours', 'NoOfProjects', 'ActualTimeSpent', 'No_of_companies',\n",
       "       'years_in_company'],\n",
       "      dtype='object')),\n",
       "                                                 ('cat_trf',\n",
       "                                                  Pipeline(steps=[('cat_imputer',\n",
       "                                                                   SimpleImputer(strategy='most_frequent')),\n",
       "                                                                  ('cat_onehotencode',\n",
       "                                                                   OneHotEncoder(handle_unknown='ignore'))]),\n",
       "                                                  Index(['Designation', 'Sex'], dtype='object'))])),\n",
       "                ('classifier', LogisticRegression())])"
      ]
     },
     "execution_count": 250,
     "metadata": {},
     "output_type": "execute_result"
    }
   ],
   "source": [
    "%%time\n",
    "#fitting the data to the linear model\n",
    "clf_logreg.fit(X_train, y_train)"
   ]
  },
  {
   "cell_type": "code",
   "execution_count": 260,
   "metadata": {},
   "outputs": [
    {
     "name": "stdout",
     "output_type": "stream",
     "text": [
      "\n",
      "            =========================================\n",
      "               CLASSIFICATION REPORT FOR TRAIN DATA\n",
      "            =========================================\n",
      "              precision    recall  f1-score   support\n",
      "\n",
      "         0.0       0.97      1.00      0.99       153\n",
      "         1.0       1.00      0.78      0.88        18\n",
      "\n",
      "    accuracy                           0.98       171\n",
      "   macro avg       0.99      0.89      0.93       171\n",
      "weighted avg       0.98      0.98      0.98       171\n",
      "\n",
      "\n",
      "            =========================================\n",
      "               CLASSIFICATION REPORT FOR TEST DATA\n",
      "            =========================================\n",
      "              precision    recall  f1-score   support\n",
      "\n",
      "         0.0       0.94      1.00      0.97        65\n",
      "         1.0       1.00      0.56      0.71         9\n",
      "\n",
      "    accuracy                           0.95        74\n",
      "   macro avg       0.97      0.78      0.84        74\n",
      "weighted avg       0.95      0.95      0.94        74\n",
      "\n"
     ]
    }
   ],
   "source": [
    "#Predicting with the linear model\n",
    "train_pred = clf_logreg.predict(X_train)\n",
    "test_pred = clf_logreg.predict(X_test)\n",
    "\n",
    "#Appending metrics in a dataframe\n",
    "#Metric_append('clf_logreg_train',y_train,train_pred)\n",
    "\n",
    "Metric.append(pd.Series([\"clf_logreg_train\",accuracy_score(y_train,train_pred), precision_score(y_train,train_pred,average = None)[0], \n",
    "                            precision_score(y_train,train_pred,average = None)[1],\n",
    "                           recall_score(y_train,train_pred,average = None)[0],recall_score(y_train,train_pred,average = None)[1], \n",
    "                           f1_score(y_train,train_pred,average = None)[0],\n",
    "                 f1_score(y_train,train_pred,average = None)[1]], index=Metric.columns ), ignore_index=True)\n",
    "\n",
    "#Metric_append('clf_logreg_test',y_test,test_pred)\n",
    "\n",
    "Metric.append(pd.Series([\"clf_logreg_test\",accuracy_score(y_test,test_pred), precision_score(y_test,test_pred,average = None)[0], \n",
    "                            precision_score(y_test,test_pred,average = None)[1],\n",
    "                           recall_score(y_test,test_pred,average = None)[0],recall_score(y_test,test_pred,average = None)[1], \n",
    "                           f1_score(y_test,test_pred,average = None)[0],\n",
    "                 f1_score(y_test,test_pred,average = None)[1]], index=Metric.columns ), ignore_index=True)\n",
    "\n",
    "\n",
    "#displaying metrics\n",
    "model_evaluation(y_train, train_pred, y_test, test_pred)"
   ]
  },
  {
   "cell_type": "code",
   "execution_count": 263,
   "metadata": {},
   "outputs": [],
   "source": [
    "from sklearn.metrics import fbeta_score, make_scorer"
   ]
  },
  {
   "cell_type": "code",
   "execution_count": 265,
   "metadata": {},
   "outputs": [
    {
     "name": "stdout",
     "output_type": "stream",
     "text": [
      "Fitting 5 folds for each of 1 candidates, totalling 5 fits\n",
      "[CV 1/5] END classifier__criterion=entropy, classifier__max_depth=6, classifier__min_samples_leaf=10, classifier__min_samples_split=2; total time=   0.4s\n",
      "[CV 2/5] END classifier__criterion=entropy, classifier__max_depth=6, classifier__min_samples_leaf=10, classifier__min_samples_split=2; total time=   0.0s\n",
      "[CV 3/5] END classifier__criterion=entropy, classifier__max_depth=6, classifier__min_samples_leaf=10, classifier__min_samples_split=2; total time=   0.0s\n",
      "[CV 4/5] END classifier__criterion=entropy, classifier__max_depth=6, classifier__min_samples_leaf=10, classifier__min_samples_split=2; total time=   0.0s\n",
      "[CV 5/5] END classifier__criterion=entropy, classifier__max_depth=6, classifier__min_samples_leaf=10, classifier__min_samples_split=2; total time=   0.0s\n",
      "Wall time: 888 ms\n"
     ]
    },
    {
     "data": {
      "text/plain": [
       "GridSearchCV(cv=5,\n",
       "             estimator=Pipeline(steps=[('preprocessor',\n",
       "                                        ColumnTransformer(transformers=[('num_trf',\n",
       "                                                                         Pipeline(steps=[('num_imputer',\n",
       "                                                                                          SimpleImputer(strategy='median')),\n",
       "                                                                                         ('num_scaler',\n",
       "                                                                                          StandardScaler())]),\n",
       "                                                                         Index(['TotalWorkingHours', 'Billable_Hours', 'Hours_off_Duty',\n",
       "       'Touring_Hours', 'NoOfProjects', 'ActualTimeSpent', 'No_of_companies',\n",
       "       'years_in_company'],...\n",
       "                                                                                          SimpleImputer(strategy='most_frequent')),\n",
       "                                                                                         ('cat_onehotencode',\n",
       "                                                                                          OneHotEncoder(handle_unknown='ignore'))]),\n",
       "                                                                         Index(['Designation', 'Sex'], dtype='object'))])),\n",
       "                                       ('classifier',\n",
       "                                        DecisionTreeClassifier())]),\n",
       "             param_grid={'classifier__criterion': ['entropy'],\n",
       "                         'classifier__max_depth': [6],\n",
       "                         'classifier__min_samples_leaf': [10],\n",
       "                         'classifier__min_samples_split': [2]},\n",
       "             scoring=make_scorer(precision_score), verbose=3)"
      ]
     },
     "execution_count": 265,
     "metadata": {},
     "output_type": "execute_result"
    }
   ],
   "source": [
    "%%time\n",
    "#Calling pipeline to perform preprocessing and DecisionTreeClassifier model\n",
    "\n",
    "clf_dt = Pipeline(steps=[('preprocessor', preprocessor),\n",
    "                      ('classifier', DecisionTreeClassifier())])\n",
    "\n",
    "#Parameters used in GridSearch Cv\n",
    "dt_param_grid = {'classifier__criterion': ['entropy'],\n",
    " 'classifier__max_depth': [6],\n",
    " 'classifier__min_samples_leaf': [10],\n",
    " 'classifier__min_samples_split': [2]}\n",
    "\n",
    "#Perform GridSearch cross validation\n",
    "dt_grid = GridSearchCV(clf_dt, param_grid=dt_param_grid, cv=5,verbose=3,scoring = make_scorer(precision_score))\n",
    "\n",
    "#Fitting the model to the data\n",
    "dt_grid.fit(X_train,y_train)"
   ]
  },
  {
   "cell_type": "code",
   "execution_count": 266,
   "metadata": {},
   "outputs": [
    {
     "data": {
      "text/plain": [
       "{'classifier__criterion': 'entropy',\n",
       " 'classifier__max_depth': 6,\n",
       " 'classifier__min_samples_leaf': 10,\n",
       " 'classifier__min_samples_split': 2}"
      ]
     },
     "execution_count": 266,
     "metadata": {},
     "output_type": "execute_result"
    }
   ],
   "source": [
    "#Displaying the best parameters based on the metric score\n",
    "dt_grid.best_params_"
   ]
  },
  {
   "cell_type": "code",
   "execution_count": 267,
   "metadata": {},
   "outputs": [
    {
     "data": {
      "text/plain": [
       "Pipeline(steps=[('preprocessor',\n",
       "                 ColumnTransformer(transformers=[('num_trf',\n",
       "                                                  Pipeline(steps=[('num_imputer',\n",
       "                                                                   SimpleImputer(strategy='median')),\n",
       "                                                                  ('num_scaler',\n",
       "                                                                   StandardScaler())]),\n",
       "                                                  Index(['TotalWorkingHours', 'Billable_Hours', 'Hours_off_Duty',\n",
       "       'Touring_Hours', 'NoOfProjects', 'ActualTimeSpent', 'No_of_companies',\n",
       "       'years_in_company'],\n",
       "      dtype='object')),\n",
       "                                                 ('cat_trf',\n",
       "                                                  Pipeline(steps=[('cat_imputer',\n",
       "                                                                   SimpleImputer(strategy='most_frequent')),\n",
       "                                                                  ('cat_onehotencode',\n",
       "                                                                   OneHotEncoder(handle_unknown='ignore'))]),\n",
       "                                                  Index(['Designation', 'Sex'], dtype='object'))])),\n",
       "                ('classifier',\n",
       "                 DecisionTreeClassifier(criterion='entropy', max_depth=6,\n",
       "                                        min_samples_leaf=10))])"
      ]
     },
     "execution_count": 267,
     "metadata": {},
     "output_type": "execute_result"
    }
   ],
   "source": [
    "#Displaying the best estimator\n",
    "dt_grid.best_estimator_"
   ]
  },
  {
   "cell_type": "code",
   "execution_count": 268,
   "metadata": {},
   "outputs": [
    {
     "name": "stdout",
     "output_type": "stream",
     "text": [
      "\n",
      "            =========================================\n",
      "               CLASSIFICATION REPORT FOR TRAIN DATA\n",
      "            =========================================\n",
      "              precision    recall  f1-score   support\n",
      "\n",
      "         0.0       0.97      1.00      0.99       153\n",
      "         1.0       1.00      0.78      0.88        18\n",
      "\n",
      "    accuracy                           0.98       171\n",
      "   macro avg       0.99      0.89      0.93       171\n",
      "weighted avg       0.98      0.98      0.98       171\n",
      "\n",
      "\n",
      "            =========================================\n",
      "               CLASSIFICATION REPORT FOR TEST DATA\n",
      "            =========================================\n",
      "              precision    recall  f1-score   support\n",
      "\n",
      "         0.0       0.96      1.00      0.98        65\n",
      "         1.0       1.00      0.67      0.80         9\n",
      "\n",
      "    accuracy                           0.96        74\n",
      "   macro avg       0.98      0.83      0.89        74\n",
      "weighted avg       0.96      0.96      0.96        74\n",
      "\n"
     ]
    }
   ],
   "source": [
    "#Predicting with the linear model\n",
    "train_pred = dt_grid.predict(X_train)\n",
    "test_pred = dt_grid.predict(X_test)\n",
    "\n",
    "#Appending metrics in a dataframe\n",
    "#Metric_append('dt_grid_train',y_train,train_pred)\n",
    "#Metric_append('dt_grid_test',y_test,test_pred)\n",
    "\n",
    "Metric.append(pd.Series([\"dt_grid_train\",accuracy_score(y_train,train_pred), precision_score(y_train,train_pred,average = None)[0], \n",
    "                            precision_score(y_train,train_pred,average = None)[1],\n",
    "                           recall_score(y_train,train_pred,average = None)[0],recall_score(y_train,train_pred,average = None)[1], \n",
    "                           f1_score(y_train,train_pred,average = None)[0],\n",
    "                 f1_score(y_train,train_pred,average = None)[1]], index=Metric.columns ), ignore_index=True)\n",
    "\n",
    "\n",
    "\n",
    "Metric.append(pd.Series([\"dt_grid_test\",accuracy_score(y_test,test_pred), precision_score(y_test,test_pred,average = None)[0], \n",
    "                            precision_score(y_test,test_pred,average = None)[1],\n",
    "                           recall_score(y_test,test_pred,average = None)[0],recall_score(y_test,test_pred,average = None)[1], \n",
    "                           f1_score(y_test,test_pred,average = None)[0],\n",
    "                 f1_score(y_test,test_pred,average = None)[1]], index=Metric.columns ), ignore_index=True)\n",
    "\n",
    "# Using the function to calculate accuracy, precision and recall.\n",
    "model_evaluation(y_train, train_pred, y_test, test_pred)"
   ]
  },
  {
   "cell_type": "code",
   "execution_count": 269,
   "metadata": {},
   "outputs": [],
   "source": [
    "#Calling pipeline to perform preprocessing and RandomForestClassifier model\n",
    "clf = Pipeline(steps=[('preprocessor', preprocessor),\n",
    "                      ('classifier', RandomForestClassifier(class_weight='balanced'))])"
   ]
  },
  {
   "cell_type": "code",
   "execution_count": 270,
   "metadata": {},
   "outputs": [],
   "source": [
    "#StratifiedKFold maintains target distribution while splitting\n",
    "kfold = StratifiedKFold(n_splits=5, shuffle=True, random_state=143)\n",
    "\n",
    "#Parameters used in GridSearch Cv\n",
    "param_grid = {\"classifier__n_estimators\" : [150],\n",
    "              \"classifier__max_depth\" : [5],\n",
    "              \"classifier__max_features\" : [7],\n",
    "              \"classifier__min_samples_leaf\" : [4],\n",
    "                \"classifier__min_samples_split\" : [2, 10, 20]}\n",
    "\n",
    "#Perform GridSearch cross validation\n",
    "rf_grid = GridSearchCV(clf, param_grid=param_grid, cv=kfold)"
   ]
  },
  {
   "cell_type": "code",
   "execution_count": 271,
   "metadata": {},
   "outputs": [
    {
     "name": "stdout",
     "output_type": "stream",
     "text": [
      "Wall time: 3.64 s\n"
     ]
    },
    {
     "data": {
      "text/plain": [
       "GridSearchCV(cv=StratifiedKFold(n_splits=5, random_state=143, shuffle=True),\n",
       "             estimator=Pipeline(steps=[('preprocessor',\n",
       "                                        ColumnTransformer(transformers=[('num_trf',\n",
       "                                                                         Pipeline(steps=[('num_imputer',\n",
       "                                                                                          SimpleImputer(strategy='median')),\n",
       "                                                                                         ('num_scaler',\n",
       "                                                                                          StandardScaler())]),\n",
       "                                                                         Index(['TotalWorkingHours', 'Billable_Hours', 'Hours_off_Duty',\n",
       "       'Touring_Hours', 'NoOfProjects',...\n",
       "                                                                                         ('cat_onehotencode',\n",
       "                                                                                          OneHotEncoder(handle_unknown='ignore'))]),\n",
       "                                                                         Index(['Designation', 'Sex'], dtype='object'))])),\n",
       "                                       ('classifier',\n",
       "                                        RandomForestClassifier(class_weight='balanced'))]),\n",
       "             param_grid={'classifier__max_depth': [5],\n",
       "                         'classifier__max_features': [7],\n",
       "                         'classifier__min_samples_leaf': [4],\n",
       "                         'classifier__min_samples_split': [2, 10, 20],\n",
       "                         'classifier__n_estimators': [150]})"
      ]
     },
     "execution_count": 271,
     "metadata": {},
     "output_type": "execute_result"
    }
   ],
   "source": [
    "%%time\n",
    "#Fitting the model to the data\n",
    "rf_grid.fit(X_train,y_train)"
   ]
  },
  {
   "cell_type": "code",
   "execution_count": 272,
   "metadata": {},
   "outputs": [
    {
     "data": {
      "text/plain": [
       "{'classifier__max_depth': 5,\n",
       " 'classifier__max_features': 7,\n",
       " 'classifier__min_samples_leaf': 4,\n",
       " 'classifier__min_samples_split': 10,\n",
       " 'classifier__n_estimators': 150}"
      ]
     },
     "execution_count": 272,
     "metadata": {},
     "output_type": "execute_result"
    }
   ],
   "source": [
    "#Displaying the best parameters based on the metric score\n",
    "rf_grid.best_params_"
   ]
  },
  {
   "cell_type": "markdown",
   "metadata": {},
   "source": [
    "# To get the importance of every feature"
   ]
  },
  {
   "cell_type": "raw",
   "metadata": {},
   "source": [
    "\n",
    "feature_imp = rf_grid.best_estimator_.steps[1][1].feature_importances_\n",
    "print(feature_imp)\n",
    "pl = rf_grid.best_estimator_.named_steps['preprocessor']\n",
    "catpl = pl.named_transformers_['cat_trf']\n",
    "ohe = catpl.named_steps['cat_onehotencode']\n",
    "ohe_features = ohe.get_feature_names()\n",
    "print(ohe_features)\n",
    "num_col = train_data.select_dtypes(exclude =['object','category']).columns.tolist()\n",
    "num_col.extend(ohe_features)\n",
    "feature_imp_df = pd.DataFrame(feature_imp.tolist(),index =num_col,columns=['var_imp'])\n",
    "feature_imp_df = feature_imp_df.sort_values(by=\"var_imp\",ascending=False)\n",
    "feature_imp_df.head(8)"
   ]
  },
  {
   "cell_type": "raw",
   "metadata": {},
   "source": [
    "#Display the features based on importance\n",
    "feature_imp_df[:15].plot(kind='bar')"
   ]
  },
  {
   "cell_type": "code",
   "execution_count": 273,
   "metadata": {},
   "outputs": [
    {
     "name": "stdout",
     "output_type": "stream",
     "text": [
      "\n",
      "            =========================================\n",
      "               CLASSIFICATION REPORT FOR TRAIN DATA\n",
      "            =========================================\n",
      "              precision    recall  f1-score   support\n",
      "\n",
      "         0.0       1.00      1.00      1.00       153\n",
      "         1.0       1.00      1.00      1.00        18\n",
      "\n",
      "    accuracy                           1.00       171\n",
      "   macro avg       1.00      1.00      1.00       171\n",
      "weighted avg       1.00      1.00      1.00       171\n",
      "\n",
      "\n",
      "            =========================================\n",
      "               CLASSIFICATION REPORT FOR TEST DATA\n",
      "            =========================================\n",
      "              precision    recall  f1-score   support\n",
      "\n",
      "         0.0       0.96      1.00      0.98        65\n",
      "         1.0       1.00      0.67      0.80         9\n",
      "\n",
      "    accuracy                           0.96        74\n",
      "   macro avg       0.98      0.83      0.89        74\n",
      "weighted avg       0.96      0.96      0.96        74\n",
      "\n"
     ]
    }
   ],
   "source": [
    "#Predicting with the linear model\n",
    "train_pred = rf_grid.predict(X_train)\n",
    "test_pred = rf_grid.predict(X_test)\n",
    "\n",
    "#Appending metrics in a dataframe\n",
    "Metric.append(pd.Series([\"rf_grid_train\",accuracy_score(y_train,train_pred), precision_score(y_train,train_pred,average = None)[0], \n",
    "                            precision_score(y_train,train_pred,average = None)[1],\n",
    "                           recall_score(y_train,train_pred,average = None)[0],recall_score(y_train,train_pred,average = None)[1], \n",
    "                           f1_score(y_train,train_pred,average = None)[0],\n",
    "                 f1_score(y_train,train_pred,average = None)[1]], index=Metric.columns ), ignore_index=True)\n",
    "\n",
    "#Metric_append('clf_logreg_test',y_test,test_pred)\n",
    "\n",
    "Metric.append(pd.Series([\"rf_grid_test\",accuracy_score(y_test,test_pred), precision_score(y_test,test_pred,average = None)[0], \n",
    "                            precision_score(y_test,test_pred,average = None)[1],\n",
    "                           recall_score(y_test,test_pred,average = None)[0],recall_score(y_test,test_pred,average = None)[1], \n",
    "                           f1_score(y_test,test_pred,average = None)[0],\n",
    "                 f1_score(y_test,test_pred,average = None)[1]], index=Metric.columns ), ignore_index=True)\n",
    "\n",
    "\n",
    "# Using the function to calculate accuracy, precision and recall.\n",
    "model_evaluation(y_train, train_pred, y_test, test_pred)"
   ]
  },
  {
   "cell_type": "raw",
   "metadata": {},
   "source": [
    "#Calling pipeline to perform preprocessing and RandomForestClassifier model\n",
    "clf = Pipeline(steps=[('preprocessor', preprocessor),\n",
    "                      ('classifier', RandomForestClassifier(min_samples_split=10,class_weight='balanced'))])"
   ]
  },
  {
   "cell_type": "code",
   "execution_count": 274,
   "metadata": {},
   "outputs": [],
   "source": [
    "#Use StratifiedKFold to balance the target distribution while spliting\n",
    "kfold = StratifiedKFold(n_splits=5, shuffle=True, random_state=143)\n",
    "\n",
    "param_grid = {'classifier__max_depth': [5],\n",
    " 'classifier__max_features': [7],\n",
    " 'classifier__min_samples_leaf': [4],\n",
    " 'classifier__n_estimators': [150]\n",
    "}\n",
    "\n",
    "rf_grid2 = GridSearchCV(clf, param_grid=param_grid, cv=kfold)"
   ]
  },
  {
   "cell_type": "code",
   "execution_count": 275,
   "metadata": {},
   "outputs": [
    {
     "data": {
      "text/plain": [
       "GridSearchCV(cv=StratifiedKFold(n_splits=5, random_state=143, shuffle=True),\n",
       "             estimator=Pipeline(steps=[('preprocessor',\n",
       "                                        ColumnTransformer(transformers=[('num_trf',\n",
       "                                                                         Pipeline(steps=[('num_imputer',\n",
       "                                                                                          SimpleImputer(strategy='median')),\n",
       "                                                                                         ('num_scaler',\n",
       "                                                                                          StandardScaler())]),\n",
       "                                                                         Index(['TotalWorkingHours', 'Billable_Hours', 'Hours_off_Duty',\n",
       "       'Touring_Hours', 'NoOfProjects',...\n",
       "                                                                                          SimpleImputer(strategy='most_frequent')),\n",
       "                                                                                         ('cat_onehotencode',\n",
       "                                                                                          OneHotEncoder(handle_unknown='ignore'))]),\n",
       "                                                                         Index(['Designation', 'Sex'], dtype='object'))])),\n",
       "                                       ('classifier',\n",
       "                                        RandomForestClassifier(class_weight='balanced'))]),\n",
       "             param_grid={'classifier__max_depth': [5],\n",
       "                         'classifier__max_features': [7],\n",
       "                         'classifier__min_samples_leaf': [4],\n",
       "                         'classifier__n_estimators': [150]})"
      ]
     },
     "execution_count": 275,
     "metadata": {},
     "output_type": "execute_result"
    }
   ],
   "source": [
    "rf_grid2.fit(X_train,y_train)"
   ]
  },
  {
   "cell_type": "code",
   "execution_count": 276,
   "metadata": {},
   "outputs": [
    {
     "name": "stdout",
     "output_type": "stream",
     "text": [
      "\n",
      "            =========================================\n",
      "               CLASSIFICATION REPORT FOR TRAIN DATA\n",
      "            =========================================\n",
      "              precision    recall  f1-score   support\n",
      "\n",
      "         0.0       1.00      1.00      1.00       153\n",
      "         1.0       1.00      1.00      1.00        18\n",
      "\n",
      "    accuracy                           1.00       171\n",
      "   macro avg       1.00      1.00      1.00       171\n",
      "weighted avg       1.00      1.00      1.00       171\n",
      "\n",
      "\n",
      "            =========================================\n",
      "               CLASSIFICATION REPORT FOR TEST DATA\n",
      "            =========================================\n",
      "              precision    recall  f1-score   support\n",
      "\n",
      "         0.0       0.96      1.00      0.98        65\n",
      "         1.0       1.00      0.67      0.80         9\n",
      "\n",
      "    accuracy                           0.96        74\n",
      "   macro avg       0.98      0.83      0.89        74\n",
      "weighted avg       0.96      0.96      0.96        74\n",
      "\n"
     ]
    }
   ],
   "source": [
    "#Predicting and computing metrics\n",
    "train_pred = rf_grid2.predict(X_train)\n",
    "test_pred = rf_grid2.predict(X_test)\n",
    "\n",
    "Metric.append(pd.Series([\"rf_grid2_train\",accuracy_score(y_train,train_pred), precision_score(y_train,train_pred,average = None)[0], \n",
    "                            precision_score(y_train,train_pred,average = None)[1],\n",
    "                           recall_score(y_train,train_pred,average = None)[0],recall_score(y_train,train_pred,average = None)[1], \n",
    "                           f1_score(y_train,train_pred,average = None)[0],\n",
    "                 f1_score(y_train,train_pred,average = None)[1]], index=Metric.columns ), ignore_index=True)\n",
    "\n",
    "#Metric_append('clf_logreg_test',y_test,test_pred)\n",
    "\n",
    "Metric.append(pd.Series([\"rf_grid2_test\",accuracy_score(y_test,test_pred), precision_score(y_test,test_pred,average = None)[0], \n",
    "                            precision_score(y_test,test_pred,average = None)[1],\n",
    "                           recall_score(y_test,test_pred,average = None)[0],recall_score(y_test,test_pred,average = None)[1], \n",
    "                           f1_score(y_test,test_pred,average = None)[0],\n",
    "                 f1_score(y_test,test_pred,average = None)[1]], index=Metric.columns ), ignore_index=True)\n",
    "\n",
    "\n",
    "# Using the function to calculate accuracy, precision and recall.\n",
    "model_evaluation(y_train, train_pred, y_test, test_pred)"
   ]
  },
  {
   "cell_type": "code",
   "execution_count": 277,
   "metadata": {},
   "outputs": [
    {
     "name": "stdout",
     "output_type": "stream",
     "text": [
      "Wall time: 36.9 s\n"
     ]
    },
    {
     "data": {
      "text/plain": [
       "GridSearchCV(cv=3,\n",
       "             estimator=Pipeline(steps=[('preprocessor',\n",
       "                                        ColumnTransformer(transformers=[('num_trf',\n",
       "                                                                         Pipeline(steps=[('num_imputer',\n",
       "                                                                                          SimpleImputer(strategy='median')),\n",
       "                                                                                         ('num_scaler',\n",
       "                                                                                          StandardScaler())]),\n",
       "                                                                         Index(['TotalWorkingHours', 'Billable_Hours', 'Hours_off_Duty',\n",
       "       'Touring_Hours', 'NoOfProjects', 'ActualTimeSpent', 'No_of_companies',\n",
       "       'years_in_company'],...\n",
       "                                                                         Pipeline(steps=[('cat_imputer',\n",
       "                                                                                          SimpleImputer(strategy='most_frequent')),\n",
       "                                                                                         ('cat_onehotencode',\n",
       "                                                                                          OneHotEncoder(handle_unknown='ignore'))]),\n",
       "                                                                         Index(['Designation', 'Sex'], dtype='object'))])),\n",
       "                                       ('classifier',\n",
       "                                        GradientBoostingClassifier())]),\n",
       "             n_jobs=6,\n",
       "             param_grid={'classifier__max_depth': [8],\n",
       "                         'classifier__max_features': [0.3],\n",
       "                         'classifier__n_estimators': [30],\n",
       "                         'classifier__subsample': [0.8]})"
      ]
     },
     "execution_count": 277,
     "metadata": {},
     "output_type": "execute_result"
    }
   ],
   "source": [
    "%%time\n",
    "#Building GBC model\n",
    "clf_gbm = Pipeline(steps=[('preprocessor', preprocessor),\n",
    "                      ('classifier',GradientBoostingClassifier())])\n",
    "\n",
    "gbm_param_grid = {'classifier__max_depth': [8],\n",
    " 'classifier__max_features': [0.3],\n",
    " 'classifier__n_estimators': [30],\n",
    " 'classifier__subsample': [0.8]}\n",
    "\n",
    "gbm_grid = GridSearchCV(clf_gbm, param_grid=gbm_param_grid, cv=3,n_jobs=6)\n",
    "\n",
    "gbm_grid.fit(X_train,y_train)"
   ]
  },
  {
   "cell_type": "code",
   "execution_count": 278,
   "metadata": {},
   "outputs": [
    {
     "data": {
      "text/plain": [
       "{'classifier__max_depth': 8,\n",
       " 'classifier__max_features': 0.3,\n",
       " 'classifier__n_estimators': 30,\n",
       " 'classifier__subsample': 0.8}"
      ]
     },
     "execution_count": 278,
     "metadata": {},
     "output_type": "execute_result"
    }
   ],
   "source": [
    "gbm_grid.best_params_"
   ]
  },
  {
   "cell_type": "code",
   "execution_count": 279,
   "metadata": {},
   "outputs": [
    {
     "name": "stdout",
     "output_type": "stream",
     "text": [
      "\n",
      "            =========================================\n",
      "               CLASSIFICATION REPORT FOR TRAIN DATA\n",
      "            =========================================\n",
      "              precision    recall  f1-score   support\n",
      "\n",
      "         0.0       1.00      1.00      1.00       153\n",
      "         1.0       1.00      1.00      1.00        18\n",
      "\n",
      "    accuracy                           1.00       171\n",
      "   macro avg       1.00      1.00      1.00       171\n",
      "weighted avg       1.00      1.00      1.00       171\n",
      "\n",
      "\n",
      "            =========================================\n",
      "               CLASSIFICATION REPORT FOR TEST DATA\n",
      "            =========================================\n",
      "              precision    recall  f1-score   support\n",
      "\n",
      "         0.0       0.96      1.00      0.98        65\n",
      "         1.0       1.00      0.67      0.80         9\n",
      "\n",
      "    accuracy                           0.96        74\n",
      "   macro avg       0.98      0.83      0.89        74\n",
      "weighted avg       0.96      0.96      0.96        74\n",
      "\n"
     ]
    }
   ],
   "source": [
    "#Predicting and computing metrics\n",
    "train_pred1 = gbm_grid.predict(X_train)\n",
    "test_pred1 = gbm_grid.predict(X_test)\n",
    "\n",
    "\n",
    "\n",
    "Metric.append(pd.Series([\"gbm_grid_train\",accuracy_score(y_train,train_pred), precision_score(y_train,train_pred,average = None)[0], \n",
    "                            precision_score(y_train,train_pred,average = None)[1],\n",
    "                           recall_score(y_train,train_pred,average = None)[0],recall_score(y_train,train_pred,average = None)[1], \n",
    "                           f1_score(y_train,train_pred,average = None)[0],\n",
    "                 f1_score(y_train,train_pred,average = None)[1]], index=Metric.columns ), ignore_index=True)\n",
    "\n",
    "#Metric_append('clf_logreg_test',y_test,test_pred)\n",
    "\n",
    "Metric.append(pd.Series([\"gbm_grid_test\",accuracy_score(y_test,test_pred), precision_score(y_test,test_pred,average = None)[0], \n",
    "                            precision_score(y_test,test_pred,average = None)[1],\n",
    "                           recall_score(y_test,test_pred,average = None)[0],recall_score(y_test,test_pred,average = None)[1], \n",
    "                           f1_score(y_test,test_pred,average = None)[0],\n",
    "                 f1_score(y_test,test_pred,average = None)[1]], index=Metric.columns ), ignore_index=True)\n",
    "\n",
    "model_evaluation(y_train, train_pred, y_test, test_pred)"
   ]
  },
  {
   "cell_type": "code",
   "execution_count": 280,
   "metadata": {},
   "outputs": [
    {
     "name": "stdout",
     "output_type": "stream",
     "text": [
      "Wall time: 8.19 s\n"
     ]
    },
    {
     "data": {
      "text/plain": [
       "GridSearchCV(cv=5,\n",
       "             estimator=Pipeline(steps=[('preprocessor',\n",
       "                                        ColumnTransformer(transformers=[('num_trf',\n",
       "                                                                         Pipeline(steps=[('num_imputer',\n",
       "                                                                                          SimpleImputer(strategy='median')),\n",
       "                                                                                         ('num_scaler',\n",
       "                                                                                          StandardScaler())]),\n",
       "                                                                         Index(['TotalWorkingHours', 'Billable_Hours', 'Hours_off_Duty',\n",
       "       'Touring_Hours', 'NoOfProjects', 'ActualTimeSpent', 'No_of_companies',\n",
       "       'years_in_company'],\n",
       "      dtype='object')),\n",
       "                                                                        ('cat_trf',\n",
       "                                                                         Pipeline(steps=[('cat_imputer',\n",
       "                                                                                          SimpleImputer(strategy='most_frequent')),\n",
       "                                                                                         ('cat_onehotencode',\n",
       "                                                                                          OneHotEncoder(handle_unknown='ignore'))]),\n",
       "                                                                         Index(['Designation', 'Sex'], dtype='object'))])),\n",
       "                                       ('classifier', SVC())]),\n",
       "             n_jobs=6,\n",
       "             param_grid={'classifier__C': [50, 90],\n",
       "                         'classifier__gamma': [0.008, 0.001],\n",
       "                         'classifier__kernel': ['rbf']})"
      ]
     },
     "execution_count": 280,
     "metadata": {},
     "output_type": "execute_result"
    }
   ],
   "source": [
    "%%time\n",
    "\n",
    "#Building SVC model\n",
    "clf_svm = Pipeline(steps=[('preprocessor', preprocessor),\n",
    "                      ('classifier', SVC())])\n",
    "\n",
    "svm_param_grid = {'classifier__C': [50,90], 'classifier__gamma': [0.008, 0.001],\n",
    "                 \"classifier__kernel\": ['rbf']}\n",
    "\n",
    "svm_grid = GridSearchCV(clf_svm, param_grid= svm_param_grid, cv= 5,n_jobs=6)\n",
    "\n",
    "svm_grid.fit(X_train,y_train)"
   ]
  },
  {
   "cell_type": "code",
   "execution_count": 281,
   "metadata": {},
   "outputs": [
    {
     "data": {
      "text/plain": [
       "{'classifier__C': 90, 'classifier__gamma': 0.008, 'classifier__kernel': 'rbf'}"
      ]
     },
     "execution_count": 281,
     "metadata": {},
     "output_type": "execute_result"
    }
   ],
   "source": [
    "svm_grid.best_params_"
   ]
  },
  {
   "cell_type": "code",
   "execution_count": 282,
   "metadata": {},
   "outputs": [
    {
     "name": "stdout",
     "output_type": "stream",
     "text": [
      "\n",
      "            =========================================\n",
      "               CLASSIFICATION REPORT FOR TRAIN DATA\n",
      "            =========================================\n",
      "              precision    recall  f1-score   support\n",
      "\n",
      "         0.0       0.98      1.00      0.99       153\n",
      "         1.0       1.00      0.83      0.91        18\n",
      "\n",
      "    accuracy                           0.98       171\n",
      "   macro avg       0.99      0.92      0.95       171\n",
      "weighted avg       0.98      0.98      0.98       171\n",
      "\n",
      "\n",
      "            =========================================\n",
      "               CLASSIFICATION REPORT FOR TEST DATA\n",
      "            =========================================\n",
      "              precision    recall  f1-score   support\n",
      "\n",
      "         0.0       0.96      1.00      0.98        65\n",
      "         1.0       1.00      0.67      0.80         9\n",
      "\n",
      "    accuracy                           0.96        74\n",
      "   macro avg       0.98      0.83      0.89        74\n",
      "weighted avg       0.96      0.96      0.96        74\n",
      "\n"
     ]
    }
   ],
   "source": [
    "train_pred = svm_grid.predict(X_train)\n",
    "test_pred = svm_grid.predict(X_test)\n",
    "\n",
    "\n",
    "\n",
    "Metric.append(pd.Series([\"svm_grid_train\",accuracy_score(y_train,train_pred), precision_score(y_train,train_pred,average = None)[0], \n",
    "                            precision_score(y_train,train_pred,average = None)[1],\n",
    "                           recall_score(y_train,train_pred,average = None)[0],recall_score(y_train,train_pred,average = None)[1], \n",
    "                           f1_score(y_train,train_pred,average = None)[0],\n",
    "                 f1_score(y_train,train_pred,average = None)[1]], index=Metric.columns ), ignore_index=True)\n",
    "\n",
    "#Metric_append('clf_logreg_test',y_test,test_pred)\n",
    "\n",
    "Metric.append(pd.Series([\"svm_grid_test\",accuracy_score(y_test,test_pred), precision_score(y_test,test_pred,average = None)[0], \n",
    "                            precision_score(y_test,test_pred,average = None)[1],\n",
    "                           recall_score(y_test,test_pred,average = None)[0],recall_score(y_test,test_pred,average = None)[1], \n",
    "                           f1_score(y_test,test_pred,average = None)[0],\n",
    "                 f1_score(y_test,test_pred,average = None)[1]], index=Metric.columns ), ignore_index=True)\n",
    "\n",
    "model_evaluation(y_train, train_pred, y_test, test_pred)"
   ]
  },
  {
   "cell_type": "code",
   "execution_count": 283,
   "metadata": {},
   "outputs": [],
   "source": [
    "from xgboost.sklearn import XGBClassifier"
   ]
  },
  {
   "cell_type": "code",
   "execution_count": 284,
   "metadata": {},
   "outputs": [
    {
     "name": "stdout",
     "output_type": "stream",
     "text": [
      "[19:13:45] WARNING: C:/Users/Administrator/workspace/xgboost-win64_release_1.3.0/src/learner.cc:1061: Starting in XGBoost 1.3.0, the default evaluation metric used with the objective 'binary:logistic' was changed from 'error' to 'logloss'. Explicitly set eval_metric if you'd like to restore the old behavior.\n",
      "Wall time: 34.6 s\n"
     ]
    },
    {
     "data": {
      "text/plain": [
       "GridSearchCV(cv=5,\n",
       "             estimator=Pipeline(steps=[('preprocessor',\n",
       "                                        ColumnTransformer(transformers=[('num_trf',\n",
       "                                                                         Pipeline(steps=[('num_imputer',\n",
       "                                                                                          SimpleImputer(strategy='median')),\n",
       "                                                                                         ('num_scaler',\n",
       "                                                                                          StandardScaler())]),\n",
       "                                                                         Index(['TotalWorkingHours', 'Billable_Hours', 'Hours_off_Duty',\n",
       "       'Touring_Hours', 'NoOfProjects', 'ActualTimeSpent', 'No_of_companies',\n",
       "       'years_in_company'],...\n",
       "                                                      n_estimators=100,\n",
       "                                                      n_jobs=-1,\n",
       "                                                      num_parallel_tree=None,\n",
       "                                                      random_state=None,\n",
       "                                                      reg_alpha=None,\n",
       "                                                      reg_lambda=None,\n",
       "                                                      scale_pos_weight=None,\n",
       "                                                      subsample=None,\n",
       "                                                      tree_method=None,\n",
       "                                                      validate_parameters=None,\n",
       "                                                      verbosity=None))]),\n",
       "             n_jobs=6,\n",
       "             param_grid={'classifier__colsample_bytree': array([0.5, 0.6, 0.7, 0.8, 0.9]),\n",
       "                         'classifier__max_depth': [10, 15, 20, 25],\n",
       "                         'classifier__n_estimators': [100, 200]})"
      ]
     },
     "execution_count": 284,
     "metadata": {},
     "output_type": "execute_result"
    }
   ],
   "source": [
    "%%time\n",
    "\n",
    "#Building XGBClassifier model\n",
    "clf_xgb = Pipeline(steps=[('preprocessor', preprocessor),\n",
    "                      ('classifier', XGBClassifier(n_jobs=-1))])\n",
    "\n",
    "param_grid = {\n",
    "     'classifier__colsample_bytree': np.linspace(0.5, 0.9, 5),\n",
    "     'classifier__n_estimators':[100, 200],\n",
    "     'classifier__max_depth': [10, 15, 20, 25]\n",
    "}\n",
    "\n",
    "xgb_grid = GridSearchCV(clf_xgb, param_grid= param_grid, cv= 5,n_jobs=6)\n",
    "\n",
    "xgb_grid.fit(X_train,y_train)"
   ]
  },
  {
   "cell_type": "code",
   "execution_count": 285,
   "metadata": {},
   "outputs": [
    {
     "data": {
      "text/plain": [
       "{'classifier__colsample_bytree': 0.5,\n",
       " 'classifier__max_depth': 10,\n",
       " 'classifier__n_estimators': 100}"
      ]
     },
     "execution_count": 285,
     "metadata": {},
     "output_type": "execute_result"
    }
   ],
   "source": [
    "xgb_grid.best_params_"
   ]
  },
  {
   "cell_type": "code",
   "execution_count": 286,
   "metadata": {},
   "outputs": [
    {
     "name": "stdout",
     "output_type": "stream",
     "text": [
      "\n",
      "            =========================================\n",
      "               CLASSIFICATION REPORT FOR TRAIN DATA\n",
      "            =========================================\n",
      "              precision    recall  f1-score   support\n",
      "\n",
      "         0.0       1.00      1.00      1.00       153\n",
      "         1.0       1.00      1.00      1.00        18\n",
      "\n",
      "    accuracy                           1.00       171\n",
      "   macro avg       1.00      1.00      1.00       171\n",
      "weighted avg       1.00      1.00      1.00       171\n",
      "\n",
      "\n",
      "            =========================================\n",
      "               CLASSIFICATION REPORT FOR TEST DATA\n",
      "            =========================================\n",
      "              precision    recall  f1-score   support\n",
      "\n",
      "         0.0       0.96      1.00      0.98        65\n",
      "         1.0       1.00      0.67      0.80         9\n",
      "\n",
      "    accuracy                           0.96        74\n",
      "   macro avg       0.98      0.83      0.89        74\n",
      "weighted avg       0.96      0.96      0.96        74\n",
      "\n"
     ]
    }
   ],
   "source": [
    "train_pred = xgb_grid.predict(X_train)\n",
    "test_pred = xgb_grid.predict(X_test)\n",
    "\n",
    "\n",
    "Metric.append(pd.Series([\"xgb_grid_train\",accuracy_score(y_train,train_pred), precision_score(y_train,train_pred,average = None)[0], \n",
    "                            precision_score(y_train,train_pred,average = None)[1],\n",
    "                           recall_score(y_train,train_pred,average = None)[0],recall_score(y_train,train_pred,average = None)[1], \n",
    "                           f1_score(y_train,train_pred,average = None)[0],\n",
    "                 f1_score(y_train,train_pred,average = None)[1]], index=Metric.columns ), ignore_index=True)\n",
    "\n",
    "#Metric_append('clf_logreg_test',y_test,test_pred)\n",
    "\n",
    "Metric.append(pd.Series([\"xgb_grid_test\",accuracy_score(y_test,test_pred), precision_score(y_test,test_pred,average = None)[0], \n",
    "                            precision_score(y_test,test_pred,average = None)[1],\n",
    "                           recall_score(y_test,test_pred,average = None)[0],recall_score(y_test,test_pred,average = None)[1], \n",
    "                           f1_score(y_test,test_pred,average = None)[0],\n",
    "                 f1_score(y_test,test_pred,average = None)[1]], index=Metric.columns ), ignore_index=True)\n",
    "\n",
    "\n",
    "model_evaluation(y_train, train_pred, y_test, test_pred)"
   ]
  },
  {
   "cell_type": "code",
   "execution_count": 287,
   "metadata": {},
   "outputs": [
    {
     "name": "stdout",
     "output_type": "stream",
     "text": [
      "[19:22:55] WARNING: C:/Users/Administrator/workspace/xgboost-win64_release_1.3.0/src/learner.cc:1061: Starting in XGBoost 1.3.0, the default evaluation metric used with the objective 'binary:logistic' was changed from 'error' to 'logloss'. Explicitly set eval_metric if you'd like to restore the old behavior.\n"
     ]
    },
    {
     "data": {
      "text/plain": [
       "GridSearchCV(cv=5,\n",
       "             estimator=Pipeline(steps=[('preprocessor',\n",
       "                                        ColumnTransformer(transformers=[('num_trf',\n",
       "                                                                         Pipeline(steps=[('num_imputer',\n",
       "                                                                                          SimpleImputer(strategy='median')),\n",
       "                                                                                         ('num_scaler',\n",
       "                                                                                          StandardScaler())]),\n",
       "                                                                         Index(['TotalWorkingHours', 'Billable_Hours', 'Hours_off_Duty',\n",
       "       'Touring_Hours', 'NoOfProjects', 'ActualTimeSpent', 'No_of_companies',\n",
       "       'years_in_company'],...\n",
       "                                                      monotone_constraints=None,\n",
       "                                                      n_estimators=100,\n",
       "                                                      n_jobs=-1,\n",
       "                                                      num_parallel_tree=None,\n",
       "                                                      random_state=None,\n",
       "                                                      reg_alpha=None,\n",
       "                                                      reg_lambda=None,\n",
       "                                                      scale_pos_weight=None,\n",
       "                                                      subsample=None,\n",
       "                                                      tree_method=None,\n",
       "                                                      validate_parameters=None,\n",
       "                                                      verbosity=None))]),\n",
       "             n_jobs=6,\n",
       "             param_grid={'classifier__learning_rate': [0.15, 0.001],\n",
       "                         'classifier__max_depth': [10, 9, 11],\n",
       "                         'classifier__n_estimators': [100]})"
      ]
     },
     "execution_count": 287,
     "metadata": {},
     "output_type": "execute_result"
    }
   ],
   "source": [
    "clf_xgb = Pipeline(steps=[('preprocessor', preprocessor),\n",
    "                      ('classifier', XGBClassifier(n_jobs=-1))])\n",
    "\n",
    "param_grid = {\n",
    "     'classifier__n_estimators':[100],\n",
    "     'classifier__max_depth': [10,9,11],\n",
    "    'classifier__learning_rate' : [0.15,0.001]\n",
    "}\n",
    "\n",
    "xgb_grid2 = GridSearchCV(clf_xgb, param_grid= param_grid, cv= 5,n_jobs=6)\n",
    "\n",
    "xgb_grid2.fit(X_train,y_train)"
   ]
  },
  {
   "cell_type": "code",
   "execution_count": 288,
   "metadata": {},
   "outputs": [
    {
     "data": {
      "text/plain": [
       "{'classifier__learning_rate': 0.001,\n",
       " 'classifier__max_depth': 10,\n",
       " 'classifier__n_estimators': 100}"
      ]
     },
     "execution_count": 288,
     "metadata": {},
     "output_type": "execute_result"
    }
   ],
   "source": [
    "xgb_grid2.best_params_"
   ]
  },
  {
   "cell_type": "code",
   "execution_count": 289,
   "metadata": {},
   "outputs": [
    {
     "name": "stdout",
     "output_type": "stream",
     "text": [
      "\n",
      "            =========================================\n",
      "               CLASSIFICATION REPORT FOR TRAIN DATA\n",
      "            =========================================\n",
      "              precision    recall  f1-score   support\n",
      "\n",
      "         0.0       0.97      1.00      0.99       153\n",
      "         1.0       1.00      0.78      0.88        18\n",
      "\n",
      "    accuracy                           0.98       171\n",
      "   macro avg       0.99      0.89      0.93       171\n",
      "weighted avg       0.98      0.98      0.98       171\n",
      "\n",
      "\n",
      "            =========================================\n",
      "               CLASSIFICATION REPORT FOR TEST DATA\n",
      "            =========================================\n",
      "              precision    recall  f1-score   support\n",
      "\n",
      "         0.0       0.96      1.00      0.98        65\n",
      "         1.0       1.00      0.67      0.80         9\n",
      "\n",
      "    accuracy                           0.96        74\n",
      "   macro avg       0.98      0.83      0.89        74\n",
      "weighted avg       0.96      0.96      0.96        74\n",
      "\n"
     ]
    }
   ],
   "source": [
    "train_pred = xgb_grid2.predict(X_train)\n",
    "test_pred = xgb_grid2.predict(X_test)\n",
    "\n",
    "Metric.append(pd.Series([\"xgb_grid2_train\",accuracy_score(y_train,train_pred), precision_score(y_train,train_pred,average = None)[0], \n",
    "                            precision_score(y_train,train_pred,average = None)[1],\n",
    "                           recall_score(y_train,train_pred,average = None)[0],recall_score(y_train,train_pred,average = None)[1], \n",
    "                           f1_score(y_train,train_pred,average = None)[0],\n",
    "                 f1_score(y_train,train_pred,average = None)[1]], index=Metric.columns ), ignore_index=True)\n",
    "\n",
    "#Metric_append('clf_logreg_test',y_test,test_pred)\n",
    "\n",
    "Metric.append(pd.Series([\"xgb_grid2_test\",accuracy_score(y_test,test_pred), precision_score(y_test,test_pred,average = None)[0], \n",
    "                            precision_score(y_test,test_pred,average = None)[1],\n",
    "                           recall_score(y_test,test_pred,average = None)[0],recall_score(y_test,test_pred,average = None)[1], \n",
    "                           f1_score(y_test,test_pred,average = None)[0],\n",
    "                 f1_score(y_test,test_pred,average = None)[1]], index=Metric.columns ), ignore_index=True)\n",
    "\n",
    "model_evaluation(y_train, train_pred, y_test, test_pred)"
   ]
  },
  {
   "cell_type": "code",
   "execution_count": null,
   "metadata": {},
   "outputs": [],
   "source": [
    "y_pred_XGB=xgb_grid2.predict(test_data)\n",
    "test_attr['Left_Company']=y_pred_XGB\n",
    "test_attr.to_csv('MITH_10.csv')"
   ]
  },
  {
   "cell_type": "code",
   "execution_count": 290,
   "metadata": {},
   "outputs": [],
   "source": [
    "from sklearn.naive_bayes import GaussianNB\n",
    "NB=GaussianNB()\n",
    "clf_NB = Pipeline(steps=[('preprocessor', preprocessor),\n",
    "                      ('classifier', GaussianNB())])"
   ]
  },
  {
   "cell_type": "code",
   "execution_count": 293,
   "metadata": {},
   "outputs": [
    {
     "name": "stdout",
     "output_type": "stream",
     "text": [
      "\n",
      "            =========================================\n",
      "               CLASSIFICATION REPORT FOR TRAIN DATA\n",
      "            =========================================\n",
      "              precision    recall  f1-score   support\n",
      "\n",
      "         0.0       0.95      0.97      0.96       153\n",
      "         1.0       0.67      0.56      0.61        18\n",
      "\n",
      "    accuracy                           0.92       171\n",
      "   macro avg       0.81      0.76      0.78       171\n",
      "weighted avg       0.92      0.92      0.92       171\n",
      "\n",
      "\n",
      "            =========================================\n",
      "               CLASSIFICATION REPORT FOR TEST DATA\n",
      "            =========================================\n",
      "              precision    recall  f1-score   support\n",
      "\n",
      "         0.0       0.93      0.98      0.96        65\n",
      "         1.0       0.80      0.44      0.57         9\n",
      "\n",
      "    accuracy                           0.92        74\n",
      "   macro avg       0.86      0.71      0.76        74\n",
      "weighted avg       0.91      0.92      0.91        74\n",
      "\n"
     ]
    }
   ],
   "source": [
    "clf_NB.fit(X_train,y_train)\n",
    "\n",
    "train_pred = clf_NB.predict(X_train)\n",
    "test_pred = clf_NB.predict(X_test)\n",
    "\n",
    "#Metric_append('clf_NB_train',y_train,train_pred)\n",
    "#Metric_append('clf_NB_test',y_train,train_pred)\n",
    "\n",
    "\n",
    "Metric.append(pd.Series([\"clf_NB_train\",accuracy_score(y_train,train_pred), precision_score(y_train,train_pred,average = None)[0], \n",
    "                            precision_score(y_train,train_pred,average = None)[1],\n",
    "                           recall_score(y_train,train_pred,average = None)[0],recall_score(y_train,train_pred,average = None)[1], \n",
    "                           f1_score(y_train,train_pred,average = None)[0],\n",
    "                 f1_score(y_train,train_pred,average = None)[1]], index=Metric.columns ), ignore_index=True)\n",
    "\n",
    "#Metric_append('clf_logreg_test',y_test,test_pred)\n",
    "\n",
    "Metric.append(pd.Series([\"clf_NB_test\",accuracy_score(y_test,test_pred), precision_score(y_test,test_pred,average = None)[0], \n",
    "                            precision_score(y_test,test_pred,average = None)[1],\n",
    "                           recall_score(y_test,test_pred,average = None)[0],recall_score(y_test,test_pred,average = None)[1], \n",
    "                           f1_score(y_test,test_pred,average = None)[0],\n",
    "                 f1_score(y_test,test_pred,average = None)[1]], index=Metric.columns ), ignore_index=True)\n",
    "\n",
    "model_evaluation(y_train, train_pred, y_test, test_pred)"
   ]
  },
  {
   "cell_type": "code",
   "execution_count": 294,
   "metadata": {},
   "outputs": [
    {
     "data": {
      "text/plain": [
       "Pipeline(steps=[('preprocessor',\n",
       "                 ColumnTransformer(transformers=[('num_trf',\n",
       "                                                  Pipeline(steps=[('num_imputer',\n",
       "                                                                   SimpleImputer(strategy='median')),\n",
       "                                                                  ('num_scaler',\n",
       "                                                                   StandardScaler())]),\n",
       "                                                  Index(['TotalWorkingHours', 'Billable_Hours', 'Hours_off_Duty',\n",
       "       'Touring_Hours', 'NoOfProjects', 'ActualTimeSpent', 'No_of_companies',\n",
       "       'years_in_company'],\n",
       "      dtype='object')),\n",
       "                                                 ('cat_trf',\n",
       "                                                  Pipeline(steps=[('cat_imputer',\n",
       "                                                                   SimpleImputer(strategy='most_frequent')),\n",
       "                                                                  ('cat_onehotencode',\n",
       "                                                                   OneHotEncoder(handle_unknown='ignore'))]),\n",
       "                                                  Index(['Designation', 'Sex'], dtype='object'))])),\n",
       "                ('classifier',\n",
       "                 KNeighborsClassifier(metric='euclidean', n_neighbors=3))])"
      ]
     },
     "execution_count": 294,
     "metadata": {},
     "output_type": "execute_result"
    }
   ],
   "source": [
    "from sklearn.neighbors import KNeighborsClassifier\n",
    "\n",
    "clf_knn= Pipeline(steps=[('preprocessor', preprocessor),\n",
    "                      ('classifier', KNeighborsClassifier(n_neighbors = 3,\n",
    "                                 metric = \"euclidean\"))])\n",
    "\n",
    "clf_knn.fit(X_train,y_train)"
   ]
  },
  {
   "cell_type": "code",
   "execution_count": 295,
   "metadata": {},
   "outputs": [
    {
     "name": "stdout",
     "output_type": "stream",
     "text": [
      "\n",
      "            =========================================\n",
      "               CLASSIFICATION REPORT FOR TRAIN DATA\n",
      "            =========================================\n",
      "              precision    recall  f1-score   support\n",
      "\n",
      "         0.0       0.96      1.00      0.98       153\n",
      "         1.0       1.00      0.67      0.80        18\n",
      "\n",
      "    accuracy                           0.96       171\n",
      "   macro avg       0.98      0.83      0.89       171\n",
      "weighted avg       0.97      0.96      0.96       171\n",
      "\n",
      "\n",
      "            =========================================\n",
      "               CLASSIFICATION REPORT FOR TEST DATA\n",
      "            =========================================\n",
      "              precision    recall  f1-score   support\n",
      "\n",
      "         0.0       0.90      0.97      0.93        65\n",
      "         1.0       0.50      0.22      0.31         9\n",
      "\n",
      "    accuracy                           0.88        74\n",
      "   macro avg       0.70      0.60      0.62        74\n",
      "weighted avg       0.85      0.88      0.86        74\n",
      "\n"
     ]
    }
   ],
   "source": [
    "train_pred = clf_knn.predict(X_train)\n",
    "test_pred = clf_knn.predict(X_test)\n",
    "\n",
    "\n",
    "Metric.append(pd.Series([\"clf_knn_train\",accuracy_score(y_train,train_pred), precision_score(y_train,train_pred,average = None)[0], \n",
    "                            precision_score(y_train,train_pred,average = None)[1],\n",
    "                           recall_score(y_train,train_pred,average = None)[0],recall_score(y_train,train_pred,average = None)[1], \n",
    "                           f1_score(y_train,train_pred,average = None)[0],\n",
    "                 f1_score(y_train,train_pred,average = None)[1]], index=Metric.columns ), ignore_index=True)\n",
    "\n",
    "#Metric_append('clf_logreg_test',y_test,test_pred)\n",
    "\n",
    "Metric.append(pd.Series([\"clf_knn_test\",accuracy_score(y_test,test_pred), precision_score(y_test,test_pred,average = None)[0], \n",
    "                            precision_score(y_test,test_pred,average = None)[1],\n",
    "                           recall_score(y_test,test_pred,average = None)[0],recall_score(y_test,test_pred,average = None)[1], \n",
    "                           f1_score(y_test,test_pred,average = None)[0],\n",
    "                 f1_score(y_test,test_pred,average = None)[1]], index=Metric.columns ), ignore_index=True)\n",
    "\n",
    "model_evaluation(y_train, train_pred, y_test, test_pred)"
   ]
  },
  {
   "cell_type": "code",
   "execution_count": 296,
   "metadata": {},
   "outputs": [
    {
     "data": {
      "text/plain": [
       "{'classifier__learning_rate': 0.001,\n",
       " 'classifier__max_depth': 10,\n",
       " 'classifier__n_estimators': 100}"
      ]
     },
     "execution_count": 296,
     "metadata": {},
     "output_type": "execute_result"
    }
   ],
   "source": [
    "xgb_grid2.best_params_"
   ]
  },
  {
   "cell_type": "code",
   "execution_count": null,
   "metadata": {},
   "outputs": [],
   "source": [
    "train_pred = xgb_grid2.predict(os_data_X)\n",
    "test_pred = xgb_grid2.predict(os_test_x)\n",
    "\n",
    "Metric_append('xgb_grid2_train',os_data_y,train_pred)\n",
    "Metric_append('xgb_grid2_test',os_test_y,test_pred)\n",
    "\n",
    "\n",
    "model_evaluation(os_data_y, train_pred, os_test_y, test_pred)"
   ]
  },
  {
   "cell_type": "code",
   "execution_count": null,
   "metadata": {},
   "outputs": [],
   "source": []
  },
  {
   "cell_type": "code",
   "execution_count": null,
   "metadata": {},
   "outputs": [],
   "source": [
    "\n"
   ]
  },
  {
   "cell_type": "code",
   "execution_count": null,
   "metadata": {},
   "outputs": [],
   "source": []
  },
  {
   "cell_type": "code",
   "execution_count": 298,
   "metadata": {},
   "outputs": [
    {
     "name": "stdout",
     "output_type": "stream",
     "text": [
      "['x0_EVP' 'x0_Junior' 'x0_MD' 'x0_Senior' 'x0_VP' 'x1_0' 'x1_1']\n"
     ]
    }
   ],
   "source": [
    "pl = xgb_grid2.best_estimator_.named_steps['preprocessor']\n",
    "catpl = pl.named_transformers_['cat_trf']\n",
    "ohe = catpl.named_steps['cat_onehotencode']\n",
    "ohe_features = ohe.get_feature_names()\n",
    "print(ohe_features)"
   ]
  },
  {
   "cell_type": "code",
   "execution_count": 300,
   "metadata": {},
   "outputs": [
    {
     "data": {
      "text/plain": [
       "['TotalWorkingHours',\n",
       " 'Billable_Hours',\n",
       " 'Hours_off_Duty',\n",
       " 'Touring_Hours',\n",
       " 'NoOfProjects',\n",
       " 'ActualTimeSpent',\n",
       " 'No_of_companies',\n",
       " 'years_in_company']"
      ]
     },
     "execution_count": 300,
     "metadata": {},
     "output_type": "execute_result"
    }
   ],
   "source": [
    "num_col = train_data.select_dtypes(exclude =['object','category']).columns.tolist()\n",
    "num_col"
   ]
  },
  {
   "cell_type": "code",
   "execution_count": 301,
   "metadata": {},
   "outputs": [],
   "source": [
    "num_col.extend(ohe_features)"
   ]
  },
  {
   "cell_type": "code",
   "execution_count": 302,
   "metadata": {},
   "outputs": [
    {
     "data": {
      "text/html": [
       "<div>\n",
       "<style scoped>\n",
       "    .dataframe tbody tr th:only-of-type {\n",
       "        vertical-align: middle;\n",
       "    }\n",
       "\n",
       "    .dataframe tbody tr th {\n",
       "        vertical-align: top;\n",
       "    }\n",
       "\n",
       "    .dataframe thead th {\n",
       "        text-align: right;\n",
       "    }\n",
       "</style>\n",
       "<table border=\"1\" class=\"dataframe\">\n",
       "  <thead>\n",
       "    <tr style=\"text-align: right;\">\n",
       "      <th></th>\n",
       "      <th>var_imp</th>\n",
       "    </tr>\n",
       "  </thead>\n",
       "  <tbody>\n",
       "    <tr>\n",
       "      <td>No_of_companies</td>\n",
       "      <td>0.994</td>\n",
       "    </tr>\n",
       "    <tr>\n",
       "      <td>Hours_off_Duty</td>\n",
       "      <td>0.006</td>\n",
       "    </tr>\n",
       "    <tr>\n",
       "      <td>TotalWorkingHours</td>\n",
       "      <td>0.000</td>\n",
       "    </tr>\n",
       "    <tr>\n",
       "      <td>Billable_Hours</td>\n",
       "      <td>0.000</td>\n",
       "    </tr>\n",
       "    <tr>\n",
       "      <td>Touring_Hours</td>\n",
       "      <td>0.000</td>\n",
       "    </tr>\n",
       "    <tr>\n",
       "      <td>NoOfProjects</td>\n",
       "      <td>0.000</td>\n",
       "    </tr>\n",
       "    <tr>\n",
       "      <td>ActualTimeSpent</td>\n",
       "      <td>0.000</td>\n",
       "    </tr>\n",
       "    <tr>\n",
       "      <td>years_in_company</td>\n",
       "      <td>0.000</td>\n",
       "    </tr>\n",
       "  </tbody>\n",
       "</table>\n",
       "</div>"
      ],
      "text/plain": [
       "                   var_imp\n",
       "No_of_companies      0.994\n",
       "Hours_off_Duty       0.006\n",
       "TotalWorkingHours    0.000\n",
       "Billable_Hours       0.000\n",
       "Touring_Hours        0.000\n",
       "NoOfProjects         0.000\n",
       "ActualTimeSpent      0.000\n",
       "years_in_company     0.000"
      ]
     },
     "execution_count": 302,
     "metadata": {},
     "output_type": "execute_result"
    }
   ],
   "source": [
    "\n",
    "feature_imp_df = pd.DataFrame(feature_imp.tolist(),index =num_col,columns=['var_imp'])\n",
    "feature_imp_df = feature_imp_df.sort_values(by=\"var_imp\",ascending=False)\n",
    "feature_imp_df.head(8)"
   ]
  },
  {
   "cell_type": "code",
   "execution_count": null,
   "metadata": {},
   "outputs": [],
   "source": [
    "Metric"
   ]
  },
  {
   "cell_type": "code",
   "execution_count": null,
   "metadata": {},
   "outputs": [],
   "source": [
    "os_data_y"
   ]
  },
  {
   "cell_type": "code",
   "execution_count": null,
   "metadata": {},
   "outputs": [],
   "source": [
    "(X_train.shape,y_train.shape),(X_test.shape,y_test.shape),(X.shape,Y.shape)"
   ]
  },
  {
   "cell_type": "code",
   "execution_count": null,
   "metadata": {},
   "outputs": [],
   "source": [
    "from sklearn.metrics import roc_curve, auc, roc_auc_score"
   ]
  },
  {
   "cell_type": "code",
   "execution_count": null,
   "metadata": {},
   "outputs": [],
   "source": [
    "import shap"
   ]
  },
  {
   "cell_type": "code",
   "execution_count": 312,
   "metadata": {},
   "outputs": [
    {
     "name": "stdout",
     "output_type": "stream",
     "text": [
      "[3]\ttraining's auc: 0.850128\ttraining's binary_logloss: 0.330733\tvalid_1's auc: 0.818182\tvalid_1's binary_logloss: 0.353961\n",
      "[6]\ttraining's auc: 0.932611\ttraining's binary_logloss: 0.319137\tvalid_1's auc: 0.969697\tvalid_1's binary_logloss: 0.340222\n",
      "[9]\ttraining's auc: 0.999575\ttraining's binary_logloss: 0.273319\tvalid_1's auc: 1\tvalid_1's binary_logloss: 0.293499\n",
      "[12]\ttraining's auc: 0.998512\ttraining's binary_logloss: 0.26456\tvalid_1's auc: 1\tvalid_1's binary_logloss: 0.284322\n",
      "[15]\ttraining's auc: 0.999362\ttraining's binary_logloss: 0.24216\tvalid_1's auc: 1\tvalid_1's binary_logloss: 0.260787\n",
      "[18]\ttraining's auc: 0.999575\ttraining's binary_logloss: 0.228631\tvalid_1's auc: 1\tvalid_1's binary_logloss: 0.246448\n",
      "[21]\ttraining's auc: 0.999575\ttraining's binary_logloss: 0.217083\tvalid_1's auc: 1\tvalid_1's binary_logloss: 0.234771\n",
      "[24]\ttraining's auc: 0.999575\ttraining's binary_logloss: 0.198539\tvalid_1's auc: 1\tvalid_1's binary_logloss: 0.215097\n",
      "[27]\ttraining's auc: 0.999362\ttraining's binary_logloss: 0.186351\tvalid_1's auc: 1\tvalid_1's binary_logloss: 0.202579\n",
      "[30]\ttraining's auc: 0.999787\ttraining's binary_logloss: 0.180022\tvalid_1's auc: 1\tvalid_1's binary_logloss: 0.199143\n",
      "[33]\ttraining's auc: 0.999787\ttraining's binary_logloss: 0.16961\tvalid_1's auc: 1\tvalid_1's binary_logloss: 0.188231\n",
      "[36]\ttraining's auc: 0.999575\ttraining's binary_logloss: 0.158364\tvalid_1's auc: 1\tvalid_1's binary_logloss: 0.175957\n",
      "[39]\ttraining's auc: 0.999787\ttraining's binary_logloss: 0.153712\tvalid_1's auc: 1\tvalid_1's binary_logloss: 0.172964\n",
      "[42]\ttraining's auc: 1\ttraining's binary_logloss: 0.148838\tvalid_1's auc: 1\tvalid_1's binary_logloss: 0.170597\n",
      "[45]\ttraining's auc: 0.999787\ttraining's binary_logloss: 0.142778\tvalid_1's auc: 1\tvalid_1's binary_logloss: 0.164908\n",
      "[48]\ttraining's auc: 0.999787\ttraining's binary_logloss: 0.137849\tvalid_1's auc: 1\tvalid_1's binary_logloss: 0.160527\n",
      "[51]\ttraining's auc: 0.999787\ttraining's binary_logloss: 0.129801\tvalid_1's auc: 1\tvalid_1's binary_logloss: 0.151034\n",
      "[54]\ttraining's auc: 0.999787\ttraining's binary_logloss: 0.122731\tvalid_1's auc: 1\tvalid_1's binary_logloss: 0.142623\n",
      "[57]\ttraining's auc: 0.999787\ttraining's binary_logloss: 0.117367\tvalid_1's auc: 1\tvalid_1's binary_logloss: 0.136322\n",
      "[60]\ttraining's auc: 1\ttraining's binary_logloss: 0.11224\tvalid_1's auc: 1\tvalid_1's binary_logloss: 0.131087\n",
      "[63]\ttraining's auc: 1\ttraining's binary_logloss: 0.109296\tvalid_1's auc: 1\tvalid_1's binary_logloss: 0.129922\n",
      "[66]\ttraining's auc: 1\ttraining's binary_logloss: 0.106122\tvalid_1's auc: 1\tvalid_1's binary_logloss: 0.127933\n",
      "[69]\ttraining's auc: 1\ttraining's binary_logloss: 0.1019\tvalid_1's auc: 1\tvalid_1's binary_logloss: 0.123197\n",
      "[72]\ttraining's auc: 1\ttraining's binary_logloss: 0.0979845\tvalid_1's auc: 1\tvalid_1's binary_logloss: 0.118588\n",
      "[75]\ttraining's auc: 1\ttraining's binary_logloss: 0.0936764\tvalid_1's auc: 1\tvalid_1's binary_logloss: 0.113327\n",
      "[78]\ttraining's auc: 1\ttraining's binary_logloss: 0.0907094\tvalid_1's auc: 1\tvalid_1's binary_logloss: 0.110171\n",
      "[81]\ttraining's auc: 1\ttraining's binary_logloss: 0.0880568\tvalid_1's auc: 1\tvalid_1's binary_logloss: 0.10722\n",
      "[84]\ttraining's auc: 1\ttraining's binary_logloss: 0.0850786\tvalid_1's auc: 1\tvalid_1's binary_logloss: 0.103726\n",
      "[87]\ttraining's auc: 1\ttraining's binary_logloss: 0.0822811\tvalid_1's auc: 1\tvalid_1's binary_logloss: 0.101301\n",
      "[90]\ttraining's auc: 1\ttraining's binary_logloss: 0.0795411\tvalid_1's auc: 1\tvalid_1's binary_logloss: 0.0983867\n",
      "[93]\ttraining's auc: 1\ttraining's binary_logloss: 0.0768692\tvalid_1's auc: 1\tvalid_1's binary_logloss: 0.0956779\n",
      "[96]\ttraining's auc: 1\ttraining's binary_logloss: 0.0741467\tvalid_1's auc: 1\tvalid_1's binary_logloss: 0.0920839\n",
      "[99]\ttraining's auc: 1\ttraining's binary_logloss: 0.071625\tvalid_1's auc: 1\tvalid_1's binary_logloss: 0.0893099\n",
      "[3]\ttraining's auc: 0.882972\ttraining's binary_logloss: 0.328957\tvalid_1's auc: 0.924242\tvalid_1's binary_logloss: 0.351575\n",
      "[6]\ttraining's auc: 0.92719\ttraining's binary_logloss: 0.315869\tvalid_1's auc: 0.939394\tvalid_1's binary_logloss: 0.344884\n",
      "[9]\ttraining's auc: 0.995961\ttraining's binary_logloss: 0.271282\tvalid_1's auc: 0.984848\tvalid_1's binary_logloss: 0.301686\n",
      "[12]\ttraining's auc: 0.997449\ttraining's binary_logloss: 0.260768\tvalid_1's auc: 0.984848\tvalid_1's binary_logloss: 0.29659\n",
      "[15]\ttraining's auc: 0.998937\ttraining's binary_logloss: 0.238237\tvalid_1's auc: 0.984848\tvalid_1's binary_logloss: 0.278499\n",
      "[18]\ttraining's auc: 0.998937\ttraining's binary_logloss: 0.224701\tvalid_1's auc: 0.984848\tvalid_1's binary_logloss: 0.267966\n",
      "[21]\ttraining's auc: 0.999575\ttraining's binary_logloss: 0.212391\tvalid_1's auc: 0.984848\tvalid_1's binary_logloss: 0.261609\n",
      "[24]\ttraining's auc: 0.999575\ttraining's binary_logloss: 0.194187\tvalid_1's auc: 0.984848\tvalid_1's binary_logloss: 0.24292\n",
      "[27]\ttraining's auc: 1\ttraining's binary_logloss: 0.181897\tvalid_1's auc: 0.984848\tvalid_1's binary_logloss: 0.235351\n",
      "[30]\ttraining's auc: 1\ttraining's binary_logloss: 0.176471\tvalid_1's auc: 0.984848\tvalid_1's binary_logloss: 0.232546\n",
      "[33]\ttraining's auc: 1\ttraining's binary_logloss: 0.166238\tvalid_1's auc: 0.984848\tvalid_1's binary_logloss: 0.223611\n",
      "[36]\ttraining's auc: 1\ttraining's binary_logloss: 0.154998\tvalid_1's auc: 1\tvalid_1's binary_logloss: 0.211464\n",
      "[39]\ttraining's auc: 1\ttraining's binary_logloss: 0.150916\tvalid_1's auc: 0.984848\tvalid_1's binary_logloss: 0.210737\n",
      "[42]\ttraining's auc: 1\ttraining's binary_logloss: 0.146421\tvalid_1's auc: 0.984848\tvalid_1's binary_logloss: 0.208749\n",
      "[45]\ttraining's auc: 1\ttraining's binary_logloss: 0.140212\tvalid_1's auc: 0.984848\tvalid_1's binary_logloss: 0.204695\n",
      "[48]\ttraining's auc: 1\ttraining's binary_logloss: 0.134491\tvalid_1's auc: 0.984848\tvalid_1's binary_logloss: 0.203692\n",
      "[51]\ttraining's auc: 1\ttraining's binary_logloss: 0.126229\tvalid_1's auc: 1\tvalid_1's binary_logloss: 0.193555\n",
      "[54]\ttraining's auc: 1\ttraining's binary_logloss: 0.118601\tvalid_1's auc: 1\tvalid_1's binary_logloss: 0.186103\n",
      "[57]\ttraining's auc: 1\ttraining's binary_logloss: 0.113179\tvalid_1's auc: 1\tvalid_1's binary_logloss: 0.179771\n",
      "[60]\ttraining's auc: 1\ttraining's binary_logloss: 0.107766\tvalid_1's auc: 1\tvalid_1's binary_logloss: 0.175343\n",
      "[63]\ttraining's auc: 1\ttraining's binary_logloss: 0.104857\tvalid_1's auc: 1\tvalid_1's binary_logloss: 0.175924\n",
      "[66]\ttraining's auc: 1\ttraining's binary_logloss: 0.102022\tvalid_1's auc: 1\tvalid_1's binary_logloss: 0.174647\n",
      "[69]\ttraining's auc: 1\ttraining's binary_logloss: 0.0972563\tvalid_1's auc: 1\tvalid_1's binary_logloss: 0.171289\n",
      "[72]\ttraining's auc: 1\ttraining's binary_logloss: 0.0927873\tvalid_1's auc: 1\tvalid_1's binary_logloss: 0.165945\n",
      "[75]\ttraining's auc: 1\ttraining's binary_logloss: 0.0882833\tvalid_1's auc: 1\tvalid_1's binary_logloss: 0.160481\n",
      "[78]\ttraining's auc: 1\ttraining's binary_logloss: 0.0855967\tvalid_1's auc: 1\tvalid_1's binary_logloss: 0.157773\n",
      "[81]\ttraining's auc: 1\ttraining's binary_logloss: 0.0830988\tvalid_1's auc: 1\tvalid_1's binary_logloss: 0.154684\n",
      "[84]\ttraining's auc: 1\ttraining's binary_logloss: 0.0798764\tvalid_1's auc: 1\tvalid_1's binary_logloss: 0.151547\n",
      "[87]\ttraining's auc: 1\ttraining's binary_logloss: 0.0773073\tvalid_1's auc: 1\tvalid_1's binary_logloss: 0.151285\n",
      "[90]\ttraining's auc: 1\ttraining's binary_logloss: 0.074003\tvalid_1's auc: 1\tvalid_1's binary_logloss: 0.150461\n",
      "[93]\ttraining's auc: 1\ttraining's binary_logloss: 0.0712456\tvalid_1's auc: 1\tvalid_1's binary_logloss: 0.148981\n",
      "[96]\ttraining's auc: 1\ttraining's binary_logloss: 0.0684101\tvalid_1's auc: 1\tvalid_1's binary_logloss: 0.146905\n",
      "[99]\ttraining's auc: 1\ttraining's binary_logloss: 0.0654383\tvalid_1's auc: 1\tvalid_1's binary_logloss: 0.144349\n",
      "[3]\ttraining's auc: 0.885948\ttraining's binary_logloss: 0.330849\tvalid_1's auc: 0.939394\tvalid_1's binary_logloss: 0.352387\n",
      "[6]\ttraining's auc: 0.919218\ttraining's binary_logloss: 0.317989\tvalid_1's auc: 0.969697\tvalid_1's binary_logloss: 0.34418\n",
      "[9]\ttraining's auc: 0.996173\ttraining's binary_logloss: 0.274413\tvalid_1's auc: 1\tvalid_1's binary_logloss: 0.282622\n",
      "[12]\ttraining's auc: 0.999575\ttraining's binary_logloss: 0.264541\tvalid_1's auc: 1\tvalid_1's binary_logloss: 0.277955\n",
      "[15]\ttraining's auc: 0.999362\ttraining's binary_logloss: 0.243015\tvalid_1's auc: 1\tvalid_1's binary_logloss: 0.249299\n",
      "[18]\ttraining's auc: 0.999362\ttraining's binary_logloss: 0.229904\tvalid_1's auc: 1\tvalid_1's binary_logloss: 0.233207\n",
      "[21]\ttraining's auc: 0.999362\ttraining's binary_logloss: 0.217972\tvalid_1's auc: 1\tvalid_1's binary_logloss: 0.219816\n",
      "[24]\ttraining's auc: 0.998937\ttraining's binary_logloss: 0.200129\tvalid_1's auc: 1\tvalid_1's binary_logloss: 0.196013\n",
      "[27]\ttraining's auc: 0.998724\ttraining's binary_logloss: 0.187945\tvalid_1's auc: 1\tvalid_1's binary_logloss: 0.181052\n",
      "[30]\ttraining's auc: 0.998512\ttraining's binary_logloss: 0.182313\tvalid_1's auc: 1\tvalid_1's binary_logloss: 0.176365\n",
      "[33]\ttraining's auc: 0.998724\ttraining's binary_logloss: 0.172299\tvalid_1's auc: 1\tvalid_1's binary_logloss: 0.165055\n",
      "[36]\ttraining's auc: 0.998512\ttraining's binary_logloss: 0.161353\tvalid_1's auc: 1\tvalid_1's binary_logloss: 0.150212\n",
      "[39]\ttraining's auc: 0.99915\ttraining's binary_logloss: 0.15694\tvalid_1's auc: 1\tvalid_1's binary_logloss: 0.147693\n",
      "[42]\ttraining's auc: 0.999575\ttraining's binary_logloss: 0.152203\tvalid_1's auc: 1\tvalid_1's binary_logloss: 0.144169\n",
      "[45]\ttraining's auc: 0.999575\ttraining's binary_logloss: 0.146234\tvalid_1's auc: 1\tvalid_1's binary_logloss: 0.13916\n",
      "[48]\ttraining's auc: 0.999362\ttraining's binary_logloss: 0.141174\tvalid_1's auc: 1\tvalid_1's binary_logloss: 0.133806\n",
      "[51]\ttraining's auc: 0.999362\ttraining's binary_logloss: 0.133348\tvalid_1's auc: 1\tvalid_1's binary_logloss: 0.123067\n",
      "[54]\ttraining's auc: 0.999362\ttraining's binary_logloss: 0.12643\tvalid_1's auc: 1\tvalid_1's binary_logloss: 0.113628\n",
      "[57]\ttraining's auc: 0.999362\ttraining's binary_logloss: 0.12105\tvalid_1's auc: 1\tvalid_1's binary_logloss: 0.106429\n",
      "[60]\ttraining's auc: 0.999575\ttraining's binary_logloss: 0.116432\tvalid_1's auc: 1\tvalid_1's binary_logloss: 0.100124\n",
      "[63]\ttraining's auc: 0.999787\ttraining's binary_logloss: 0.113246\tvalid_1's auc: 1\tvalid_1's binary_logloss: 0.0987827\n",
      "[66]\ttraining's auc: 0.999787\ttraining's binary_logloss: 0.110351\tvalid_1's auc: 1\tvalid_1's binary_logloss: 0.0968852\n",
      "[69]\ttraining's auc: 0.999787\ttraining's binary_logloss: 0.106269\tvalid_1's auc: 1\tvalid_1's binary_logloss: 0.0918462\n",
      "[72]\ttraining's auc: 0.999787\ttraining's binary_logloss: 0.102195\tvalid_1's auc: 1\tvalid_1's binary_logloss: 0.0873473\n",
      "[75]\ttraining's auc: 1\ttraining's binary_logloss: 0.0979275\tvalid_1's auc: 1\tvalid_1's binary_logloss: 0.0813682\n",
      "[78]\ttraining's auc: 1\ttraining's binary_logloss: 0.0948223\tvalid_1's auc: 1\tvalid_1's binary_logloss: 0.0788034\n",
      "[81]\ttraining's auc: 1\ttraining's binary_logloss: 0.092289\tvalid_1's auc: 1\tvalid_1's binary_logloss: 0.0767006\n",
      "[84]\ttraining's auc: 1\ttraining's binary_logloss: 0.0890532\tvalid_1's auc: 1\tvalid_1's binary_logloss: 0.0742039\n",
      "[87]\ttraining's auc: 1\ttraining's binary_logloss: 0.0864374\tvalid_1's auc: 1\tvalid_1's binary_logloss: 0.0718387\n",
      "[90]\ttraining's auc: 1\ttraining's binary_logloss: 0.083586\tvalid_1's auc: 1\tvalid_1's binary_logloss: 0.0692384\n",
      "[93]\ttraining's auc: 1\ttraining's binary_logloss: 0.0809956\tvalid_1's auc: 1\tvalid_1's binary_logloss: 0.0658854\n",
      "[96]\ttraining's auc: 1\ttraining's binary_logloss: 0.0783475\tvalid_1's auc: 1\tvalid_1's binary_logloss: 0.0643605\n",
      "[99]\ttraining's auc: 1\ttraining's binary_logloss: 0.0756066\tvalid_1's auc: 1\tvalid_1's binary_logloss: 0.0611835\n",
      "[3]\ttraining's auc: 0.885204\ttraining's binary_logloss: 0.328356\tvalid_1's auc: 0.80303\tvalid_1's binary_logloss: 0.355541\n",
      "[6]\ttraining's auc: 0.920918\ttraining's binary_logloss: 0.314602\tvalid_1's auc: 0.856061\tvalid_1's binary_logloss: 0.347765\n",
      "[9]\ttraining's auc: 0.998831\ttraining's binary_logloss: 0.269148\tvalid_1's auc: 0.939394\tvalid_1's binary_logloss: 0.307477\n",
      "[12]\ttraining's auc: 0.999894\ttraining's binary_logloss: 0.258979\tvalid_1's auc: 0.969697\tvalid_1's binary_logloss: 0.300285\n",
      "[15]\ttraining's auc: 0.999894\ttraining's binary_logloss: 0.23616\tvalid_1's auc: 0.984848\tvalid_1's binary_logloss: 0.279691\n",
      "[18]\ttraining's auc: 1\ttraining's binary_logloss: 0.221749\tvalid_1's auc: 0.984848\tvalid_1's binary_logloss: 0.269464\n",
      "[21]\ttraining's auc: 1\ttraining's binary_logloss: 0.210003\tvalid_1's auc: 0.954545\tvalid_1's binary_logloss: 0.263125\n",
      "[24]\ttraining's auc: 1\ttraining's binary_logloss: 0.191535\tvalid_1's auc: 0.969697\tvalid_1's binary_logloss: 0.247406\n",
      "[27]\ttraining's auc: 1\ttraining's binary_logloss: 0.179734\tvalid_1's auc: 0.969697\tvalid_1's binary_logloss: 0.237324\n",
      "[30]\ttraining's auc: 1\ttraining's binary_logloss: 0.173957\tvalid_1's auc: 0.984848\tvalid_1's binary_logloss: 0.233811\n",
      "[33]\ttraining's auc: 1\ttraining's binary_logloss: 0.163584\tvalid_1's auc: 1\tvalid_1's binary_logloss: 0.225003\n",
      "[36]\ttraining's auc: 0.999787\ttraining's binary_logloss: 0.152175\tvalid_1's auc: 1\tvalid_1's binary_logloss: 0.215413\n",
      "[39]\ttraining's auc: 1\ttraining's binary_logloss: 0.147921\tvalid_1's auc: 1\tvalid_1's binary_logloss: 0.211746\n",
      "[42]\ttraining's auc: 1\ttraining's binary_logloss: 0.14263\tvalid_1's auc: 0.984848\tvalid_1's binary_logloss: 0.206962\n",
      "[45]\ttraining's auc: 1\ttraining's binary_logloss: 0.136473\tvalid_1's auc: 0.984848\tvalid_1's binary_logloss: 0.20183\n",
      "[48]\ttraining's auc: 1\ttraining's binary_logloss: 0.131222\tvalid_1's auc: 0.984848\tvalid_1's binary_logloss: 0.197428\n",
      "[51]\ttraining's auc: 1\ttraining's binary_logloss: 0.123293\tvalid_1's auc: 1\tvalid_1's binary_logloss: 0.190375\n",
      "[54]\ttraining's auc: 0.999787\ttraining's binary_logloss: 0.116257\tvalid_1's auc: 1\tvalid_1's binary_logloss: 0.18434\n",
      "[57]\ttraining's auc: 1\ttraining's binary_logloss: 0.110909\tvalid_1's auc: 1\tvalid_1's binary_logloss: 0.178926\n",
      "[60]\ttraining's auc: 0.999787\ttraining's binary_logloss: 0.105871\tvalid_1's auc: 1\tvalid_1's binary_logloss: 0.174678\n",
      "[63]\ttraining's auc: 1\ttraining's binary_logloss: 0.103199\tvalid_1's auc: 1\tvalid_1's binary_logloss: 0.171294\n",
      "[66]\ttraining's auc: 1\ttraining's binary_logloss: 0.0999797\tvalid_1's auc: 1\tvalid_1's binary_logloss: 0.168217\n",
      "[69]\ttraining's auc: 1\ttraining's binary_logloss: 0.0959714\tvalid_1's auc: 1\tvalid_1's binary_logloss: 0.163978\n",
      "[72]\ttraining's auc: 1\ttraining's binary_logloss: 0.0919748\tvalid_1's auc: 1\tvalid_1's binary_logloss: 0.160133\n",
      "[75]\ttraining's auc: 1\ttraining's binary_logloss: 0.0877698\tvalid_1's auc: 1\tvalid_1's binary_logloss: 0.156378\n",
      "[78]\ttraining's auc: 1\ttraining's binary_logloss: 0.0851045\tvalid_1's auc: 1\tvalid_1's binary_logloss: 0.154175\n",
      "[81]\ttraining's auc: 1\ttraining's binary_logloss: 0.0825543\tvalid_1's auc: 1\tvalid_1's binary_logloss: 0.152096\n",
      "[84]\ttraining's auc: 1\ttraining's binary_logloss: 0.0796329\tvalid_1's auc: 1\tvalid_1's binary_logloss: 0.149543\n",
      "[87]\ttraining's auc: 1\ttraining's binary_logloss: 0.0769632\tvalid_1's auc: 1\tvalid_1's binary_logloss: 0.146532\n",
      "[90]\ttraining's auc: 1\ttraining's binary_logloss: 0.0742153\tvalid_1's auc: 1\tvalid_1's binary_logloss: 0.143721\n",
      "[93]\ttraining's auc: 1\ttraining's binary_logloss: 0.0717742\tvalid_1's auc: 1\tvalid_1's binary_logloss: 0.141091\n",
      "[96]\ttraining's auc: 1\ttraining's binary_logloss: 0.0695848\tvalid_1's auc: 1\tvalid_1's binary_logloss: 0.138893\n",
      "[99]\ttraining's auc: 1\ttraining's binary_logloss: 0.0671697\tvalid_1's auc: 1\tvalid_1's binary_logloss: 0.135601\n",
      "[3]\ttraining's auc: 0.862351\ttraining's binary_logloss: 0.330313\tvalid_1's auc: 0.757576\tvalid_1's binary_logloss: 0.358093\n",
      "[6]\ttraining's auc: 0.934311\ttraining's binary_logloss: 0.315375\tvalid_1's auc: 0.833333\tvalid_1's binary_logloss: 0.348329\n",
      "[9]\ttraining's auc: 0.998087\ttraining's binary_logloss: 0.271777\tvalid_1's auc: 1\tvalid_1's binary_logloss: 0.29102\n",
      "[12]\ttraining's auc: 0.997874\ttraining's binary_logloss: 0.261333\tvalid_1's auc: 1\tvalid_1's binary_logloss: 0.28472\n",
      "[15]\ttraining's auc: 0.998299\ttraining's binary_logloss: 0.23892\tvalid_1's auc: 1\tvalid_1's binary_logloss: 0.2605\n",
      "[18]\ttraining's auc: 0.997874\ttraining's binary_logloss: 0.225397\tvalid_1's auc: 1\tvalid_1's binary_logloss: 0.247249\n",
      "[21]\ttraining's auc: 0.998087\ttraining's binary_logloss: 0.213862\tvalid_1's auc: 1\tvalid_1's binary_logloss: 0.238117\n",
      "[24]\ttraining's auc: 0.997449\ttraining's binary_logloss: 0.196108\tvalid_1's auc: 1\tvalid_1's binary_logloss: 0.216036\n",
      "[27]\ttraining's auc: 0.997449\ttraining's binary_logloss: 0.184506\tvalid_1's auc: 1\tvalid_1's binary_logloss: 0.20384\n",
      "[30]\ttraining's auc: 0.998724\ttraining's binary_logloss: 0.179108\tvalid_1's auc: 1\tvalid_1's binary_logloss: 0.198596\n",
      "[33]\ttraining's auc: 0.998512\ttraining's binary_logloss: 0.16859\tvalid_1's auc: 1\tvalid_1's binary_logloss: 0.188064\n",
      "[36]\ttraining's auc: 0.998299\ttraining's binary_logloss: 0.157537\tvalid_1's auc: 1\tvalid_1's binary_logloss: 0.174605\n",
      "[39]\ttraining's auc: 0.998512\ttraining's binary_logloss: 0.152979\tvalid_1's auc: 1\tvalid_1's binary_logloss: 0.172004\n",
      "[42]\ttraining's auc: 0.998724\ttraining's binary_logloss: 0.148413\tvalid_1's auc: 1\tvalid_1's binary_logloss: 0.168522\n",
      "[45]\ttraining's auc: 0.99915\ttraining's binary_logloss: 0.142378\tvalid_1's auc: 1\tvalid_1's binary_logloss: 0.162106\n",
      "[48]\ttraining's auc: 0.99915\ttraining's binary_logloss: 0.137128\tvalid_1's auc: 1\tvalid_1's binary_logloss: 0.157005\n",
      "[51]\ttraining's auc: 0.999362\ttraining's binary_logloss: 0.129344\tvalid_1's auc: 1\tvalid_1's binary_logloss: 0.147927\n",
      "[54]\ttraining's auc: 0.999362\ttraining's binary_logloss: 0.122329\tvalid_1's auc: 1\tvalid_1's binary_logloss: 0.14158\n",
      "[57]\ttraining's auc: 0.999362\ttraining's binary_logloss: 0.116947\tvalid_1's auc: 1\tvalid_1's binary_logloss: 0.137051\n",
      "[60]\ttraining's auc: 0.999362\ttraining's binary_logloss: 0.112063\tvalid_1's auc: 1\tvalid_1's binary_logloss: 0.133484\n",
      "[63]\ttraining's auc: 0.999787\ttraining's binary_logloss: 0.10906\tvalid_1's auc: 1\tvalid_1's binary_logloss: 0.131718\n",
      "[66]\ttraining's auc: 1\ttraining's binary_logloss: 0.105636\tvalid_1's auc: 1\tvalid_1's binary_logloss: 0.128671\n",
      "[69]\ttraining's auc: 1\ttraining's binary_logloss: 0.101286\tvalid_1's auc: 1\tvalid_1's binary_logloss: 0.124024\n",
      "[72]\ttraining's auc: 1\ttraining's binary_logloss: 0.0971164\tvalid_1's auc: 1\tvalid_1's binary_logloss: 0.120634\n",
      "[75]\ttraining's auc: 1\ttraining's binary_logloss: 0.0927825\tvalid_1's auc: 1\tvalid_1's binary_logloss: 0.115624\n",
      "[78]\ttraining's auc: 1\ttraining's binary_logloss: 0.0898699\tvalid_1's auc: 1\tvalid_1's binary_logloss: 0.113072\n",
      "[81]\ttraining's auc: 1\ttraining's binary_logloss: 0.0872079\tvalid_1's auc: 1\tvalid_1's binary_logloss: 0.110217\n",
      "[84]\ttraining's auc: 1\ttraining's binary_logloss: 0.0838492\tvalid_1's auc: 1\tvalid_1's binary_logloss: 0.107411\n",
      "[87]\ttraining's auc: 1\ttraining's binary_logloss: 0.080987\tvalid_1's auc: 1\tvalid_1's binary_logloss: 0.104082\n",
      "[90]\ttraining's auc: 1\ttraining's binary_logloss: 0.0779833\tvalid_1's auc: 1\tvalid_1's binary_logloss: 0.102383\n",
      "[93]\ttraining's auc: 1\ttraining's binary_logloss: 0.0755216\tvalid_1's auc: 1\tvalid_1's binary_logloss: 0.100039\n",
      "[96]\ttraining's auc: 1\ttraining's binary_logloss: 0.0730266\tvalid_1's auc: 1\tvalid_1's binary_logloss: 0.0985611\n",
      "[99]\ttraining's auc: 1\ttraining's binary_logloss: 0.0702998\tvalid_1's auc: 1\tvalid_1's binary_logloss: 0.0958231\n",
      "[3]\ttraining's auc: 0.872041\ttraining's binary_logloss: 0.336889\tvalid_1's auc: 0.784091\tvalid_1's binary_logloss: 0.28634\n",
      "[6]\ttraining's auc: 0.926429\ttraining's binary_logloss: 0.323107\tvalid_1's auc: 0.761364\tvalid_1's binary_logloss: 0.285124\n",
      "[9]\ttraining's auc: 0.991633\ttraining's binary_logloss: 0.278842\tvalid_1's auc: 1\tvalid_1's binary_logloss: 0.242834\n",
      "[12]\ttraining's auc: 0.99551\ttraining's binary_logloss: 0.267321\tvalid_1's auc: 1\tvalid_1's binary_logloss: 0.238795\n",
      "[15]\ttraining's auc: 0.996531\ttraining's binary_logloss: 0.244224\tvalid_1's auc: 1\tvalid_1's binary_logloss: 0.218124\n",
      "[18]\ttraining's auc: 0.997347\ttraining's binary_logloss: 0.23035\tvalid_1's auc: 1\tvalid_1's binary_logloss: 0.210114\n",
      "[21]\ttraining's auc: 0.997551\ttraining's binary_logloss: 0.21896\tvalid_1's auc: 1\tvalid_1's binary_logloss: 0.202004\n",
      "[24]\ttraining's auc: 0.996939\ttraining's binary_logloss: 0.200882\tvalid_1's auc: 1\tvalid_1's binary_logloss: 0.183972\n",
      "[27]\ttraining's auc: 0.996939\ttraining's binary_logloss: 0.189003\tvalid_1's auc: 1\tvalid_1's binary_logloss: 0.171914\n",
      "[30]\ttraining's auc: 0.997959\ttraining's binary_logloss: 0.182828\tvalid_1's auc: 1\tvalid_1's binary_logloss: 0.169747\n",
      "[33]\ttraining's auc: 0.998367\ttraining's binary_logloss: 0.172451\tvalid_1's auc: 1\tvalid_1's binary_logloss: 0.161678\n",
      "[36]\ttraining's auc: 0.997959\ttraining's binary_logloss: 0.161178\tvalid_1's auc: 1\tvalid_1's binary_logloss: 0.150142\n",
      "[39]\ttraining's auc: 0.998367\ttraining's binary_logloss: 0.156237\tvalid_1's auc: 1\tvalid_1's binary_logloss: 0.146355\n",
      "[42]\ttraining's auc: 0.998776\ttraining's binary_logloss: 0.151807\tvalid_1's auc: 1\tvalid_1's binary_logloss: 0.143753\n",
      "[45]\ttraining's auc: 0.998776\ttraining's binary_logloss: 0.145676\tvalid_1's auc: 1\tvalid_1's binary_logloss: 0.138025\n",
      "[48]\ttraining's auc: 0.999592\ttraining's binary_logloss: 0.139855\tvalid_1's auc: 1\tvalid_1's binary_logloss: 0.13389\n",
      "[51]\ttraining's auc: 0.999184\ttraining's binary_logloss: 0.132049\tvalid_1's auc: 1\tvalid_1's binary_logloss: 0.125301\n",
      "[54]\ttraining's auc: 0.999592\ttraining's binary_logloss: 0.124992\tvalid_1's auc: 1\tvalid_1's binary_logloss: 0.117379\n",
      "[57]\ttraining's auc: 0.999796\ttraining's binary_logloss: 0.119524\tvalid_1's auc: 1\tvalid_1's binary_logloss: 0.112077\n",
      "[60]\ttraining's auc: 0.999796\ttraining's binary_logloss: 0.11475\tvalid_1's auc: 1\tvalid_1's binary_logloss: 0.108238\n",
      "[63]\ttraining's auc: 1\ttraining's binary_logloss: 0.11171\tvalid_1's auc: 1\tvalid_1's binary_logloss: 0.107978\n",
      "[66]\ttraining's auc: 1\ttraining's binary_logloss: 0.108503\tvalid_1's auc: 1\tvalid_1's binary_logloss: 0.108456\n",
      "[69]\ttraining's auc: 1\ttraining's binary_logloss: 0.104184\tvalid_1's auc: 1\tvalid_1's binary_logloss: 0.103843\n",
      "[72]\ttraining's auc: 1\ttraining's binary_logloss: 0.0999601\tvalid_1's auc: 1\tvalid_1's binary_logloss: 0.0995794\n",
      "[75]\ttraining's auc: 1\ttraining's binary_logloss: 0.0956444\tvalid_1's auc: 1\tvalid_1's binary_logloss: 0.0945527\n",
      "[78]\ttraining's auc: 1\ttraining's binary_logloss: 0.0925871\tvalid_1's auc: 1\tvalid_1's binary_logloss: 0.0925288\n",
      "[81]\ttraining's auc: 1\ttraining's binary_logloss: 0.0897195\tvalid_1's auc: 1\tvalid_1's binary_logloss: 0.0901178\n",
      "[84]\ttraining's auc: 1\ttraining's binary_logloss: 0.0863573\tvalid_1's auc: 1\tvalid_1's binary_logloss: 0.0879295\n",
      "[87]\ttraining's auc: 1\ttraining's binary_logloss: 0.0836046\tvalid_1's auc: 1\tvalid_1's binary_logloss: 0.0862375\n",
      "[90]\ttraining's auc: 1\ttraining's binary_logloss: 0.080696\tvalid_1's auc: 1\tvalid_1's binary_logloss: 0.0833292\n",
      "[93]\ttraining's auc: 1\ttraining's binary_logloss: 0.0779184\tvalid_1's auc: 1\tvalid_1's binary_logloss: 0.0805354\n",
      "[96]\ttraining's auc: 1\ttraining's binary_logloss: 0.0752546\tvalid_1's auc: 1\tvalid_1's binary_logloss: 0.0790974\n",
      "[99]\ttraining's auc: 1\ttraining's binary_logloss: 0.0722936\tvalid_1's auc: 1\tvalid_1's binary_logloss: 0.0771\n",
      "[3]\ttraining's auc: 0.891224\ttraining's binary_logloss: 0.336079\tvalid_1's auc: 0.738636\tvalid_1's binary_logloss: 0.287061\n",
      "[6]\ttraining's auc: 0.937857\ttraining's binary_logloss: 0.318474\tvalid_1's auc: 0.704545\tvalid_1's binary_logloss: 0.286351\n",
      "[9]\ttraining's auc: 0.996735\ttraining's binary_logloss: 0.274002\tvalid_1's auc: 0.772727\tvalid_1's binary_logloss: 0.261512\n",
      "[12]\ttraining's auc: 0.999184\ttraining's binary_logloss: 0.263198\tvalid_1's auc: 0.772727\tvalid_1's binary_logloss: 0.259883\n",
      "[15]\ttraining's auc: 0.999388\ttraining's binary_logloss: 0.240648\tvalid_1's auc: 0.772727\tvalid_1's binary_logloss: 0.248593\n",
      "[18]\ttraining's auc: 0.999592\ttraining's binary_logloss: 0.226059\tvalid_1's auc: 0.727273\tvalid_1's binary_logloss: 0.24416\n",
      "[21]\ttraining's auc: 0.999592\ttraining's binary_logloss: 0.214135\tvalid_1's auc: 0.727273\tvalid_1's binary_logloss: 0.241008\n",
      "[24]\ttraining's auc: 0.999796\ttraining's binary_logloss: 0.195161\tvalid_1's auc: 0.75\tvalid_1's binary_logloss: 0.230057\n",
      "[27]\ttraining's auc: 0.999796\ttraining's binary_logloss: 0.182595\tvalid_1's auc: 0.75\tvalid_1's binary_logloss: 0.223397\n",
      "[30]\ttraining's auc: 1\ttraining's binary_logloss: 0.176401\tvalid_1's auc: 0.75\tvalid_1's binary_logloss: 0.221523\n",
      "[33]\ttraining's auc: 1\ttraining's binary_logloss: 0.165491\tvalid_1's auc: 0.75\tvalid_1's binary_logloss: 0.217006\n",
      "[36]\ttraining's auc: 0.999796\ttraining's binary_logloss: 0.153646\tvalid_1's auc: 0.772727\tvalid_1's binary_logloss: 0.210276\n",
      "[39]\ttraining's auc: 1\ttraining's binary_logloss: 0.149255\tvalid_1's auc: 0.772727\tvalid_1's binary_logloss: 0.209791\n",
      "[42]\ttraining's auc: 1\ttraining's binary_logloss: 0.14425\tvalid_1's auc: 0.772727\tvalid_1's binary_logloss: 0.208367\n",
      "[45]\ttraining's auc: 1\ttraining's binary_logloss: 0.137662\tvalid_1's auc: 0.772727\tvalid_1's binary_logloss: 0.204725\n",
      "[48]\ttraining's auc: 1\ttraining's binary_logloss: 0.1321\tvalid_1's auc: 0.772727\tvalid_1's binary_logloss: 0.202798\n",
      "[51]\ttraining's auc: 1\ttraining's binary_logloss: 0.123625\tvalid_1's auc: 0.772727\tvalid_1's binary_logloss: 0.197257\n",
      "[54]\ttraining's auc: 1\ttraining's binary_logloss: 0.115615\tvalid_1's auc: 0.772727\tvalid_1's binary_logloss: 0.193096\n",
      "[57]\ttraining's auc: 1\ttraining's binary_logloss: 0.109737\tvalid_1's auc: 0.772727\tvalid_1's binary_logloss: 0.191768\n",
      "[60]\ttraining's auc: 1\ttraining's binary_logloss: 0.10458\tvalid_1's auc: 0.772727\tvalid_1's binary_logloss: 0.189804\n",
      "[63]\ttraining's auc: 1\ttraining's binary_logloss: 0.101729\tvalid_1's auc: 0.772727\tvalid_1's binary_logloss: 0.192565\n",
      "[66]\ttraining's auc: 1\ttraining's binary_logloss: 0.0986331\tvalid_1's auc: 0.772727\tvalid_1's binary_logloss: 0.192322\n",
      "[69]\ttraining's auc: 1\ttraining's binary_logloss: 0.0940411\tvalid_1's auc: 0.772727\tvalid_1's binary_logloss: 0.190386\n",
      "[72]\ttraining's auc: 1\ttraining's binary_logloss: 0.0894563\tvalid_1's auc: 0.772727\tvalid_1's binary_logloss: 0.18903\n",
      "[75]\ttraining's auc: 1\ttraining's binary_logloss: 0.0846166\tvalid_1's auc: 0.772727\tvalid_1's binary_logloss: 0.186844\n",
      "[78]\ttraining's auc: 1\ttraining's binary_logloss: 0.0816445\tvalid_1's auc: 0.772727\tvalid_1's binary_logloss: 0.185374\n",
      "[81]\ttraining's auc: 1\ttraining's binary_logloss: 0.078991\tvalid_1's auc: 0.840909\tvalid_1's binary_logloss: 0.183933\n",
      "[84]\ttraining's auc: 1\ttraining's binary_logloss: 0.0754855\tvalid_1's auc: 0.886364\tvalid_1's binary_logloss: 0.18266\n",
      "[87]\ttraining's auc: 1\ttraining's binary_logloss: 0.0728705\tvalid_1's auc: 0.886364\tvalid_1's binary_logloss: 0.179607\n",
      "[90]\ttraining's auc: 1\ttraining's binary_logloss: 0.0697729\tvalid_1's auc: 0.886364\tvalid_1's binary_logloss: 0.178591\n",
      "[93]\ttraining's auc: 1\ttraining's binary_logloss: 0.0672012\tvalid_1's auc: 0.886364\tvalid_1's binary_logloss: 0.176252\n",
      "[96]\ttraining's auc: 1\ttraining's binary_logloss: 0.0642805\tvalid_1's auc: 0.886364\tvalid_1's binary_logloss: 0.175997\n",
      "[99]\ttraining's auc: 1\ttraining's binary_logloss: 0.0610835\tvalid_1's auc: 0.886364\tvalid_1's binary_logloss: 0.176187\n",
      "[3]\ttraining's auc: 0.909898\ttraining's binary_logloss: 0.336442\tvalid_1's auc: 0.806818\tvalid_1's binary_logloss: 0.282293\n",
      "[6]\ttraining's auc: 0.949898\ttraining's binary_logloss: 0.321854\tvalid_1's auc: 0.863636\tvalid_1's binary_logloss: 0.278512\n",
      "[9]\ttraining's auc: 0.998571\ttraining's binary_logloss: 0.276878\tvalid_1's auc: 1\tvalid_1's binary_logloss: 0.250273\n",
      "[12]\ttraining's auc: 0.997143\ttraining's binary_logloss: 0.267384\tvalid_1's auc: 1\tvalid_1's binary_logloss: 0.245605\n",
      "[15]\ttraining's auc: 0.998776\ttraining's binary_logloss: 0.244796\tvalid_1's auc: 1\tvalid_1's binary_logloss: 0.230855\n",
      "[18]\ttraining's auc: 0.998571\ttraining's binary_logloss: 0.230828\tvalid_1's auc: 1\tvalid_1's binary_logloss: 0.221419\n",
      "[21]\ttraining's auc: 0.999184\ttraining's binary_logloss: 0.219611\tvalid_1's auc: 1\tvalid_1's binary_logloss: 0.214849\n",
      "[24]\ttraining's auc: 0.999592\ttraining's binary_logloss: 0.200799\tvalid_1's auc: 1\tvalid_1's binary_logloss: 0.200518\n",
      "[27]\ttraining's auc: 0.999592\ttraining's binary_logloss: 0.18871\tvalid_1's auc: 1\tvalid_1's binary_logloss: 0.192031\n",
      "[30]\ttraining's auc: 0.999592\ttraining's binary_logloss: 0.183026\tvalid_1's auc: 1\tvalid_1's binary_logloss: 0.189866\n",
      "[33]\ttraining's auc: 0.999592\ttraining's binary_logloss: 0.172562\tvalid_1's auc: 1\tvalid_1's binary_logloss: 0.180971\n",
      "[36]\ttraining's auc: 0.999592\ttraining's binary_logloss: 0.160915\tvalid_1's auc: 1\tvalid_1's binary_logloss: 0.171288\n",
      "[39]\ttraining's auc: 0.999796\ttraining's binary_logloss: 0.156113\tvalid_1's auc: 1\tvalid_1's binary_logloss: 0.170945\n",
      "[42]\ttraining's auc: 1\ttraining's binary_logloss: 0.151217\tvalid_1's auc: 1\tvalid_1's binary_logloss: 0.169238\n",
      "[45]\ttraining's auc: 1\ttraining's binary_logloss: 0.144492\tvalid_1's auc: 1\tvalid_1's binary_logloss: 0.164934\n",
      "[48]\ttraining's auc: 1\ttraining's binary_logloss: 0.138805\tvalid_1's auc: 1\tvalid_1's binary_logloss: 0.162472\n",
      "[51]\ttraining's auc: 1\ttraining's binary_logloss: 0.130622\tvalid_1's auc: 1\tvalid_1's binary_logloss: 0.154849\n",
      "[54]\ttraining's auc: 1\ttraining's binary_logloss: 0.12341\tvalid_1's auc: 1\tvalid_1's binary_logloss: 0.148031\n",
      "[57]\ttraining's auc: 1\ttraining's binary_logloss: 0.117749\tvalid_1's auc: 1\tvalid_1's binary_logloss: 0.143139\n",
      "[60]\ttraining's auc: 1\ttraining's binary_logloss: 0.112896\tvalid_1's auc: 1\tvalid_1's binary_logloss: 0.138399\n",
      "[63]\ttraining's auc: 1\ttraining's binary_logloss: 0.109894\tvalid_1's auc: 1\tvalid_1's binary_logloss: 0.137787\n",
      "[66]\ttraining's auc: 1\ttraining's binary_logloss: 0.106742\tvalid_1's auc: 1\tvalid_1's binary_logloss: 0.13577\n",
      "[69]\ttraining's auc: 1\ttraining's binary_logloss: 0.102419\tvalid_1's auc: 1\tvalid_1's binary_logloss: 0.132028\n",
      "[72]\ttraining's auc: 1\ttraining's binary_logloss: 0.0984728\tvalid_1's auc: 1\tvalid_1's binary_logloss: 0.128788\n",
      "[75]\ttraining's auc: 1\ttraining's binary_logloss: 0.0942295\tvalid_1's auc: 1\tvalid_1's binary_logloss: 0.124515\n",
      "[78]\ttraining's auc: 1\ttraining's binary_logloss: 0.0910661\tvalid_1's auc: 1\tvalid_1's binary_logloss: 0.122304\n",
      "[81]\ttraining's auc: 1\ttraining's binary_logloss: 0.0880887\tvalid_1's auc: 1\tvalid_1's binary_logloss: 0.12045\n",
      "[84]\ttraining's auc: 1\ttraining's binary_logloss: 0.0846473\tvalid_1's auc: 1\tvalid_1's binary_logloss: 0.117653\n",
      "[87]\ttraining's auc: 1\ttraining's binary_logloss: 0.0820417\tvalid_1's auc: 1\tvalid_1's binary_logloss: 0.114981\n",
      "[90]\ttraining's auc: 1\ttraining's binary_logloss: 0.07904\tvalid_1's auc: 1\tvalid_1's binary_logloss: 0.112002\n",
      "[93]\ttraining's auc: 1\ttraining's binary_logloss: 0.0764593\tvalid_1's auc: 1\tvalid_1's binary_logloss: 0.109388\n",
      "[96]\ttraining's auc: 1\ttraining's binary_logloss: 0.0740388\tvalid_1's auc: 1\tvalid_1's binary_logloss: 0.106853\n",
      "[99]\ttraining's auc: 1\ttraining's binary_logloss: 0.071128\tvalid_1's auc: 1\tvalid_1's binary_logloss: 0.103643\n",
      "[3]\ttraining's auc: 0.879865\ttraining's binary_logloss: 0.328662\tvalid_1's auc: 0.809524\tvalid_1's binary_logloss: 0.365475\n",
      "[6]\ttraining's auc: 0.908312\ttraining's binary_logloss: 0.31512\tvalid_1's auc: 0.793651\tvalid_1's binary_logloss: 0.359259\n",
      "[9]\ttraining's auc: 0.990694\ttraining's binary_logloss: 0.270947\tvalid_1's auc: 1\tvalid_1's binary_logloss: 0.312895\n",
      "[12]\ttraining's auc: 0.99302\ttraining's binary_logloss: 0.26013\tvalid_1's auc: 0.984127\tvalid_1's binary_logloss: 0.311982\n",
      "[15]\ttraining's auc: 0.996193\ttraining's binary_logloss: 0.238397\tvalid_1's auc: 1\tvalid_1's binary_logloss: 0.289524\n",
      "[18]\ttraining's auc: 0.998308\ttraining's binary_logloss: 0.225535\tvalid_1's auc: 1\tvalid_1's binary_logloss: 0.276421\n",
      "[21]\ttraining's auc: 0.998308\ttraining's binary_logloss: 0.214734\tvalid_1's auc: 1\tvalid_1's binary_logloss: 0.267209\n",
      "[24]\ttraining's auc: 0.998731\ttraining's binary_logloss: 0.196779\tvalid_1's auc: 1\tvalid_1's binary_logloss: 0.246678\n",
      "[27]\ttraining's auc: 0.998519\ttraining's binary_logloss: 0.185063\tvalid_1's auc: 1\tvalid_1's binary_logloss: 0.234402\n",
      "[30]\ttraining's auc: 0.999365\ttraining's binary_logloss: 0.179454\tvalid_1's auc: 1\tvalid_1's binary_logloss: 0.230259\n",
      "[33]\ttraining's auc: 0.999365\ttraining's binary_logloss: 0.168781\tvalid_1's auc: 1\tvalid_1's binary_logloss: 0.220852\n",
      "[36]\ttraining's auc: 0.999154\ttraining's binary_logloss: 0.157401\tvalid_1's auc: 1\tvalid_1's binary_logloss: 0.209279\n",
      "[39]\ttraining's auc: 0.999577\ttraining's binary_logloss: 0.152952\tvalid_1's auc: 1\tvalid_1's binary_logloss: 0.207653\n",
      "[42]\ttraining's auc: 0.999788\ttraining's binary_logloss: 0.148118\tvalid_1's auc: 1\tvalid_1's binary_logloss: 0.205399\n",
      "[45]\ttraining's auc: 1\ttraining's binary_logloss: 0.141965\tvalid_1's auc: 1\tvalid_1's binary_logloss: 0.200667\n",
      "[48]\ttraining's auc: 1\ttraining's binary_logloss: 0.136771\tvalid_1's auc: 1\tvalid_1's binary_logloss: 0.195546\n",
      "[51]\ttraining's auc: 1\ttraining's binary_logloss: 0.12882\tvalid_1's auc: 1\tvalid_1's binary_logloss: 0.186069\n",
      "[54]\ttraining's auc: 1\ttraining's binary_logloss: 0.121694\tvalid_1's auc: 1\tvalid_1's binary_logloss: 0.178344\n",
      "[57]\ttraining's auc: 1\ttraining's binary_logloss: 0.116293\tvalid_1's auc: 1\tvalid_1's binary_logloss: 0.172565\n",
      "[60]\ttraining's auc: 1\ttraining's binary_logloss: 0.111147\tvalid_1's auc: 1\tvalid_1's binary_logloss: 0.168178\n",
      "[63]\ttraining's auc: 1\ttraining's binary_logloss: 0.1079\tvalid_1's auc: 1\tvalid_1's binary_logloss: 0.165646\n",
      "[66]\ttraining's auc: 1\ttraining's binary_logloss: 0.104996\tvalid_1's auc: 1\tvalid_1's binary_logloss: 0.162588\n",
      "[69]\ttraining's auc: 1\ttraining's binary_logloss: 0.100872\tvalid_1's auc: 1\tvalid_1's binary_logloss: 0.158059\n",
      "[72]\ttraining's auc: 1\ttraining's binary_logloss: 0.0969463\tvalid_1's auc: 1\tvalid_1's binary_logloss: 0.152623\n",
      "[75]\ttraining's auc: 1\ttraining's binary_logloss: 0.092736\tvalid_1's auc: 1\tvalid_1's binary_logloss: 0.146648\n",
      "[78]\ttraining's auc: 1\ttraining's binary_logloss: 0.0895769\tvalid_1's auc: 1\tvalid_1's binary_logloss: 0.144605\n",
      "[81]\ttraining's auc: 1\ttraining's binary_logloss: 0.0865763\tvalid_1's auc: 1\tvalid_1's binary_logloss: 0.142273\n",
      "[84]\ttraining's auc: 1\ttraining's binary_logloss: 0.0833336\tvalid_1's auc: 1\tvalid_1's binary_logloss: 0.139287\n",
      "[87]\ttraining's auc: 1\ttraining's binary_logloss: 0.0806661\tvalid_1's auc: 1\tvalid_1's binary_logloss: 0.137083\n",
      "[90]\ttraining's auc: 1\ttraining's binary_logloss: 0.0779745\tvalid_1's auc: 1\tvalid_1's binary_logloss: 0.134275\n",
      "[93]\ttraining's auc: 1\ttraining's binary_logloss: 0.0754221\tvalid_1's auc: 1\tvalid_1's binary_logloss: 0.130767\n",
      "[96]\ttraining's auc: 1\ttraining's binary_logloss: 0.0729246\tvalid_1's auc: 1\tvalid_1's binary_logloss: 0.127714\n",
      "[99]\ttraining's auc: 1\ttraining's binary_logloss: 0.0702979\tvalid_1's auc: 1\tvalid_1's binary_logloss: 0.123635\n",
      "[3]\ttraining's auc: 0.883566\ttraining's binary_logloss: 0.326457\tvalid_1's auc: 0.515873\tvalid_1's binary_logloss: 0.380527\n",
      "[6]\ttraining's auc: 0.914234\ttraining's binary_logloss: 0.313253\tvalid_1's auc: 0.603175\tvalid_1's binary_logloss: 0.37918\n",
      "[9]\ttraining's auc: 0.991117\ttraining's binary_logloss: 0.269229\tvalid_1's auc: 0.936508\tvalid_1's binary_logloss: 0.331004\n",
      "[12]\ttraining's auc: 0.99302\ttraining's binary_logloss: 0.25906\tvalid_1's auc: 0.873016\tvalid_1's binary_logloss: 0.334434\n",
      "[15]\ttraining's auc: 0.995347\ttraining's binary_logloss: 0.237434\tvalid_1's auc: 0.920635\tvalid_1's binary_logloss: 0.314091\n",
      "[18]\ttraining's auc: 0.99577\ttraining's binary_logloss: 0.224296\tvalid_1's auc: 0.920635\tvalid_1's binary_logloss: 0.302818\n",
      "[21]\ttraining's auc: 0.996827\ttraining's binary_logloss: 0.213432\tvalid_1's auc: 0.936508\tvalid_1's binary_logloss: 0.293171\n",
      "[24]\ttraining's auc: 0.998731\ttraining's binary_logloss: 0.19525\tvalid_1's auc: 0.968254\tvalid_1's binary_logloss: 0.271375\n",
      "[27]\ttraining's auc: 0.999365\ttraining's binary_logloss: 0.183074\tvalid_1's auc: 0.968254\tvalid_1's binary_logloss: 0.259586\n",
      "[30]\ttraining's auc: 0.998519\ttraining's binary_logloss: 0.177424\tvalid_1's auc: 0.968254\tvalid_1's binary_logloss: 0.262008\n",
      "[33]\ttraining's auc: 0.999154\ttraining's binary_logloss: 0.166911\tvalid_1's auc: 0.968254\tvalid_1's binary_logloss: 0.248643\n",
      "[36]\ttraining's auc: 0.998942\ttraining's binary_logloss: 0.155797\tvalid_1's auc: 0.984127\tvalid_1's binary_logloss: 0.233872\n",
      "[39]\ttraining's auc: 0.999788\ttraining's binary_logloss: 0.151687\tvalid_1's auc: 0.968254\tvalid_1's binary_logloss: 0.234212\n",
      "[42]\ttraining's auc: 0.999788\ttraining's binary_logloss: 0.146913\tvalid_1's auc: 0.968254\tvalid_1's binary_logloss: 0.236585\n",
      "[45]\ttraining's auc: 1\ttraining's binary_logloss: 0.140854\tvalid_1's auc: 0.968254\tvalid_1's binary_logloss: 0.236492\n",
      "[48]\ttraining's auc: 1\ttraining's binary_logloss: 0.135762\tvalid_1's auc: 0.968254\tvalid_1's binary_logloss: 0.231015\n",
      "[51]\ttraining's auc: 0.999788\ttraining's binary_logloss: 0.127406\tvalid_1's auc: 0.968254\tvalid_1's binary_logloss: 0.220523\n",
      "[54]\ttraining's auc: 0.999788\ttraining's binary_logloss: 0.119511\tvalid_1's auc: 0.968254\tvalid_1's binary_logloss: 0.213856\n",
      "[57]\ttraining's auc: 0.999788\ttraining's binary_logloss: 0.113819\tvalid_1's auc: 0.968254\tvalid_1's binary_logloss: 0.210041\n",
      "[60]\ttraining's auc: 0.999788\ttraining's binary_logloss: 0.10874\tvalid_1's auc: 0.968254\tvalid_1's binary_logloss: 0.20412\n",
      "[63]\ttraining's auc: 0.999788\ttraining's binary_logloss: 0.105553\tvalid_1's auc: 0.952381\tvalid_1's binary_logloss: 0.205908\n",
      "[66]\ttraining's auc: 1\ttraining's binary_logloss: 0.102757\tvalid_1's auc: 0.968254\tvalid_1's binary_logloss: 0.205701\n",
      "[69]\ttraining's auc: 1\ttraining's binary_logloss: 0.0983454\tvalid_1's auc: 0.968254\tvalid_1's binary_logloss: 0.199367\n",
      "[72]\ttraining's auc: 1\ttraining's binary_logloss: 0.0937257\tvalid_1's auc: 0.984127\tvalid_1's binary_logloss: 0.194437\n",
      "[75]\ttraining's auc: 1\ttraining's binary_logloss: 0.0892089\tvalid_1's auc: 0.968254\tvalid_1's binary_logloss: 0.188699\n",
      "[78]\ttraining's auc: 1\ttraining's binary_logloss: 0.0861445\tvalid_1's auc: 0.968254\tvalid_1's binary_logloss: 0.187666\n",
      "[81]\ttraining's auc: 1\ttraining's binary_logloss: 0.0834404\tvalid_1's auc: 0.984127\tvalid_1's binary_logloss: 0.184651\n",
      "[84]\ttraining's auc: 1\ttraining's binary_logloss: 0.0798703\tvalid_1's auc: 0.984127\tvalid_1's binary_logloss: 0.180128\n",
      "[87]\ttraining's auc: 1\ttraining's binary_logloss: 0.0772588\tvalid_1's auc: 0.984127\tvalid_1's binary_logloss: 0.181358\n",
      "[90]\ttraining's auc: 1\ttraining's binary_logloss: 0.0739148\tvalid_1's auc: 0.984127\tvalid_1's binary_logloss: 0.179399\n",
      "[93]\ttraining's auc: 1\ttraining's binary_logloss: 0.0711407\tvalid_1's auc: 0.984127\tvalid_1's binary_logloss: 0.175397\n",
      "[96]\ttraining's auc: 1\ttraining's binary_logloss: 0.0678637\tvalid_1's auc: 0.984127\tvalid_1's binary_logloss: 0.173004\n",
      "[99]\ttraining's auc: 1\ttraining's binary_logloss: 0.0647804\tvalid_1's auc: 0.984127\tvalid_1's binary_logloss: 0.170894\n"
     ]
    }
   ],
   "source": [
    "from lightgbm import LGBMClassifier\n",
    "auc_scores=[]\n",
    "y_pred_tot=[]\n",
    "feature_imp_df = pd.DataFrame()\n",
    "X=train_data.drop(['Left_Company'], axis='columns')\n",
    "Y=train_data['Left_Company']\n",
    "fold=StratifiedKFold(n_splits=10,shuffle=True,random_state=123)\n",
    "i=1\n",
    "\n",
    "for train_index,test_index in fold.split(X,Y):\n",
    "    x_train,x_test = X.iloc[train_index], X.iloc[test_index]\n",
    "    y_train, y_test = Y[train_index], Y[test_index]\n",
    "    \n",
    "\n",
    "    clf_lgb = LGBMClassifier(n_estimators= 100, random_state = 123, learning_rate=0.03,\n",
    "                                                    reg_alpha=0.3,colsample_bytree=0.5)\n",
    "    clf_lgb.fit(x_train,y_train,eval_set=[(x_train,y_train),(x_test,y_test)], eval_metric='auc',verbose=3)\n",
    "    preds=clf_lgb.predict_proba(x_test,num_iterations=clf_lgb.best_iteration_)[:,-1]\n",
    "    #fold_imp_df=pd.DataFrame()\n",
    "    #fold_imp_df['features']=x_train.columns\n",
    "    #explainer = shap.TreeExplainer(model = clf_lgb)\n",
    "    #shap_values_ = explainer.shap_values(x_train)\n",
    "    #fold_imp_df['fold'] = i+1\n",
    "    #feature_imp_df=pd.concat([feature_imp_df,fold_imp_df],axis=0)\n",
    "    #print(\"auc:\", roc_auc_score(y_test,preds))\n",
    "    #auc_scores.append(roc_auc_score(y_test,preds))\n",
    "    p=clf_lgb.predict_proba(test_data.drop(['Left_Company'], axis='columns'))[:,-1]\n",
    "    i=i+1\n",
    "    y_pred_tot.append(p)"
   ]
  },
  {
   "cell_type": "code",
   "execution_count": 306,
   "metadata": {},
   "outputs": [],
   "source": [
    "A = np.array(y_pred_tot)\n",
    "mean_prob=np.mean(A,axis = 0)\n",
    "len(mean_prob)\n",
    "final_pred=[1 if (i > 0.5) else 0 for i in mean_prob]"
   ]
  },
  {
   "cell_type": "code",
   "execution_count": 343,
   "metadata": {},
   "outputs": [],
   "source": [
    "train_pred = final_pred"
   ]
  },
  {
   "cell_type": "raw",
   "metadata": {},
   "source": [
    "#test_pred = clf_lgb.predict(X_test)\n",
    "\n",
    "Metric.append(pd.Series([\"lgb_grid_train\",accuracy_score(y_train,train_pred), precision_score(y_train,train_pred,average = None)[0], \n",
    "                            precision_score(y_train,train_pred,average = None)[1],\n",
    "                           recall_score(y_train,train_pred,average = None)[0],recall_score(y_train,train_pred,average = None)[1], \n",
    "                           f1_score(y_train,train_pred,average = None)[0],\n",
    "                 f1_score(y_train,train_pred,average = None)[1]], index=Metric.columns ), ignore_index=True)\n",
    "\n",
    "Metric.append(pd.Series([\"lgb_grid_test\",accuracy_score(y_test,test_pred), precision_score(y_test,test_pred,average = None)[0], \n",
    "                            precision_score(y_test,test_pred,average = None)[1],\n",
    "                           recall_score(y_test,test_pred,average = None)[0],recall_score(y_test,test_pred,average = None)[1], \n",
    "                           f1_score(y_test,test_pred,average = None)[0],\n",
    "                 f1_score(y_test,test_pred,average = None)[1]], index=Metric.columns ), ignore_index=True)\n",
    "\n",
    "\n",
    "model_evaluation(y_train, train_pred, y_test, test_pred)"
   ]
  },
  {
   "cell_type": "code",
   "execution_count": 317,
   "metadata": {},
   "outputs": [
    {
     "data": {
      "text/html": [
       "<div>\n",
       "<style scoped>\n",
       "    .dataframe tbody tr th:only-of-type {\n",
       "        vertical-align: middle;\n",
       "    }\n",
       "\n",
       "    .dataframe tbody tr th {\n",
       "        vertical-align: top;\n",
       "    }\n",
       "\n",
       "    .dataframe thead th {\n",
       "        text-align: right;\n",
       "    }\n",
       "</style>\n",
       "<table border=\"1\" class=\"dataframe\">\n",
       "  <thead>\n",
       "    <tr style=\"text-align: right;\">\n",
       "      <th></th>\n",
       "      <th>Model</th>\n",
       "      <th>Accuray</th>\n",
       "      <th>precision_class0</th>\n",
       "      <th>precision_class1</th>\n",
       "      <th>recall_class0</th>\n",
       "      <th>recall_class1</th>\n",
       "      <th>f1_class0</th>\n",
       "      <th>f1_class1</th>\n",
       "    </tr>\n",
       "  </thead>\n",
       "  <tbody>\n",
       "  </tbody>\n",
       "</table>\n",
       "</div>"
      ],
      "text/plain": [
       "Empty DataFrame\n",
       "Columns: [Model, Accuray, precision_class0, precision_class1, recall_class0, recall_class1, f1_class0, f1_class1]\n",
       "Index: []"
      ]
     },
     "execution_count": 317,
     "metadata": {},
     "output_type": "execute_result"
    }
   ],
   "source": [
    "Metric"
   ]
  },
  {
   "cell_type": "markdown",
   "metadata": {},
   "source": [
    "# To drop rows in dataframe based on index"
   ]
  },
  {
   "cell_type": "code",
   "execution_count": null,
   "metadata": {},
   "outputs": [],
   "source": [
    "Metric.drop(34,inplace=True)"
   ]
  },
  {
   "cell_type": "code",
   "execution_count": 318,
   "metadata": {},
   "outputs": [
    {
     "data": {
      "text/html": [
       "<div>\n",
       "<style scoped>\n",
       "    .dataframe tbody tr th:only-of-type {\n",
       "        vertical-align: middle;\n",
       "    }\n",
       "\n",
       "    .dataframe tbody tr th {\n",
       "        vertical-align: top;\n",
       "    }\n",
       "\n",
       "    .dataframe thead th {\n",
       "        text-align: right;\n",
       "    }\n",
       "</style>\n",
       "<table border=\"1\" class=\"dataframe\">\n",
       "  <thead>\n",
       "    <tr style=\"text-align: right;\">\n",
       "      <th></th>\n",
       "      <th>Model</th>\n",
       "      <th>Accuray</th>\n",
       "      <th>precision_class0</th>\n",
       "      <th>precision_class1</th>\n",
       "      <th>recall_class0</th>\n",
       "      <th>recall_class1</th>\n",
       "      <th>f1_class0</th>\n",
       "      <th>f1_class1</th>\n",
       "    </tr>\n",
       "  </thead>\n",
       "  <tbody>\n",
       "  </tbody>\n",
       "</table>\n",
       "</div>"
      ],
      "text/plain": [
       "Empty DataFrame\n",
       "Columns: [Model, Accuray, precision_class0, precision_class1, recall_class0, recall_class1, f1_class0, f1_class1]\n",
       "Index: []"
      ]
     },
     "execution_count": 318,
     "metadata": {},
     "output_type": "execute_result"
    }
   ],
   "source": [
    "Metric"
   ]
  },
  {
   "cell_type": "code",
   "execution_count": 320,
   "metadata": {},
   "outputs": [
    {
     "name": "stdout",
     "output_type": "stream",
     "text": [
      "['x0_EVP' 'x0_Junior' 'x0_MD' 'x0_Senior' 'x0_VP' 'x1_0' 'x1_1']\n"
     ]
    }
   ],
   "source": [
    "clf = Pipeline(steps=[('Preprocessor', preprocessor)])\n",
    "pl = clf.named_steps['Preprocessor']\n",
    "catpl = pl.named_transformers_['cat_trf']\n",
    "ohe = catpl.named_steps['cat_onehotencode']\n",
    "ohe_features = ohe.get_feature_names()\n",
    "print(ohe_features)\n"
   ]
  },
  {
   "cell_type": "code",
   "execution_count": 339,
   "metadata": {},
   "outputs": [],
   "source": [
    "clf = Pipeline(steps=[('preprocessor', preprocessor)])\n",
    "\n",
    "X_train_pp = pd.DataFrame(clf.fit_transform(X_train))\n",
    "X_test_pp = pd.DataFrame(clf.transform(X_test))"
   ]
  },
  {
   "cell_type": "markdown",
   "metadata": {},
   "source": [
    "Use `SMOTE` from `imblearn.over_sampling` to balance the unbalanced data"
   ]
  },
  {
   "cell_type": "code",
   "execution_count": 341,
   "metadata": {},
   "outputs": [
    {
     "data": {
      "text/plain": [
       "((171, 15), (221,))"
      ]
     },
     "execution_count": 341,
     "metadata": {},
     "output_type": "execute_result"
    }
   ],
   "source": [
    "X_train_pp.shape,y_train.shape"
   ]
  },
  {
   "cell_type": "code",
   "execution_count": 344,
   "metadata": {},
   "outputs": [],
   "source": [
    "#Splitting the data\n",
    "from sklearn.model_selection import train_test_split  \n",
    "X_train=train_data.drop(['Left_Company'], axis='columns')\n",
    "y_train = train_data['Left_Company']\n",
    "X_train, X_test, y_train, y_test = train_test_split(X_train, \n",
    "                                                    y_train, \n",
    "                                                   train_size=0.7, \n",
    "                                                    test_size=0.3,\n",
    "                                                    random_state=0)"
   ]
  },
  {
   "cell_type": "code",
   "execution_count": 349,
   "metadata": {},
   "outputs": [
    {
     "data": {
      "text/plain": [
       "['TotalWorkingHours',\n",
       " 'Billable_Hours',\n",
       " 'Hours_off_Duty',\n",
       " 'Touring_Hours',\n",
       " 'NoOfProjects',\n",
       " 'ActualTimeSpent',\n",
       " 'No_of_companies',\n",
       " 'years_in_company']"
      ]
     },
     "execution_count": 349,
     "metadata": {},
     "output_type": "execute_result"
    }
   ],
   "source": [
    "num_col = train_data.select_dtypes(exclude =['object','category']).columns.tolist()\n",
    "num_col"
   ]
  },
  {
   "cell_type": "code",
   "execution_count": 350,
   "metadata": {},
   "outputs": [],
   "source": [
    "# Apply one-hot encoder to each column with categorical data\n",
    "OH_encoder = OneHotEncoder(handle_unknown='ignore', sparse=False)\n",
    "OH_cols_train = pd.DataFrame(OH_encoder.fit_transform(X_train[cat_col]))\n",
    "OH_cols_test  = pd.DataFrame(OH_encoder.transform(X_test[cat_col]))\n",
    "\n",
    "# One-hot encoding removed index; put it back\n",
    "OH_cols_train.index = X_train.index\n",
    "OH_cols_test.index = X_test.index\n",
    "\n",
    "# One-hot encoding assigns the sequence numbers as the columns names.\n",
    "OH_cols_train.columns = OH_encoder.get_feature_names()\n",
    "OH_cols_test.columns  = OH_encoder.get_feature_names()\n",
    "\n",
    "# Add one-hot encoded columns to imputed numerical features\n",
    "Final_X_train = pd.concat([X_train[num_col], OH_cols_train], axis=1)\n",
    "Final_X_test  = pd.concat([X_test[num_col], OH_cols_test], axis=1)"
   ]
  },
  {
   "cell_type": "code",
   "execution_count": null,
   "metadata": {},
   "outputs": [],
   "source": []
  },
  {
   "cell_type": "code",
   "execution_count": 352,
   "metadata": {},
   "outputs": [
    {
     "name": "stdout",
     "output_type": "stream",
     "text": [
      "length of oversampled data is  306\n",
      "Number of no subscription in oversampled data 153\n",
      "Number of subscription 153\n",
      "Proportion of no subscription data in oversampled data is  0.5\n",
      "Proportion of subscription data in oversampled data is  0.5\n"
     ]
    }
   ],
   "source": [
    "smote = SMOTE(random_state=0)\n",
    "\n",
    "os_data_X,os_data_y=smote.fit_sample(Final_X_train, y_train)\n",
    "\n",
    "os_data_X = pd.DataFrame(data=os_data_X)\n",
    "os_data_y= pd.DataFrame(data=os_data_y,columns=['Left_Company'])\n",
    "\n",
    "# we can Check the numbers of our data\n",
    "print(\"length of oversampled data is \",len(os_data_X))\n",
    "print(\"Number of no subscription in oversampled data\",len(os_data_y[os_data_y['Left_Company']==0]))\n",
    "print(\"Number of subscription\",len(os_data_y[os_data_y['Left_Company']==0]))\n",
    "print(\"Proportion of no subscription data in oversampled data is \",len(os_data_y[os_data_y['Left_Company']==0])/len(os_data_X))\n",
    "print(\"Proportion of subscription data in oversampled data is \",len(os_data_y[os_data_y['Left_Company']==0])/len(os_data_X))"
   ]
  },
  {
   "cell_type": "code",
   "execution_count": 356,
   "metadata": {},
   "outputs": [
    {
     "name": "stdout",
     "output_type": "stream",
     "text": [
      "length of oversampled data is  130\n",
      "Number of no subscription in oversampled data 65\n",
      "Number of subscription 65\n",
      "Proportion of no subscription data in oversampled data is  0.5\n",
      "Proportion of subscription data in oversampled data is  0.5\n"
     ]
    }
   ],
   "source": [
    "smote = SMOTE(random_state=0)\n",
    "\n",
    "os_test_X,os_test_y=smote.fit_sample(Final_X_test, y_test)\n",
    "\n",
    "os_test_X = pd.DataFrame(data=os_test_X)\n",
    "os_test_y= pd.DataFrame(data=os_test_y,columns=['Left_Company'])\n",
    "\n",
    "# we can Check the numbers of our data\n",
    "print(\"length of oversampled data is \",len(os_test_X))\n",
    "print(\"Number of no subscription in oversampled data\",len(os_test_y[os_test_y['Left_Company']==0]))\n",
    "print(\"Number of subscription\",len(os_test_y[os_test_y['Left_Company']==0]))\n",
    "print(\"Proportion of no subscription data in oversampled data is \",len(os_test_y[os_test_y['Left_Company']==0])/len(os_test_X))\n",
    "print(\"Proportion of subscription data in oversampled data is \",len(os_test_y[os_test_y['Left_Company']==0])/len(os_test_X))"
   ]
  },
  {
   "cell_type": "code",
   "execution_count": 354,
   "metadata": {},
   "outputs": [
    {
     "name": "stdout",
     "output_type": "stream",
     "text": [
      "[10:07:36] WARNING: C:/Users/Administrator/workspace/xgboost-win64_release_1.3.0/src/learner.cc:541: \n",
      "Parameters: { classifier__learning_rate, classifier__max_depth, classifier__n_estimators } might not be used.\n",
      "\n",
      "  This may not be accurate due to some parameters are only used in language bindings but\n",
      "  passed down to XGBoost core.  Or some parameters are not used but slip through this\n",
      "  verification. Please open an issue if you find above cases.\n",
      "\n",
      "\n",
      "[10:07:36] WARNING: C:/Users/Administrator/workspace/xgboost-win64_release_1.3.0/src/learner.cc:1061: Starting in XGBoost 1.3.0, the default evaluation metric used with the objective 'binary:logistic' was changed from 'error' to 'logloss'. Explicitly set eval_metric if you'd like to restore the old behavior.\n"
     ]
    },
    {
     "data": {
      "text/plain": [
       "GridSearchCV(cv=5,\n",
       "             estimator=XGBClassifier(base_score=None, booster=None,\n",
       "                                     colsample_bylevel=None,\n",
       "                                     colsample_bynode=None,\n",
       "                                     colsample_bytree=None, gamma=None,\n",
       "                                     gpu_id=None, importance_type='gain',\n",
       "                                     interaction_constraints=None,\n",
       "                                     learning_rate=None, max_delta_step=None,\n",
       "                                     max_depth=None, min_child_weight=None,\n",
       "                                     missing=nan, monotone_constraints=None,\n",
       "                                     n_estimators=100, n_jobs=-1,\n",
       "                                     num_parallel_tree=None, random_state=None,\n",
       "                                     reg_alpha=None, reg_lambda=None,\n",
       "                                     scale_pos_weight=None, subsample=None,\n",
       "                                     tree_method=None, validate_parameters=None,\n",
       "                                     verbosity=None),\n",
       "             n_jobs=6,\n",
       "             param_grid={'classifier__learning_rate': [0.001],\n",
       "                         'classifier__max_depth': [10],\n",
       "                         'classifier__n_estimators': [100]})"
      ]
     },
     "execution_count": 354,
     "metadata": {},
     "output_type": "execute_result"
    }
   ],
   "source": [
    "clf_xgb = XGBClassifier(n_jobs=-1)\n",
    "\n",
    "param_grid = {\n",
    "     'classifier__n_estimators':[100],\n",
    "     'classifier__max_depth': [10],\n",
    "    'classifier__learning_rate' : [0.001]\n",
    "}\n",
    "\n",
    "xgb_grid2 = GridSearchCV(clf_xgb, param_grid= param_grid, cv= 5,n_jobs=6)\n",
    "\n",
    "xgb_grid2.fit(os_data_X,os_data_y)"
   ]
  },
  {
   "cell_type": "code",
   "execution_count": 358,
   "metadata": {},
   "outputs": [
    {
     "name": "stdout",
     "output_type": "stream",
     "text": [
      "\n",
      "            =========================================\n",
      "               CLASSIFICATION REPORT FOR TRAIN DATA\n",
      "            =========================================\n",
      "              precision    recall  f1-score   support\n",
      "\n",
      "         0.0       1.00      1.00      1.00       153\n",
      "         1.0       1.00      1.00      1.00       153\n",
      "\n",
      "    accuracy                           1.00       306\n",
      "   macro avg       1.00      1.00      1.00       306\n",
      "weighted avg       1.00      1.00      1.00       306\n",
      "\n",
      "\n",
      "            =========================================\n",
      "               CLASSIFICATION REPORT FOR TEST DATA\n",
      "            =========================================\n",
      "              precision    recall  f1-score   support\n",
      "\n",
      "         0.0       0.94      1.00      0.97        65\n",
      "         1.0       1.00      0.94      0.97        65\n",
      "\n",
      "    accuracy                           0.97       130\n",
      "   macro avg       0.97      0.97      0.97       130\n",
      "weighted avg       0.97      0.97      0.97       130\n",
      "\n"
     ]
    }
   ],
   "source": [
    "train_pred = xgb_grid2.predict(os_data_X)\n",
    "test_pred = xgb_grid2.predict(os_test_X)\n",
    "\n",
    "#Metric.append(pd.Series([\"xgb_grid2_train\",accuracy_score(y_train,train_pred), precision_score(y_train,train_pred,average = None)[0], \n",
    "#                            precision_score(y_train,train_pred,average = None)[1],\n",
    "#                           recall_score(y_train,train_pred,average = None)[0],recall_score(y_train,train_pred,average = None)[1], \n",
    "#                           f1_score(y_train,train_pred,average = None)[0],\n",
    "#                 f1_score(y_train,train_pred,average = None)[1]], index=Metric.columns ), ignore_index=True)\n",
    "\n",
    "\n",
    "\n",
    "#Metric.append(pd.Series([\"xgb_grid2_test\",accuracy_score(y_test,test_pred), precision_score(y_test,test_pred,average = None)[0], \n",
    " #                           precision_score(y_test,test_pred,average = None)[1],\n",
    "  #                         recall_score(y_test,test_pred,average = None)[0],recall_score(y_test,test_pred,average = None)[1], \n",
    "   #                        f1_score(y_test,test_pred,average = None)[0],\n",
    "    #             f1_score(y_test,test_pred,average = None)[1]], index=Metric.columns ), ignore_index=True)\n",
    "\n",
    "model_evaluation(os_data_y, train_pred, os_test_y, test_pred)"
   ]
  },
  {
   "cell_type": "code",
   "execution_count": 359,
   "metadata": {},
   "outputs": [
    {
     "name": "stdout",
     "output_type": "stream",
     "text": [
      "Wall time: 5.88 s\n"
     ]
    },
    {
     "data": {
      "text/plain": [
       "GridSearchCV(cv=5, estimator=DecisionTreeClassifier(), n_jobs=-1,\n",
       "             param_grid={'criterion': ['entropy']})"
      ]
     },
     "execution_count": 359,
     "metadata": {},
     "output_type": "execute_result"
    }
   ],
   "source": [
    "%%time\n",
    "clf_dt3 = DecisionTreeClassifier()\n",
    "\n",
    "dt_param_grid = {'criterion': ['entropy']}\n",
    "\n",
    "dt_grid3 = GridSearchCV(clf_dt3, param_grid=dt_param_grid, cv=5, n_jobs=-1)\n",
    "\n",
    "dt_grid3.fit(os_data_X,os_data_y)"
   ]
  },
  {
   "cell_type": "code",
   "execution_count": 360,
   "metadata": {},
   "outputs": [
    {
     "name": "stdout",
     "output_type": "stream",
     "text": [
      "\n",
      "            =========================================\n",
      "               CLASSIFICATION REPORT FOR TRAIN DATA\n",
      "            =========================================\n",
      "              precision    recall  f1-score   support\n",
      "\n",
      "         0.0       1.00      1.00      1.00       153\n",
      "         1.0       1.00      1.00      1.00       153\n",
      "\n",
      "    accuracy                           1.00       306\n",
      "   macro avg       1.00      1.00      1.00       306\n",
      "weighted avg       1.00      1.00      1.00       306\n",
      "\n",
      "\n",
      "            =========================================\n",
      "               CLASSIFICATION REPORT FOR TEST DATA\n",
      "            =========================================\n",
      "              precision    recall  f1-score   support\n",
      "\n",
      "         0.0       0.94      0.98      0.96        65\n",
      "         1.0       0.98      0.94      0.96        65\n",
      "\n",
      "    accuracy                           0.96       130\n",
      "   macro avg       0.96      0.96      0.96       130\n",
      "weighted avg       0.96      0.96      0.96       130\n",
      "\n"
     ]
    }
   ],
   "source": [
    "train_pred = dt_grid3.predict(os_data_X)\n",
    "test_pred = dt_grid3.predict(os_test_X)\n",
    "\n",
    "#Metric.append(pd.Series([\"xgb_grid2_train\",accuracy_score(y_train,train_pred), precision_score(y_train,train_pred,average = None)[0], \n",
    "#                            precision_score(y_train,train_pred,average = None)[1],\n",
    "#                           recall_score(y_train,train_pred,average = None)[0],recall_score(y_train,train_pred,average = None)[1], \n",
    "#                           f1_score(y_train,train_pred,average = None)[0],\n",
    "#                 f1_score(y_train,train_pred,average = None)[1]], index=Metric.columns ), ignore_index=True)\n",
    "\n",
    "\n",
    "\n",
    "#Metric.append(pd.Series([\"xgb_grid2_test\",accuracy_score(y_test,test_pred), precision_score(y_test,test_pred,average = None)[0], \n",
    " #                           precision_score(y_test,test_pred,average = None)[1],\n",
    "  #                         recall_score(y_test,test_pred,average = None)[0],recall_score(y_test,test_pred,average = None)[1], \n",
    "   #                        f1_score(y_test,test_pred,average = None)[0],\n",
    "    #             f1_score(y_test,test_pred,average = None)[1]], index=Metric.columns ), ignore_index=True)\n",
    "\n",
    "model_evaluation(os_data_y, train_pred, os_test_y, test_pred)"
   ]
  },
  {
   "cell_type": "code",
   "execution_count": null,
   "metadata": {},
   "outputs": [],
   "source": [
    "clf = Pipeline(steps=[('preprocessor', preprocessor)])\n",
    "\n",
    "X_train_pp = pd.DataFrame(clf.fit_transform(X_train), columns = numcols)\n",
    "X_test_pp = pd.DataFrame(clf.transform(X_test),columns = numcols)"
   ]
  },
  {
   "cell_type": "code",
   "execution_count": null,
   "metadata": {},
   "outputs": [],
   "source": [
    "smote = SMOTE(random_state=0)\n",
    "\n",
    "os_data_X,os_data_y=smote.fit_sample(X_train_pp, y_train)\n",
    "\n",
    "os_data_X = pd.DataFrame(data=os_data_X)\n",
    "os_data_y= pd.DataFrame(data=os_data_y,columns=['Left_Company'])\n",
    "\n",
    "# we can Check the numbers of our data\n",
    "print(\"length of oversampled data is \",len(os_data_X))\n",
    "print(\"Number of no subscription in oversampled data\",len(os_data_y[os_data_y['Left_Company']==0]))\n",
    "print(\"Number of subscription\",len(os_data_y[os_data_y['Left_Company']==0]))\n",
    "print(\"Proportion of no subscription data in oversampled data is \",len(os_data_y[os_data_y['Left_Company']==0])/len(os_data_X))\n",
    "print(\"Proportion of subscription data in oversampled data is \",len(os_data_y[os_data_y['Left_Company']==0])/len(os_data_X))"
   ]
  },
  {
   "cell_type": "code",
   "execution_count": 362,
   "metadata": {
    "scrolled": true
   },
   "outputs": [
    {
     "name": "stdout",
     "output_type": "stream",
     "text": [
      "length of oversampled data is  130\n",
      "Number of no subscription in oversampled data 65\n",
      "Number of subscription 65\n",
      "Proportion of no subscription data in oversampled data is  0.5\n",
      "Proportion of subscription data in oversampled data is  0.5\n"
     ]
    }
   ],
   "source": [
    "smote = SMOTE(random_state=0)\n",
    "\n",
    "os_test_X,os_test_y=smote.fit_sample(X_test_pp, y_test)\n",
    "\n",
    "os_test_X = pd.DataFrame(data=os_test_X)\n",
    "os_test_y= pd.DataFrame(data=os_test_y,columns=['Left_Company'])\n",
    "\n",
    "# we can Check the numbers of our data\n",
    "print(\"length of oversampled data is \",len(os_test_X))\n",
    "print(\"Number of no subscription in oversampled data\",len(os_test_y[os_test_y['Left_Company']==0]))\n",
    "print(\"Number of subscription\",len(os_test_y[os_test_y['Left_Company']==0]))\n",
    "print(\"Proportion of no subscription data in oversampled data is \",len(os_test_y[os_test_y['Left_Company']==0])/len(os_test_X))\n",
    "print(\"Proportion of subscription data in oversampled data is \",len(os_test_y[os_test_y['Left_Company']==0])/len(os_test_X))"
   ]
  },
  {
   "cell_type": "code",
   "execution_count": 366,
   "metadata": {},
   "outputs": [
    {
     "data": {
      "text/plain": [
       "Index(['TotalWorkingHours', 'Billable_Hours', 'Hours_off_Duty',\n",
       "       'Touring_Hours', 'NoOfProjects', 'ActualTimeSpent', 'No_of_companies',\n",
       "       'years_in_company', 'x0_EVP', 'x0_Junior', 'x0_MD', 'x0_Senior',\n",
       "       'x0_VP', 'x1_0', 'x1_1'],\n",
       "      dtype='object')"
      ]
     },
     "execution_count": 366,
     "metadata": {},
     "output_type": "execute_result"
    }
   ],
   "source": [
    "os_data_X.columns"
   ]
  },
  {
   "cell_type": "code",
   "execution_count": null,
   "metadata": {},
   "outputs": [],
   "source": [
    "y_pred_dt=dt_grid_bal.predict(X_unseen_pp)\n",
    "test_attr['Left_Company']=y_pred_dt\n",
    "test_attr.to_csv('MITH_7.csv')"
   ]
  },
  {
   "cell_type": "code",
   "execution_count": null,
   "metadata": {},
   "outputs": [],
   "source": [
    "y_pred_XGB=xgb_grid2.predict(test_data)\n",
    "test_attr['Left_Company']=y_pred_XGB\n",
    "test_attr.to_csv('MITH_8.csv')"
   ]
  },
  {
   "cell_type": "code",
   "execution_count": 368,
   "metadata": {},
   "outputs": [
    {
     "name": "stdout",
     "output_type": "stream",
     "text": [
      "Wall time: 7.54 s\n"
     ]
    },
    {
     "data": {
      "text/plain": [
       "GridSearchCV(cv=5,\n",
       "             estimator=Pipeline(steps=[('classifier',\n",
       "                                        DecisionTreeClassifier())]),\n",
       "             n_jobs=-1,\n",
       "             param_grid={'classifier__criterion': ['entropy', 'gini'],\n",
       "                         'classifier__max_depth': [6, 8, 10, 12],\n",
       "                         'classifier__min_samples_leaf': [1, 5, 10],\n",
       "                         'classifier__min_samples_split': [2, 10, 20]})"
      ]
     },
     "execution_count": 368,
     "metadata": {},
     "output_type": "execute_result"
    }
   ],
   "source": [
    "%%time\n",
    "clf_dt = Pipeline(steps=[('classifier', DecisionTreeClassifier())])\n",
    "\n",
    "dt_param_grid = {'classifier__criterion': ['entropy', 'gini'], 'classifier__max_depth': [6,8,10,12], \n",
    "                 \"classifier__min_samples_split\": [2, 10, 20],\"classifier__min_samples_leaf\": [1, 5, 10]}\n",
    "\n",
    "dt_grid_bal = GridSearchCV(clf_dt, param_grid=dt_param_grid, cv=5, n_jobs=-1)\n",
    "\n",
    "dt_grid_bal.fit(os_data_X,os_data_y)"
   ]
  },
  {
   "cell_type": "code",
   "execution_count": 369,
   "metadata": {},
   "outputs": [
    {
     "name": "stdout",
     "output_type": "stream",
     "text": [
      "1.0\n",
      "0.8783783783783784\n"
     ]
    }
   ],
   "source": [
    "train_pred = dt_grid_bal.predict(os_data_X)\n",
    "test_pred = dt_grid_bal.predict(X_test_pp)\n",
    "\n",
    "print(dt_grid_bal.score(os_data_X, os_data_y))\n",
    "print(dt_grid_bal.score(X_test_pp, y_test))"
   ]
  },
  {
   "cell_type": "code",
   "execution_count": null,
   "metadata": {},
   "outputs": [],
   "source": []
  }
 ],
 "metadata": {
  "kernelspec": {
   "display_name": "Python 3",
   "language": "python",
   "name": "python3"
  },
  "language_info": {
   "codemirror_mode": {
    "name": "ipython",
    "version": 3
   },
   "file_extension": ".py",
   "mimetype": "text/x-python",
   "name": "python",
   "nbconvert_exporter": "python",
   "pygments_lexer": "ipython3",
   "version": "3.7.4"
  }
 },
 "nbformat": 4,
 "nbformat_minor": 2
}
